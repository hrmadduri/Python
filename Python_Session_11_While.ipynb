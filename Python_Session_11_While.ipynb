{
 "cells": [
  {
   "cell_type": "markdown",
   "id": "75b01555-9f04-4e3c-8646-c558650d0534",
   "metadata": {},
   "source": [
    "**Loops**\n",
    "\n",
    "- For loop\n",
    "- while loop: if you want to run an infinite iterations will choose while loop\n",
    "- every loop we need three things\n",
    "   - initial point (starting point)\n",
    "   - increment or decrement\n",
    "   - Condition (stop point)"
   ]
  },
  {
   "cell_type": "code",
   "execution_count": null,
   "id": "6cd516d2-d4c3-419a-b0b5-56ab41f5b8c7",
   "metadata": {},
   "outputs": [],
   "source": [
    "for i in range(1,10,2):\n",
    "    print(i,end=' ')"
   ]
  },
  {
   "cell_type": "code",
   "execution_count": null,
   "id": "36fbfcdc-bd81-4cff-a5e2-60e2fa0f1954",
   "metadata": {},
   "outputs": [],
   "source": [
    "<start point>\n",
    "while <how to stop>:\n",
    "    codeline1\n",
    "    codeline2\n",
    "    <increment or decrement>\n",
    "\n",
    "#while loop has 3 lines"
   ]
  },
  {
   "cell_type": "code",
   "execution_count": null,
   "id": "651bd990-3b8b-4a9e-a64a-24510932a24a",
   "metadata": {},
   "outputs": [],
   "source": [
    "for i in range(1,10):\n",
    "    print(i,end=' ')"
   ]
  },
  {
   "cell_type": "code",
   "execution_count": null,
   "id": "997bde6f-8eaf-4b83-88c7-50faeb9ebbf6",
   "metadata": {},
   "outputs": [],
   "source": [
    "#start point i=1\n",
    "#while <condition to stop>:\n",
    "    #code\n",
    "#i=i+1\n"
   ]
  },
  {
   "cell_type": "code",
   "execution_count": null,
   "id": "8f013edc-b328-4d70-abda-0d32050e0f60",
   "metadata": {},
   "outputs": [],
   "source": [
    "i=1\n",
    "while i<10:\n",
    "    print(i,end=' ')\n",
    "    i=i+1\n",
    "    "
   ]
  },
  {
   "cell_type": "code",
   "execution_count": 3,
   "id": "74d387d3-795e-4e25-a1df-0f2b1a742967",
   "metadata": {},
   "outputs": [
    {
     "name": "stdout",
     "output_type": "stream",
     "text": [
      "1 0 -1 -2 -3 -4 -5 -6 -7 -8 -9 "
     ]
    }
   ],
   "source": [
    "j=1\n",
    "while j<11:\n",
    "    print(j,end=' ')\n",
    "    j=j-1\n",
    "    if j==-10:\n",
    "        break"
   ]
  },
  {
   "cell_type": "code",
   "execution_count": 5,
   "id": "210eb756-250b-436e-94a2-041427f70bce",
   "metadata": {},
   "outputs": [
    {
     "name": "stdout",
     "output_type": "stream",
     "text": [
      "20 19 18 17 16 15 14 13 12 11 10 9 8 7 6 5 4 3 2 1 "
     ]
    }
   ],
   "source": [
    "#20 to 1\n",
    "j=20\n",
    "while j>0:\n",
    "    print(j,end=' ')\n",
    "    j=j-1"
   ]
  },
  {
   "cell_type": "code",
   "execution_count": 6,
   "id": "b7e06967-0f86-4bec-bb55-7af10a42bfe2",
   "metadata": {},
   "outputs": [
    {
     "name": "stdout",
     "output_type": "stream",
     "text": [
      "-20 -19 -18 -17 -16 -15 -14 -13 -12 -11 -10 -9 -8 -7 -6 -5 -4 -3 -2 -1 0 "
     ]
    }
   ],
   "source": [
    "#-20 to 0\n",
    "j=-20\n",
    "while j<1:\n",
    "    print(j,end=' ')\n",
    "    j=j+1"
   ]
  },
  {
   "cell_type": "markdown",
   "id": "8c72f311-219a-41a2-81b6-621ae0e79c7d",
   "metadata": {},
   "source": [
    "**True**"
   ]
  },
  {
   "cell_type": "code",
   "execution_count": 7,
   "id": "0d7c5d12-6f30-4d78-bfc8-2bf1e2a78fae",
   "metadata": {},
   "outputs": [
    {
     "name": "stdout",
     "output_type": "stream",
     "text": [
      "-20 "
     ]
    }
   ],
   "source": [
    "\n",
    "j=-20\n",
    "while True:\n",
    "    print(j,end=' ')\n",
    "    j=j+1\n",
    "    break"
   ]
  },
  {
   "cell_type": "code",
   "execution_count": null,
   "id": "42882940-5e53-46f9-8f15-c3dbeec07207",
   "metadata": {},
   "outputs": [],
   "source": []
  }
 ],
 "metadata": {
  "kernelspec": {
   "display_name": "Python 3 (ipykernel)",
   "language": "python",
   "name": "python3"
  },
  "language_info": {
   "codemirror_mode": {
    "name": "ipython",
    "version": 3
   },
   "file_extension": ".py",
   "mimetype": "text/x-python",
   "name": "python",
   "nbconvert_exporter": "python",
   "pygments_lexer": "ipython3",
   "version": "3.11.7"
  }
 },
 "nbformat": 4,
 "nbformat_minor": 5
}
