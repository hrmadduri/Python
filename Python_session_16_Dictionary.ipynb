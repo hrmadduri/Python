{
 "cells": [
  {
   "cell_type": "markdown",
   "id": "757bd46d-a041-48fe-a114-a7d5fb3952a1",
   "metadata": {},
   "source": [
    "**Dictionary**"
   ]
  },
  {
   "cell_type": "code",
   "execution_count": null,
   "id": "fd84a07a-4d23-4720-b914-7dc247ab1279",
   "metadata": {},
   "outputs": [],
   "source": [
    "string=''\n",
    "list=[]\n",
    "tuple=()\n",
    "set={}\n",
    "dictionary={key:value}"
   ]
  },
  {
   "cell_type": "markdown",
   "id": "d02f4921-b241-4062-8927-7ad7ef4d532c",
   "metadata": {},
   "source": [
    "**zip**\n",
    "\n",
    "- combines the lists\n",
    "- if the length of lists are not same length zip will not work"
   ]
  },
  {
   "cell_type": "code",
   "execution_count": 1,
   "id": "a860b84b-3187-4bf9-8469-81108ee1950f",
   "metadata": {},
   "outputs": [
    {
     "name": "stdout",
     "output_type": "stream",
     "text": [
      "hari 10\n",
      "madhu 20\n",
      "viraj 4\n"
     ]
    }
   ],
   "source": [
    "names=['hari','madhu','viraj']\n",
    "age=[10,20,4]\n",
    "\n",
    "for i,j in zip(names,age):\n",
    "    print(i,j)"
   ]
  },
  {
   "cell_type": "code",
   "execution_count": 2,
   "id": "9656f12d-822e-4cbe-942e-1eb847337863",
   "metadata": {},
   "outputs": [
    {
     "data": {
      "text/plain": [
       "<zip at 0x115301c40>"
      ]
     },
     "execution_count": 2,
     "metadata": {},
     "output_type": "execute_result"
    }
   ],
   "source": [
    "zip(names,age)"
   ]
  },
  {
   "cell_type": "code",
   "execution_count": 3,
   "id": "b70ebcfc-c8c0-4851-9343-e2e2e9dcafd0",
   "metadata": {},
   "outputs": [
    {
     "data": {
      "text/plain": [
       "[('hari', 10), ('madhu', 20), ('viraj', 4)]"
      ]
     },
     "execution_count": 3,
     "metadata": {},
     "output_type": "execute_result"
    }
   ],
   "source": [
    "list(zip(names,age))"
   ]
  },
  {
   "cell_type": "code",
   "execution_count": 5,
   "id": "8ae050a6-0005-4172-9977-4af7e4360bc6",
   "metadata": {},
   "outputs": [
    {
     "data": {
      "text/plain": [
       "dict"
      ]
     },
     "execution_count": 5,
     "metadata": {},
     "output_type": "execute_result"
    }
   ],
   "source": [
    "#dict1={<key>:<value>}\n",
    "dict1={'Ramesh':20,'Suresh':25,'Satish':30}\n",
    "type(dict1)"
   ]
  },
  {
   "cell_type": "markdown",
   "id": "549b4af3-70a0-4546-a339-9a0fe9ce0625",
   "metadata": {},
   "source": [
    "**Create all possibilities of dictionaries**"
   ]
  },
  {
   "cell_type": "code",
   "execution_count": 7,
   "id": "bd7ccddf-6459-4772-9c37-6eacd06e96a5",
   "metadata": {},
   "outputs": [
    {
     "data": {
      "text/plain": [
       "{1: [3, 4, 5], 2: 'name', 3: 9}"
      ]
     },
     "execution_count": 7,
     "metadata": {},
     "output_type": "execute_result"
    }
   ],
   "source": [
    "dict1={1:[3,4,5],2:'name',3:9}\n",
    "dict1"
   ]
  },
  {
   "cell_type": "code",
   "execution_count": 8,
   "id": "f7d666b1-a5c9-474d-a317-5b45f9be11e2",
   "metadata": {},
   "outputs": [
    {
     "ename": "TypeError",
     "evalue": "unhashable type: 'list'",
     "output_type": "error",
     "traceback": [
      "\u001b[0;31m---------------------------------------------------------------------------\u001b[0m",
      "\u001b[0;31mTypeError\u001b[0m                                 Traceback (most recent call last)",
      "Cell \u001b[0;32mIn[8], line 1\u001b[0m\n\u001b[0;32m----> 1\u001b[0m dict1\u001b[38;5;241m=\u001b[39m{[\u001b[38;5;241m1\u001b[39m,\u001b[38;5;241m2\u001b[39m]:\u001b[38;5;124m'\u001b[39m\u001b[38;5;124mfruits\u001b[39m\u001b[38;5;124m'\u001b[39m}\n",
      "\u001b[0;31mTypeError\u001b[0m: unhashable type: 'list'"
     ]
    }
   ],
   "source": [
    "dict1={[1,2]:'fruits'}\n",
    "dict1\n",
    "# key cannot be a mutable\n",
    "# key cannot be a list\n",
    "# key can be a tuple because tuple is immutable"
   ]
  },
  {
   "cell_type": "code",
   "execution_count": 14,
   "id": "5570d69a-055e-4221-b6a4-9f16bd4afad0",
   "metadata": {},
   "outputs": [
    {
     "data": {
      "text/plain": [
       "30"
      ]
     },
     "execution_count": 14,
     "metadata": {},
     "output_type": "execute_result"
    }
   ],
   "source": [
    "dict1={'Hari':25,'Hari':30}\n",
    "dict1['Hari']"
   ]
  },
  {
   "cell_type": "code",
   "execution_count": 10,
   "id": "4f582365-83e5-4112-87d7-eed46c2e7ace",
   "metadata": {},
   "outputs": [
    {
     "data": {
      "text/plain": [
       "{(3, 4): 'fruits'}"
      ]
     },
     "execution_count": 10,
     "metadata": {},
     "output_type": "execute_result"
    }
   ],
   "source": [
    "dict1={(3,4):'fruits'}\n",
    "dict1\n",
    "# tuple is immutable so it is possible"
   ]
  },
  {
   "cell_type": "code",
   "execution_count": 7,
   "id": "3c7e46e0-a2bf-49d6-9320-70e5b69d44c4",
   "metadata": {},
   "outputs": [
    {
     "data": {
      "text/plain": [
       "{1: 'abc', 2: 'name', 3: 9}"
      ]
     },
     "execution_count": 7,
     "metadata": {},
     "output_type": "execute_result"
    }
   ],
   "source": [
    "dict1={1:[3,4,5],2:'name',3:9}\n",
    "dict1[1]='abc'\n",
    "dict1"
   ]
  },
  {
   "cell_type": "code",
   "execution_count": 9,
   "id": "d0219e39-bf47-4df5-9a36-9966bf7d32d1",
   "metadata": {},
   "outputs": [
    {
     "data": {
      "text/plain": [
       "set"
      ]
     },
     "execution_count": 9,
     "metadata": {},
     "output_type": "execute_result"
    }
   ],
   "source": [
    "type({1,2,3})"
   ]
  },
  {
   "cell_type": "code",
   "execution_count": 13,
   "id": "6e1e1fc2-728e-4aca-9679-68f41431c6d4",
   "metadata": {},
   "outputs": [
    {
     "name": "stdout",
     "output_type": "stream",
     "text": [
      "1\n",
      "2\n",
      "3\n",
      "4\n"
     ]
    }
   ],
   "source": [
    "set1={1,2,3,4}\n",
    "for i in set1:\n",
    "    print(i)"
   ]
  },
  {
   "cell_type": "code",
   "execution_count": 25,
   "id": "f560c3f8-0e9d-40c5-8cc4-709753f75d56",
   "metadata": {},
   "outputs": [
    {
     "data": {
      "text/plain": [
       "True"
      ]
     },
     "execution_count": 25,
     "metadata": {},
     "output_type": "execute_result"
    }
   ],
   "source": [
    "set1={1,2,3,4}\n",
    "2 in set1"
   ]
  },
  {
   "cell_type": "code",
   "execution_count": 17,
   "id": "3353b4d6-2c7f-4a36-84d3-b86fb5ffed11",
   "metadata": {},
   "outputs": [
    {
     "data": {
      "text/plain": [
       "'jari'"
      ]
     },
     "execution_count": 17,
     "metadata": {},
     "output_type": "execute_result"
    }
   ],
   "source": [
    "dict1={'Hari':25,'jari':30}\n",
    "max(dict1)"
   ]
  },
  {
   "cell_type": "markdown",
   "id": "d777c8dd-0975-4c70-bb0c-5af0b698a733",
   "metadata": {},
   "source": [
    "**reversed**"
   ]
  },
  {
   "cell_type": "code",
   "execution_count": 19,
   "id": "15fcf4f7-c101-498c-b8ac-abdf9c00f64b",
   "metadata": {},
   "outputs": [
    {
     "data": {
      "text/plain": [
       "['mani', 'jari', 'Hari']"
      ]
     },
     "execution_count": 19,
     "metadata": {},
     "output_type": "execute_result"
    }
   ],
   "source": [
    "dict1={'Hari':25,'jari':30,'mani':90}\n",
    "list(reversed(dict1))"
   ]
  },
  {
   "cell_type": "code",
   "execution_count": 20,
   "id": "9ec1f8b4-0c30-4328-8f58-1eaf9756827a",
   "metadata": {},
   "outputs": [
    {
     "data": {
      "text/plain": [
       "['Hari', 'jari', 'mani']"
      ]
     },
     "execution_count": 20,
     "metadata": {},
     "output_type": "execute_result"
    }
   ],
   "source": [
    "dict1={'jari':30,'Hari':25,'mani':90}\n",
    "list(sorted(dict1))"
   ]
  },
  {
   "cell_type": "code",
   "execution_count": 21,
   "id": "fcc705d1-3b1f-40c8-a563-f3b633ccf661",
   "metadata": {},
   "outputs": [
    {
     "name": "stdout",
     "output_type": "stream",
     "text": [
      "jari\n",
      "Hari\n",
      "mani\n"
     ]
    }
   ],
   "source": [
    "d1={'jari':30,'Hari':25,'mani':90}\n",
    "for i in d1:\n",
    "    print(i)"
   ]
  },
  {
   "cell_type": "markdown",
   "id": "7c708efc-c237-4903-897e-78449ac258c9",
   "metadata": {},
   "source": [
    "**Index**\n"
   ]
  },
  {
   "cell_type": "code",
   "execution_count": 22,
   "id": "921fecfd-fd37-4795-a0ba-56fc892a9776",
   "metadata": {},
   "outputs": [
    {
     "data": {
      "text/plain": [
       "25"
      ]
     },
     "execution_count": 22,
     "metadata": {},
     "output_type": "execute_result"
    }
   ],
   "source": [
    "d1={'jari':30,'Hari':25,'mani':90}\n",
    "\n",
    "#if you want retrieve the values you need to get by keys\n",
    "#Python will never give 'jari':30\n",
    "d1['Hari']"
   ]
  },
  {
   "cell_type": "code",
   "execution_count": 24,
   "id": "19a56c80-4e1e-4098-85bf-698655539f89",
   "metadata": {},
   "outputs": [
    {
     "data": {
      "text/plain": [
       "True"
      ]
     },
     "execution_count": 24,
     "metadata": {},
     "output_type": "execute_result"
    }
   ],
   "source": [
    "d1={'jari':30,'Hari':25,'mani':90}\n",
    "'Hari' in d1"
   ]
  },
  {
   "cell_type": "code",
   "execution_count": 26,
   "id": "060b0c75-e37c-46ff-8a8d-ec688ed14650",
   "metadata": {},
   "outputs": [
    {
     "name": "stdout",
     "output_type": "stream",
     "text": [
      "Manish age is 25\n",
      "Shubam age is 20\n",
      "Govindh age is 15\n"
     ]
    }
   ],
   "source": [
    "d1={'Manish':25,'Shubam':20,'Govindh':15}\n",
    "for i in d1:\n",
    "    print(f'{i} age is {d1[i]}')"
   ]
  },
  {
   "cell_type": "code",
   "execution_count": 27,
   "id": "1937fa28-3081-42d4-8c42-4b04d2321b3c",
   "metadata": {},
   "outputs": [
    {
     "name": "stdout",
     "output_type": "stream",
     "text": [
      "Vignesh age is 20\n",
      "Mohit age is 25\n",
      "Nagesh age is 30\n"
     ]
    }
   ],
   "source": [
    "names=['Vignesh','Mohit','Nagesh']\n",
    "age=['20','25','30']\n",
    "for i,j in zip(names,age):\n",
    "    print(f'{i} age is {j}')"
   ]
  },
  {
   "cell_type": "markdown",
   "id": "178bc370-bbec-4b22-b12e-104e7052d531",
   "metadata": {},
   "source": [
    "**Dictionary to list**"
   ]
  },
  {
   "cell_type": "code",
   "execution_count": 31,
   "id": "f0ad6335-b6c2-40d3-af08-e8ff981efb23",
   "metadata": {},
   "outputs": [
    {
     "name": "stdout",
     "output_type": "stream",
     "text": [
      "['Manish', 'Shubam', 'Govindh']\n",
      "[25, 20, 15]\n"
     ]
    }
   ],
   "source": [
    "d1={'Manish':25,'Shubam':20,'Govindh':15}\n",
    "#seperate keys and values\n",
    "names=[]\n",
    "age=[]\n",
    "for i in d1:\n",
    "    names.append(i)\n",
    "    age.append(d1[i])\n",
    "\n",
    "print(names)\n",
    "print(age)"
   ]
  },
  {
   "cell_type": "code",
   "execution_count": null,
   "id": "20270fee-0932-47a2-9996-06c0d39f1d73",
   "metadata": {},
   "outputs": [],
   "source": [
    "keys=[i for i in d1]\n",
    "values=[d1[i] for i in d1]"
   ]
  },
  {
   "cell_type": "code",
   "execution_count": 35,
   "id": "68f9ce4a-bf17-4d27-9826-b537001e1edb",
   "metadata": {},
   "outputs": [
    {
     "data": {
      "text/plain": [
       "{'Vignesh': '20', 'Mohit': '25', 'Nagesh': '30'}"
      ]
     },
     "execution_count": 35,
     "metadata": {},
     "output_type": "execute_result"
    }
   ],
   "source": [
    "names=['Vignesh','Mohit','Nagesh']\n",
    "age=['20','25','30']\n",
    "dict={}\n",
    "for i,j in zip(names,age):\n",
    "    dict[i]=j\n",
    "\n",
    "dict"
   ]
  },
  {
   "cell_type": "markdown",
   "id": "21b31043-cfe9-4969-b234-d0f8f0c1094f",
   "metadata": {},
   "source": [
    "**empty list**"
   ]
  },
  {
   "cell_type": "code",
   "execution_count": 32,
   "id": "592192ef-181c-43c4-9ff6-305a71755fed",
   "metadata": {},
   "outputs": [
    {
     "data": {
      "text/plain": [
       "[25]"
      ]
     },
     "execution_count": 32,
     "metadata": {},
     "output_type": "execute_result"
    }
   ],
   "source": [
    "l=[]\n",
    "l.append(25)\n",
    "l"
   ]
  },
  {
   "cell_type": "markdown",
   "id": "7da5ce82-77f6-4755-ba89-048bd664ab77",
   "metadata": {},
   "source": [
    "**empty string**"
   ]
  },
  {
   "cell_type": "code",
   "execution_count": 33,
   "id": "5340f479-a2ae-4400-b6b3-44e5527b6ca3",
   "metadata": {},
   "outputs": [
    {
     "data": {
      "text/plain": [
       "'abc'"
      ]
     },
     "execution_count": 33,
     "metadata": {},
     "output_type": "execute_result"
    }
   ],
   "source": [
    "str=''\n",
    "str=str+'abc'\n",
    "str"
   ]
  },
  {
   "cell_type": "markdown",
   "id": "7e7462f6-0d2b-4c87-bb2f-1ff0f5efca4a",
   "metadata": {},
   "source": [
    "**empty dictionary**"
   ]
  },
  {
   "cell_type": "code",
   "execution_count": null,
   "id": "e9eda645-60c0-4f14-8dcf-b1ad5402d45b",
   "metadata": {},
   "outputs": [],
   "source": [
    "d={}\n",
    "d[<key>]=<value>"
   ]
  },
  {
   "cell_type": "code",
   "execution_count": 37,
   "id": "2dfdd1ca-33b4-4bee-b823-1e62d881c0fe",
   "metadata": {},
   "outputs": [
    {
     "data": {
      "text/plain": [
       "{'Vignesh': '20', 'Mohit': '25', 'Nagesh': '30'}"
      ]
     },
     "execution_count": 37,
     "metadata": {},
     "output_type": "execute_result"
    }
   ],
   "source": [
    "names=['Vignesh','Mohit','Nagesh']\n",
    "age=['20','25','30']\n",
    "dict={}\n",
    "for i,j in zip(names,age):\n",
    "    dict[i]=j\n",
    "\n",
    "dict"
   ]
  },
  {
   "cell_type": "markdown",
   "id": "322eff66-1b26-4f6c-a03e-f144f758a30e",
   "metadata": {},
   "source": [
    "**string to list**"
   ]
  },
  {
   "cell_type": "code",
   "execution_count": 41,
   "id": "a962d4c4-f6ce-457a-afef-8b198b365295",
   "metadata": {},
   "outputs": [
    {
     "data": {
      "text/plain": [
       "['hello', 'hai', 'how', 'are', 'you']"
      ]
     },
     "execution_count": 41,
     "metadata": {},
     "output_type": "execute_result"
    }
   ],
   "source": [
    "s='hello hai how are you'\n",
    "s.split()"
   ]
  },
  {
   "cell_type": "markdown",
   "id": "def3b1a5-e8f8-4ed5-8d0a-ca4d9e9eed68",
   "metadata": {},
   "source": [
    "**word frequency**"
   ]
  },
  {
   "cell_type": "code",
   "execution_count": 47,
   "id": "f3402352-ef6e-4c66-b1cc-0855f2ea1d24",
   "metadata": {},
   "outputs": [
    {
     "data": {
      "text/plain": [
       "{'hello': 1, 'hai': 2, 'how': 2, 'are': 1, 'you': 1}"
      ]
     },
     "execution_count": 47,
     "metadata": {},
     "output_type": "execute_result"
    }
   ],
   "source": [
    "s='hello hai hai how are how you'\n",
    "l=s.split()\n",
    "dic1={}\n",
    "for i in l:\n",
    "    dic1[i]=s.count(i)\n",
    "\n",
    "dic1\n"
   ]
  },
  {
   "cell_type": "code",
   "execution_count": 45,
   "id": "94e5da31-6f5f-4729-8a42-72d600bfec4d",
   "metadata": {},
   "outputs": [
    {
     "data": {
      "text/plain": [
       "2"
      ]
     },
     "execution_count": 45,
     "metadata": {},
     "output_type": "execute_result"
    }
   ],
   "source": [
    "s='hello hai hai how are how you'\n",
    "s.count('how')"
   ]
  },
  {
   "cell_type": "code",
   "execution_count": 57,
   "id": "984f9c35-a4e7-4c8a-8e3d-6f7c0b7b065f",
   "metadata": {},
   "outputs": [
    {
     "data": {
      "text/plain": [
       "'Data science is interdisciplinary academic field that uses statistics, scientific computing, scientific methods, \\nprocesses, scientific visualization, algorithms and systems to extract or extrapolate knowledge and insights from potentially noisy, \\nstructured, or unstructured data.Data science also integrates domain knowledge from underlying application domain \\n(e.g., natural sciences, information technology, and medicine). Data science is multifaceted and can be described as science, \\na research paradigm, a research method, a discipline, a workflow, and a profession. '"
      ]
     },
     "execution_count": 57,
     "metadata": {},
     "output_type": "execute_result"
    }
   ],
   "source": [
    "string1=\"\"\"Data science is an interdisciplinary academic field that uses statistics, scientific computing, scientific methods, \n",
    "processes, scientific visualization, algorithms and systems to extract or extrapolate knowledge and insights from potentially noisy, \n",
    "structured, or unstructured data.Data science also integrates domain knowledge from the underlying application domain \n",
    "(e.g., natural sciences, information technology, and medicine). Data science is multifaceted and can be described as a science, \n",
    "a research paradigm, a research method, a discipline, a workflow, and a profession.\"\"\"\n",
    "\n",
    "#task-1: in the above sentence you need to remove a, an, the\n",
    "#task-2: Data first letter Ascii value:68\n",
    "#        science first letter Ascii value: 115\n",
    "set1={'a','an','the'}\n",
    "list1=string1.split(' ')\n",
    "for i in set1:\n",
    "    list1.remove(i)\n",
    "answer=''\n",
    "for i in list1:\n",
    "    answer+=i+' '\n",
    "\n",
    "answer"
   ]
  },
  {
   "cell_type": "code",
   "execution_count": 58,
   "id": "b4ed60ef-565c-4520-bef1-876f72d2eb41",
   "metadata": {},
   "outputs": [
    {
     "data": {
      "text/plain": [
       "'Mango'"
      ]
     },
     "execution_count": 58,
     "metadata": {},
     "output_type": "execute_result"
    }
   ],
   "source": [
    "d={'fruits':['Mango']}\n",
    "d['fruits'][0]"
   ]
  },
  {
   "cell_type": "code",
   "execution_count": 63,
   "id": "5fef4f7c-8283-4f94-8781-036040e26199",
   "metadata": {},
   "outputs": [
    {
     "data": {
      "text/plain": [
       "'Kashmir'"
      ]
     },
     "execution_count": 63,
     "metadata": {},
     "output_type": "execute_result"
    }
   ],
   "source": [
    "d={'Fruites':[{'Apple':['Kashmir']}]}\n",
    "d['Fruites'][0]['Apple'][0]"
   ]
  },
  {
   "cell_type": "code",
   "execution_count": 64,
   "id": "4dbfe8e8-132d-4875-aabe-18b949b05439",
   "metadata": {},
   "outputs": [
    {
     "data": {
      "text/plain": [
       "'India'"
      ]
     },
     "execution_count": 64,
     "metadata": {},
     "output_type": "execute_result"
    }
   ],
   "source": [
    "d={'Fruites':[\n",
    "    {'Apple':\n",
    "     {'Kashmir':\n",
    "      ['India']\n",
    "     }\n",
    "    }\n",
    "     ]\n",
    "  }\n",
    "d\n",
    "#india output\n",
    "d['Fruites'][0]['Apple']['Kashmir'][0]"
   ]
  },
  {
   "cell_type": "code",
   "execution_count": 68,
   "id": "58872b60-80cf-4ff2-a651-5056450b18fd",
   "metadata": {},
   "outputs": [
    {
     "data": {
      "text/plain": [
       "'Shambaji'"
      ]
     },
     "execution_count": 68,
     "metadata": {},
     "output_type": "execute_result"
    }
   ],
   "source": [
    "d={'Fruites':{'Benganapalli':{'Mango':{'Nagpur':{'MH':{'Shivaji':{'Shambaji'}}}}}}}\n",
    "#shabaji\n",
    "list(d['Fruites']['Benganapalli']['Mango']['Nagpur']['MH']['Shivaji'])[0]"
   ]
  },
  {
   "cell_type": "markdown",
   "id": "ae6c87c4-1bb8-42f6-9b20-0d3b74251775",
   "metadata": {},
   "source": [
    "**Dictionary Methods**"
   ]
  },
  {
   "cell_type": "code",
   "execution_count": null,
   "id": "a9cf670a-b8db-4e2f-841f-ec961e801dfe",
   "metadata": {},
   "outputs": [],
   "source": [
    "dir('') # string methods\n",
    "dir([]) # list methods\n",
    "dir(()) # tuple methods\n",
    "dir({}) # dictionary methods"
   ]
  },
  {
   "cell_type": "code",
   "execution_count": 69,
   "id": "e001b5be-2df1-42da-9fa1-41149ffccc15",
   "metadata": {},
   "outputs": [
    {
     "name": "stdout",
     "output_type": "stream",
     "text": [
      "<class 'list'>\n"
     ]
    }
   ],
   "source": [
    "print(type([]))"
   ]
  },
  {
   "cell_type": "code",
   "execution_count": 79,
   "id": "7e492eca-e821-44cf-ba41-c3b9f6bc1fac",
   "metadata": {},
   "outputs": [
    {
     "data": {
      "text/plain": [
       "['__add__',\n",
       " '__class__',\n",
       " '__class_getitem__',\n",
       " '__contains__',\n",
       " '__delattr__',\n",
       " '__delitem__',\n",
       " '__dir__',\n",
       " '__doc__',\n",
       " '__eq__',\n",
       " '__format__',\n",
       " '__ge__',\n",
       " '__getattribute__',\n",
       " '__getitem__',\n",
       " '__getstate__',\n",
       " '__gt__',\n",
       " '__hash__',\n",
       " '__iadd__',\n",
       " '__imul__',\n",
       " '__init__',\n",
       " '__init_subclass__',\n",
       " '__iter__',\n",
       " '__le__',\n",
       " '__len__',\n",
       " '__lt__',\n",
       " '__mul__',\n",
       " '__ne__',\n",
       " '__new__',\n",
       " '__reduce__',\n",
       " '__reduce_ex__',\n",
       " '__repr__',\n",
       " '__reversed__',\n",
       " '__rmul__',\n",
       " '__setattr__',\n",
       " '__setitem__',\n",
       " '__sizeof__',\n",
       " '__str__',\n",
       " '__subclasshook__',\n",
       " 'append',\n",
       " 'clear',\n",
       " 'copy',\n",
       " 'count',\n",
       " 'extend',\n",
       " 'index',\n",
       " 'insert',\n",
       " 'pop',\n",
       " 'remove',\n",
       " 'reverse',\n",
       " 'sort']"
      ]
     },
     "execution_count": 79,
     "metadata": {},
     "output_type": "execute_result"
    }
   ],
   "source": [
    "dir([])"
   ]
  },
  {
   "cell_type": "markdown",
   "id": "83ed02f3-717c-42af-8b94-ece531384f01",
   "metadata": {},
   "source": [
    "**items-keys-values**"
   ]
  },
  {
   "cell_type": "code",
   "execution_count": 73,
   "id": "8275b0b6-339f-4d7b-98b1-118ea3fb9c9f",
   "metadata": {},
   "outputs": [
    {
     "data": {
      "text/plain": [
       "dict_items([('Manish', 25), ('Shubam', 20), ('Govindh', 15)])"
      ]
     },
     "execution_count": 73,
     "metadata": {},
     "output_type": "execute_result"
    }
   ],
   "source": [
    "d={'Manish':25,'Shubam':20,'Govindh':15}\n",
    "d.items()"
   ]
  },
  {
   "cell_type": "code",
   "execution_count": 74,
   "id": "c88159bc-187f-4f7f-8393-4912d06cbf59",
   "metadata": {},
   "outputs": [
    {
     "data": {
      "text/plain": [
       "dict_keys(['Manish', 'Shubam', 'Govindh'])"
      ]
     },
     "execution_count": 74,
     "metadata": {},
     "output_type": "execute_result"
    }
   ],
   "source": [
    "d.keys()"
   ]
  },
  {
   "cell_type": "code",
   "execution_count": 81,
   "id": "f7303e51-1a54-4a45-b694-7a636e6a43ff",
   "metadata": {},
   "outputs": [
    {
     "data": {
      "text/plain": [
       "dict_values([25, 20, 15])"
      ]
     },
     "execution_count": 81,
     "metadata": {},
     "output_type": "execute_result"
    }
   ],
   "source": [
    "d.values()"
   ]
  },
  {
   "cell_type": "markdown",
   "id": "9f580dda-8f8d-4eca-881d-87e90c27ca1e",
   "metadata": {},
   "source": [
    "**Method-1**"
   ]
  },
  {
   "cell_type": "code",
   "execution_count": 82,
   "id": "2ee813b8-6e3a-44dc-a256-81550b2ddefd",
   "metadata": {},
   "outputs": [
    {
     "data": {
      "text/plain": [
       "(['Manish', 'Shubam', 'Govindh'], [25, 20, 15])"
      ]
     },
     "execution_count": 82,
     "metadata": {},
     "output_type": "execute_result"
    }
   ],
   "source": [
    "d={'Manish':25,'Shubam':20,'Govindh':15}\n",
    "keys,values=[],[]\n",
    "for i in d:\n",
    "    keys.append(i)\n",
    "    values.append(d[i])\n",
    "\n",
    "keys,values"
   ]
  },
  {
   "cell_type": "code",
   "execution_count": 83,
   "id": "64db94b0-9b85-440f-a21b-84aad2bb437a",
   "metadata": {},
   "outputs": [
    {
     "data": {
      "text/plain": [
       "dict_keys(['Manish', 'Shubam', 'Govindh'])"
      ]
     },
     "execution_count": 83,
     "metadata": {},
     "output_type": "execute_result"
    }
   ],
   "source": [
    "d.keys()"
   ]
  },
  {
   "cell_type": "code",
   "execution_count": 84,
   "id": "3e04b867-0fa1-48d7-9839-87935b090234",
   "metadata": {},
   "outputs": [
    {
     "data": {
      "text/plain": [
       "dict_keys"
      ]
     },
     "execution_count": 84,
     "metadata": {},
     "output_type": "execute_result"
    }
   ],
   "source": [
    "type(d.keys())"
   ]
  },
  {
   "cell_type": "code",
   "execution_count": 87,
   "id": "557d77e5-dd77-4430-82af-18bc81f3dbec",
   "metadata": {},
   "outputs": [
    {
     "data": {
      "text/plain": [
       "['Manish', 'Shubam', 'Govindh']"
      ]
     },
     "execution_count": 87,
     "metadata": {},
     "output_type": "execute_result"
    }
   ],
   "source": [
    "list(d.keys())"
   ]
  },
  {
   "cell_type": "code",
   "execution_count": 88,
   "id": "2c032944-e35b-4833-9773-b09a80fee38c",
   "metadata": {},
   "outputs": [
    {
     "data": {
      "text/plain": [
       "[25, 20, 15]"
      ]
     },
     "execution_count": 88,
     "metadata": {},
     "output_type": "execute_result"
    }
   ],
   "source": [
    "list(d.values())"
   ]
  },
  {
   "cell_type": "markdown",
   "id": "1f08ea34-7511-49f0-aa9c-b8f0045294f6",
   "metadata": {},
   "source": [
    "**Method-2**"
   ]
  },
  {
   "cell_type": "code",
   "execution_count": 89,
   "id": "dcee1b6d-fd1f-4c05-ae9f-0e3e06c9d2d1",
   "metadata": {},
   "outputs": [
    {
     "data": {
      "text/plain": [
       "(['Manish', 'Shubam', 'Govindh'], [25, 20, 15])"
      ]
     },
     "execution_count": 89,
     "metadata": {},
     "output_type": "execute_result"
    }
   ],
   "source": [
    "d={'Manish':25,'Shubam':20,'Govindh':15}\n",
    "keys=list(d.keys())\n",
    "values=list(d.values())\n",
    "keys,values"
   ]
  },
  {
   "cell_type": "code",
   "execution_count": 90,
   "id": "687c34f3-7539-4c76-ba4e-1b1e1c4d548b",
   "metadata": {},
   "outputs": [
    {
     "data": {
      "text/plain": [
       "dict_items([('Manish', 25), ('Shubam', 20), ('Govindh', 15)])"
      ]
     },
     "execution_count": 90,
     "metadata": {},
     "output_type": "execute_result"
    }
   ],
   "source": [
    "d.items()"
   ]
  },
  {
   "cell_type": "markdown",
   "id": "35b1c11f-408e-4a68-8e3f-40072174f6e0",
   "metadata": {},
   "source": [
    "**Method 3**"
   ]
  },
  {
   "cell_type": "code",
   "execution_count": 95,
   "id": "aab7f887-4e08-4a33-91b5-2cc3abb4ba1e",
   "metadata": {},
   "outputs": [
    {
     "data": {
      "text/plain": [
       "(['Manish', 'Shubam', 'Govindh'], [25, 20, 15])"
      ]
     },
     "execution_count": 95,
     "metadata": {},
     "output_type": "execute_result"
    }
   ],
   "source": [
    "keys,values=[],[]\n",
    "for i,j in d.items():\n",
    "    keys.append(i)\n",
    "    values.append(j)\n",
    "\n",
    "keys,values"
   ]
  },
  {
   "cell_type": "code",
   "execution_count": 102,
   "id": "cb8068bf-088b-41cd-86d9-14b9fc1c9559",
   "metadata": {},
   "outputs": [],
   "source": [
    "a=10,20   #works\n",
    "a,b=10,20  #works\n",
    "#a,b=10     #do not work"
   ]
  },
  {
   "cell_type": "code",
   "execution_count": 103,
   "id": "7cffd15d-8131-45cf-9af3-a1cb596adb1c",
   "metadata": {},
   "outputs": [
    {
     "data": {
      "text/plain": [
       "['__class__',\n",
       " '__class_getitem__',\n",
       " '__contains__',\n",
       " '__delattr__',\n",
       " '__delitem__',\n",
       " '__dir__',\n",
       " '__doc__',\n",
       " '__eq__',\n",
       " '__format__',\n",
       " '__ge__',\n",
       " '__getattribute__',\n",
       " '__getitem__',\n",
       " '__getstate__',\n",
       " '__gt__',\n",
       " '__hash__',\n",
       " '__init__',\n",
       " '__init_subclass__',\n",
       " '__ior__',\n",
       " '__iter__',\n",
       " '__le__',\n",
       " '__len__',\n",
       " '__lt__',\n",
       " '__ne__',\n",
       " '__new__',\n",
       " '__or__',\n",
       " '__reduce__',\n",
       " '__reduce_ex__',\n",
       " '__repr__',\n",
       " '__reversed__',\n",
       " '__ror__',\n",
       " '__setattr__',\n",
       " '__setitem__',\n",
       " '__sizeof__',\n",
       " '__str__',\n",
       " '__subclasshook__',\n",
       " 'clear',\n",
       " 'copy',\n",
       " 'fromkeys',\n",
       " 'get',\n",
       " 'items',\n",
       " 'keys',\n",
       " 'pop',\n",
       " 'popitem',\n",
       " 'setdefault',\n",
       " 'update',\n",
       " 'values']"
      ]
     },
     "execution_count": 103,
     "metadata": {},
     "output_type": "execute_result"
    }
   ],
   "source": [
    "dir({})"
   ]
  },
  {
   "cell_type": "code",
   "execution_count": null,
   "id": "7b2e4e79-5d36-49c5-964b-a0e6434304a8",
   "metadata": {},
   "outputs": [],
   "source": []
  }
 ],
 "metadata": {
  "kernelspec": {
   "display_name": "Python 3 (ipykernel)",
   "language": "python",
   "name": "python3"
  },
  "language_info": {
   "codemirror_mode": {
    "name": "ipython",
    "version": 3
   },
   "file_extension": ".py",
   "mimetype": "text/x-python",
   "name": "python",
   "nbconvert_exporter": "python",
   "pygments_lexer": "ipython3",
   "version": "3.11.7"
  }
 },
 "nbformat": 4,
 "nbformat_minor": 5
}
