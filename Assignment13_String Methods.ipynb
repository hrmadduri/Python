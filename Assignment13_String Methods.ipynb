{
 "cells": [
  {
   "cell_type": "code",
   "execution_count": null,
   "id": "03584f2e-6800-4f60-86cb-d1708377fbbd",
   "metadata": {},
   "outputs": [],
   "source": [
    "split\n",
    "strip/lstrip/rstrip\n",
    "startswith/endswith"
   ]
  },
  {
   "cell_type": "code",
   "execution_count": 1,
   "id": "0fb4f420-81c0-4753-b8c1-032738d6b87d",
   "metadata": {},
   "outputs": [
    {
     "data": {
      "text/plain": [
       "['Welcome', 'to', 'Naresh', 'IT']"
      ]
     },
     "execution_count": 1,
     "metadata": {},
     "output_type": "execute_result"
    }
   ],
   "source": [
    "str1='Welcome to Naresh IT.'\n",
    "str1.split()"
   ]
  },
  {
   "cell_type": "code",
   "execution_count": 2,
   "id": "e88afcdd-0616-4be7-abe3-06c5727d2a6e",
   "metadata": {},
   "outputs": [
    {
     "data": {
      "text/plain": [
       "['W', 'lcom', ' to Nar', 'sh IT']"
      ]
     },
     "execution_count": 2,
     "metadata": {},
     "output_type": "execute_result"
    }
   ],
   "source": [
    "str1.split('e')"
   ]
  },
  {
   "cell_type": "code",
   "execution_count": 3,
   "id": "4d0fb1a9-db3a-4dd9-95c0-0ee26f0e1277",
   "metadata": {},
   "outputs": [
    {
     "data": {
      "text/plain": [
       "'Welcome to Naresh IT'"
      ]
     },
     "execution_count": 3,
     "metadata": {},
     "output_type": "execute_result"
    }
   ],
   "source": [
    "str1='Welcome to Naresh IT.'\n",
    "str1.strip('.')"
   ]
  },
  {
   "cell_type": "code",
   "execution_count": 4,
   "id": "4bc4424f-63fd-4937-bdf8-81eca6c746c0",
   "metadata": {},
   "outputs": [
    {
     "data": {
      "text/plain": [
       "'Welcome to Naresh IT.'"
      ]
     },
     "execution_count": 4,
     "metadata": {},
     "output_type": "execute_result"
    }
   ],
   "source": [
    "str1='.Welcome to Naresh IT.'\n",
    "str1.lstrip('.')"
   ]
  },
  {
   "cell_type": "code",
   "execution_count": 5,
   "id": "fe53094c-3ca1-43e9-ae74-f5bb63395c26",
   "metadata": {},
   "outputs": [
    {
     "data": {
      "text/plain": [
       "'.Welcome to Naresh IT'"
      ]
     },
     "execution_count": 5,
     "metadata": {},
     "output_type": "execute_result"
    }
   ],
   "source": [
    "str1.rstrip('.')"
   ]
  },
  {
   "cell_type": "code",
   "execution_count": 12,
   "id": "0796ad1f-e3e6-4f84-a0aa-a5ff2de524fd",
   "metadata": {},
   "outputs": [
    {
     "data": {
      "text/plain": [
       "False"
      ]
     },
     "execution_count": 12,
     "metadata": {},
     "output_type": "execute_result"
    }
   ],
   "source": [
    "str1='Welcome to Naresh IT.'\n",
    "str1.startswith('come')"
   ]
  },
  {
   "cell_type": "code",
   "execution_count": 13,
   "id": "e278a5b1-348b-48ca-9ab1-2e456e54ffc5",
   "metadata": {},
   "outputs": [
    {
     "data": {
      "text/plain": [
       "True"
      ]
     },
     "execution_count": 13,
     "metadata": {},
     "output_type": "execute_result"
    }
   ],
   "source": [
    "str1.startswith('W')"
   ]
  },
  {
   "cell_type": "code",
   "execution_count": 14,
   "id": "45b00e0e-7e4f-45fd-8dbf-72ae5e1f5166",
   "metadata": {},
   "outputs": [
    {
     "data": {
      "text/plain": [
       "True"
      ]
     },
     "execution_count": 14,
     "metadata": {},
     "output_type": "execute_result"
    }
   ],
   "source": [
    "str1.startswith('Wel')"
   ]
  },
  {
   "cell_type": "code",
   "execution_count": 15,
   "id": "6d6df947-2ac6-4c82-8a5c-9d6a3ebf79d2",
   "metadata": {},
   "outputs": [
    {
     "data": {
      "text/plain": [
       "True"
      ]
     },
     "execution_count": 15,
     "metadata": {},
     "output_type": "execute_result"
    }
   ],
   "source": [
    "str1.startswith('Welcome')"
   ]
  },
  {
   "cell_type": "code",
   "execution_count": 16,
   "id": "4a1cc730-cb0d-497d-a865-7b2ac8e56015",
   "metadata": {},
   "outputs": [
    {
     "data": {
      "text/plain": [
       "True"
      ]
     },
     "execution_count": 16,
     "metadata": {},
     "output_type": "execute_result"
    }
   ],
   "source": [
    "str1.startswith('come',3)"
   ]
  },
  {
   "cell_type": "code",
   "execution_count": 17,
   "id": "cffec6d4-d070-48a0-a421-0f043a7f1d08",
   "metadata": {},
   "outputs": [
    {
     "data": {
      "text/plain": [
       "True"
      ]
     },
     "execution_count": 17,
     "metadata": {},
     "output_type": "execute_result"
    }
   ],
   "source": [
    "str1.endswith('.')"
   ]
  },
  {
   "cell_type": "code",
   "execution_count": null,
   "id": "edd2dda7-8bed-4993-8ab2-2ca1b6a6257b",
   "metadata": {},
   "outputs": [],
   "source": []
  }
 ],
 "metadata": {
  "kernelspec": {
   "display_name": "Python 3 (ipykernel)",
   "language": "python",
   "name": "python3"
  },
  "language_info": {
   "codemirror_mode": {
    "name": "ipython",
    "version": 3
   },
   "file_extension": ".py",
   "mimetype": "text/x-python",
   "name": "python",
   "nbconvert_exporter": "python",
   "pygments_lexer": "ipython3",
   "version": "3.11.7"
  }
 },
 "nbformat": 4,
 "nbformat_minor": 5
}
