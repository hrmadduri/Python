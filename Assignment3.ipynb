{
 "cells": [
  {
   "cell_type": "markdown",
   "id": "097f8856-8da6-40db-b549-92f1417fcb3c",
   "metadata": {},
   "source": [
    "\n",
    "3. \n",
    "\n",
    "4. \n",
    "5.\n",
    "6. \n",
    "7. \n",
    "8. If a four-digit number is input through the keyboard, write a program to obtain the sum of the first and last\n",
    "digit of this number.\n",
    "9. In a town, the percentage of men is 52. The percentage of total literacy is 48. If total percentage of literate\n",
    "men is 35 of the total population, write a program to find the total number of illiterate men and women if\n",
    "the population of the town is 80,000.\n",
    "10. A cashier has currency notes of denominations 10, 50 and 100. If the amount to be withdrawn is input\n",
    "through the keyboard in hundreds, find the total number of currency notes of each denomination the\n",
    "cashier will have to give to the withdrawer."
   ]
  },
  {
   "cell_type": "code",
   "execution_count": 1,
   "id": "44865f2a-5062-4ab6-8f15-fc80c768f89b",
   "metadata": {},
   "outputs": [
    {
     "name": "stdin",
     "output_type": "stream",
     "text": [
      "Base Salary :  80000\n"
     ]
    },
    {
     "name": "stdout",
     "output_type": "stream",
     "text": [
      "Ramesh base salary is 80000. His dearness allowance is 32000.0, and house rent allowance is 16000.0. The gross salary is 128000.0\n"
     ]
    }
   ],
   "source": [
    "#Ramesh’s basic salary is input through the keyboard. His dearness allowance is 40% of basic salary, \n",
    "#and house rent allowance is 20% of basic salary. Write a program to calculate his gross salary.\n",
    "base=eval(input('Base Salary : '))\n",
    "dear=base*40/100\n",
    "house=base*20/100\n",
    "print(f'Ramesh base salary is {base}. His dearness allowance is {dear}, and house rent allowance is {house}. The gross salary is {base+dear+house}')"
   ]
  },
  {
   "cell_type": "code",
   "execution_count": 3,
   "id": "3f04dedb-386a-4e1b-bcad-c6bd0e2ff539",
   "metadata": {},
   "outputs": [
    {
     "name": "stdin",
     "output_type": "stream",
     "text": [
      "enter distance in km 50\n"
     ]
    },
    {
     "name": "stdout",
     "output_type": "stream",
     "text": [
      "distance in meters is 50000\n",
      "distance in inches is 1968499.9999999998\n",
      "distance in feet is 164000.0\n",
      "distance in centimeters is 5000000\n"
     ]
    }
   ],
   "source": [
    "#The distance between two cities (in km.) is input through the keyboard. Write a program to convert and\n",
    "#print this distance in meters, feet, inches and centimeters.\n",
    "distance=eval(input('enter distance in km'))\n",
    "meters=distance*1000\n",
    "inches=meters*39.37\n",
    "feet=meters*3.28\n",
    "print(f'distance in meters is {meters}')\n",
    "print(f'distance in inches is {inches}')\n",
    "print(f'distance in feet is {feet}')\n",
    "print(f'distance in centimeters is {meters*100}')"
   ]
  },
  {
   "cell_type": "code",
   "execution_count": 14,
   "id": "bb69393c-7051-466b-a70b-46029179f88b",
   "metadata": {},
   "outputs": [
    {
     "name": "stdin",
     "output_type": "stream",
     "text": [
      "enter subject 1 marks :  90\n",
      "enter subject 2 marks :  89\n",
      "enter subject 3 marks :  67\n",
      "enter subject 4 marks :  78\n",
      "enter subject 5 marks :  99\n"
     ]
    },
    {
     "name": "stdout",
     "output_type": "stream",
     "text": [
      "Aggregate = 423\n",
      "Percentage = 84.6\n"
     ]
    }
   ],
   "source": [
    "#If the marks obtained by a student in five different subjects are input through the keyboard, find out the\n",
    "#aggregate marks and percentage marks obtained by the student. Assume that the maximum marks that\n",
    "#can be obtained by a student in each subject is 100.\n",
    "s1=eval(input('enter subject 1 marks : '))\n",
    "s2=eval(input('enter subject 2 marks : '))\n",
    "s3=eval(input('enter subject 3 marks : '))\n",
    "s4=eval(input('enter subject 4 marks : '))\n",
    "s5=eval(input('enter subject 5 marks : '))\n",
    "maxmarks=100\n",
    "print(f'Aggregate = {(s1+s2+s3+s4+s5)}')\n",
    "print(f'Percentage = {((s1+s2+s3+s4+s5)/(5*maxmarks))*100}')"
   ]
  },
  {
   "cell_type": "code",
   "execution_count": 15,
   "id": "4a901322-35d1-4ee9-a088-442404f03f42",
   "metadata": {},
   "outputs": [
    {
     "name": "stdin",
     "output_type": "stream",
     "text": [
      "Temperature of a city in Fahrenheit degrees 80\n"
     ]
    },
    {
     "name": "stdout",
     "output_type": "stream",
     "text": [
      "Temperature of a city in Centigrade degrees if 26.666666666666668\n"
     ]
    }
   ],
   "source": [
    "#Temperature of a city in Fahrenheit degrees is input through the keyboard. Write a program to convert this\n",
    "#temperature into Centigrade degrees.\n",
    "temp=eval(input('Temperature of a city in Fahrenheit degrees'))\n",
    "print(f'Temperature of a city in Centigrade degrees if {(temp-32)*(5/9)}')"
   ]
  },
  {
   "cell_type": "code",
   "execution_count": 22,
   "id": "606748c4-bd0e-4350-87a1-2a4dfbc1118b",
   "metadata": {},
   "outputs": [
    {
     "name": "stdin",
     "output_type": "stream",
     "text": [
      "enter length -  5\n",
      "enter length -  6\n",
      "enter length -  4\n"
     ]
    },
    {
     "name": "stdout",
     "output_type": "stream",
     "text": [
      "the area and perimeter of the rectangle are 30 and 22. The area and circumference of the circle are 50.26548245743669 and 25.132741228718345.\n"
     ]
    }
   ],
   "source": [
    "#The length & breadth of a rectangle and radius of a circle are input through the keyboard. Write a program\n",
    "#to calculate the area & perimeter of the rectangle, and the area & circumference of the circle.\n",
    "import math\n",
    "l=eval(input('enter length - '))\n",
    "b=eval(input('enter length - '))\n",
    "r=eval(input('enter length - '))\n",
    "pi=math.pi\n",
    "print(f'the area and perimeter of the rectangle are {l*b} and {2*(l+b)}. The area and circumference of the circle are {pi*r*r} and {2*pi*r}.')"
   ]
  },
  {
   "cell_type": "code",
   "execution_count": 25,
   "id": "d687f800-ff35-4aff-8fde-eb47c4c7d465",
   "metadata": {},
   "outputs": [
    {
     "name": "stdin",
     "output_type": "stream",
     "text": [
      "enter number 1 :  5\n",
      "enter number 2 :  6\n"
     ]
    },
    {
     "name": "stdout",
     "output_type": "stream",
     "text": [
      "6 5\n"
     ]
    }
   ],
   "source": [
    "#Two numbers are input through the keyboard into two locations C and D. Write a program to interchangethe contents of C and D.\n",
    "C=eval(input('enter number 1 : '))\n",
    "D=eval(input('enter number 2 : '))\n",
    "a=C\n",
    "C=D\n",
    "D=a\n",
    "print(f'{C} {D}')"
   ]
  },
  {
   "cell_type": "code",
   "execution_count": null,
   "id": "3b9ac68b-c492-424b-a54a-8192f31d0f15",
   "metadata": {},
   "outputs": [],
   "source": [
    "#If a five-digit number is input through the keyboard, write a program to reverse the number.\n",
    "n1=eval(input('Enter 5 digit number'))\n"
   ]
  }
 ],
 "metadata": {
  "kernelspec": {
   "display_name": "Python 3 (ipykernel)",
   "language": "python",
   "name": "python3"
  },
  "language_info": {
   "codemirror_mode": {
    "name": "ipython",
    "version": 3
   },
   "file_extension": ".py",
   "mimetype": "text/x-python",
   "name": "python",
   "nbconvert_exporter": "python",
   "pygments_lexer": "ipython3",
   "version": "3.11.7"
  }
 },
 "nbformat": 4,
 "nbformat_minor": 5
}
