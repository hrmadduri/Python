{
 "cells": [
  {
   "cell_type": "markdown",
   "id": "6ee5e7c8-b846-4e34-98bc-97ed614dbb96",
   "metadata": {},
   "source": [
    "**Strings**\n",
    "\n",
    "=============Part-1=======\n",
    " - Initialization, type, len , max, min, sorted, reversed, in, for loop using in, index, for loop with index, mutable, concatenation\n",
    "\n",
    "===========Part - 2==============\n",
    " - methods"
   ]
  },
  {
   "cell_type": "code",
   "execution_count": 1,
   "id": "a849ffd2-e4c2-48f0-95e2-a40172c7e7de",
   "metadata": {},
   "outputs": [
    {
     "data": {
      "text/plain": [
       "6"
      ]
     },
     "execution_count": 1,
     "metadata": {},
     "output_type": "execute_result"
    }
   ],
   "source": [
    "str1='python'\n",
    "len(str1)"
   ]
  },
  {
   "cell_type": "code",
   "execution_count": 2,
   "id": "1cf9b48f-cc81-411a-8a8a-ac281dd1110e",
   "metadata": {},
   "outputs": [
    {
     "data": {
      "text/plain": [
       "'y'"
      ]
     },
     "execution_count": 2,
     "metadata": {},
     "output_type": "execute_result"
    }
   ],
   "source": [
    "max(str1)"
   ]
  },
  {
   "cell_type": "code",
   "execution_count": 3,
   "id": "e5861d57-54c4-460a-aab4-b18555316fc0",
   "metadata": {},
   "outputs": [
    {
     "data": {
      "text/plain": [
       "'h'"
      ]
     },
     "execution_count": 3,
     "metadata": {},
     "output_type": "execute_result"
    }
   ],
   "source": [
    "min(str1)"
   ]
  },
  {
   "cell_type": "code",
   "execution_count": 4,
   "id": "a4c9e6c9-063e-4273-9c77-5463c28adfb1",
   "metadata": {},
   "outputs": [
    {
     "data": {
      "text/plain": [
       "['h', 'n', 'o', 'p', 't', 'y']"
      ]
     },
     "execution_count": 4,
     "metadata": {},
     "output_type": "execute_result"
    }
   ],
   "source": [
    "sorted(str1)"
   ]
  },
  {
   "cell_type": "code",
   "execution_count": 10,
   "id": "8c529127-9cb9-466f-a0cf-a906938714f4",
   "metadata": {},
   "outputs": [
    {
     "data": {
      "text/plain": [
       "['y', 't', 'p', 'o', 'n', 'h']"
      ]
     },
     "execution_count": 10,
     "metadata": {},
     "output_type": "execute_result"
    }
   ],
   "source": [
    "sorted(str1,reverse=True)"
   ]
  },
  {
   "cell_type": "markdown",
   "id": "b156e166-a363-4143-8cba-a7f7e5e7d820",
   "metadata": {},
   "source": [
    "** Keywords vs Methods **"
   ]
  },
  {
   "cell_type": "code",
   "execution_count": 11,
   "id": "64085a3f-1f1e-433e-ad1c-05fa0d33841b",
   "metadata": {},
   "outputs": [
    {
     "data": {
      "text/plain": [
       "0j"
      ]
     },
     "execution_count": 11,
     "metadata": {},
     "output_type": "execute_result"
    }
   ],
   "source": [
    "complex()"
   ]
  },
  {
   "cell_type": "code",
   "execution_count": 12,
   "id": "4511e798-c21c-487f-8fce-0878045f9d3b",
   "metadata": {},
   "outputs": [
    {
     "data": {
      "text/plain": [
       "(10+20j)"
      ]
     },
     "execution_count": 12,
     "metadata": {},
     "output_type": "execute_result"
    }
   ],
   "source": [
    "complex(10,20)"
   ]
  },
  {
   "cell_type": "code",
   "execution_count": 13,
   "id": "f6fb2041-7555-43e8-a201-53e70ecdf3f4",
   "metadata": {},
   "outputs": [
    {
     "data": {
      "text/plain": [
       "(20+30j)"
      ]
     },
     "execution_count": 13,
     "metadata": {},
     "output_type": "execute_result"
    }
   ],
   "source": [
    "complex(real=20,imag=30)"
   ]
  },
  {
   "cell_type": "code",
   "execution_count": 14,
   "id": "cdc091cb-6252-4ce8-a97a-761304edf927",
   "metadata": {},
   "outputs": [
    {
     "ename": "TypeError",
     "evalue": "Random.randint() missing 2 required positional arguments: 'a' and 'b'",
     "output_type": "error",
     "traceback": [
      "\u001b[0;31m---------------------------------------------------------------------------\u001b[0m",
      "\u001b[0;31mTypeError\u001b[0m                                 Traceback (most recent call last)",
      "Cell \u001b[0;32mIn[14], line 2\u001b[0m\n\u001b[1;32m      1\u001b[0m \u001b[38;5;28;01mimport\u001b[39;00m \u001b[38;5;21;01mrandom\u001b[39;00m\n\u001b[0;32m----> 2\u001b[0m random\u001b[38;5;241m.\u001b[39mrandint()\n",
      "\u001b[0;31mTypeError\u001b[0m: Random.randint() missing 2 required positional arguments: 'a' and 'b'"
     ]
    }
   ],
   "source": [
    "import random\n",
    "random.randint()"
   ]
  },
  {
   "cell_type": "code",
   "execution_count": 16,
   "id": "5c3ae6da-dd10-4db1-aa46-e0f56959d703",
   "metadata": {},
   "outputs": [
    {
     "ename": "TypeError",
     "evalue": "sorted expected 1 argument, got 0",
     "output_type": "error",
     "traceback": [
      "\u001b[0;31m---------------------------------------------------------------------------\u001b[0m",
      "\u001b[0;31mTypeError\u001b[0m                                 Traceback (most recent call last)",
      "Cell \u001b[0;32mIn[16], line 1\u001b[0m\n\u001b[0;32m----> 1\u001b[0m \u001b[38;5;28msorted\u001b[39m(iterable\u001b[38;5;241m=\u001b[39m\u001b[38;5;28;01mTrue\u001b[39;00m)\n\u001b[1;32m      2\u001b[0m random\u001b[38;5;241m.\u001b[39mrandint(a\u001b[38;5;241m=\u001b[39m\u001b[38;5;241m10\u001b[39m,b\u001b[38;5;241m=\u001b[39m\u001b[38;5;241m30\u001b[39m)\n",
      "\u001b[0;31mTypeError\u001b[0m: sorted expected 1 argument, got 0"
     ]
    }
   ],
   "source": [
    "sorted(iterable=True)\n",
    "random.randint(a=10,b=30)"
   ]
  },
  {
   "cell_type": "code",
   "execution_count": 17,
   "id": "b196dd58-2e20-4c5c-b033-4e9a9a064c34",
   "metadata": {},
   "outputs": [
    {
     "data": {
      "text/plain": [
       "<reversed at 0x107a1e530>"
      ]
     },
     "execution_count": 17,
     "metadata": {},
     "output_type": "execute_result"
    }
   ],
   "source": [
    "reversed('python')"
   ]
  },
  {
   "cell_type": "code",
   "execution_count": 24,
   "id": "29dddcc6-fc24-4048-b867-5cbcadd8072a",
   "metadata": {},
   "outputs": [
    {
     "name": "stdout",
     "output_type": "stream",
     "text": [
      "jariv"
     ]
    }
   ],
   "source": [
    "# the string is revered at the above memory location\n",
    "#in this scenarios we need to use for loop to see answer\n",
    "str1='viraj'\n",
    "output=reversed(str1)\n",
    "for i in output:\n",
    "    print(i,end='')"
   ]
  },
  {
   "cell_type": "code",
   "execution_count": 5,
   "id": "f7915bac-89f2-4e4f-8715-dec5cc8a3a78",
   "metadata": {},
   "outputs": [
    {
     "data": {
      "text/plain": [
       "['y', 't', 'p', 'o', 'n', 'h']"
      ]
     },
     "execution_count": 5,
     "metadata": {},
     "output_type": "execute_result"
    }
   ],
   "source": [
    "sorted('python',reverse=True)\n"
   ]
  },
  {
   "cell_type": "code",
   "execution_count": 4,
   "id": "124f558b-3ae0-49f2-813d-07c0c7dece63",
   "metadata": {},
   "outputs": [
    {
     "name": "stdout",
     "output_type": "stream",
     "text": [
      "nohtyp"
     ]
    }
   ],
   "source": [
    "output=reversed('python')\n",
    "for i in output:\n",
    "    print(i,end=\"\")"
   ]
  },
  {
   "cell_type": "code",
   "execution_count": 9,
   "id": "2d464689-b00b-4e75-bdc2-edeaa1dddd88",
   "metadata": {},
   "outputs": [
    {
     "data": {
      "text/plain": [
       "['y', 't', 'p', 'o', 'n', 'h']"
      ]
     },
     "execution_count": 9,
     "metadata": {},
     "output_type": "execute_result"
    }
   ],
   "source": [
    "sorted('python',reverse=True)"
   ]
  },
  {
   "cell_type": "markdown",
   "id": "36f8e418-1d48-4643-9bde-3a9dbad64b44",
   "metadata": {},
   "source": [
    "- slash left side do not provide the argument name\n",
    "- slash right side we need to give argument name also"
   ]
  },
  {
   "cell_type": "code",
   "execution_count": 11,
   "id": "eba61896-99cb-41e0-a336-5dd3fcfb0395",
   "metadata": {},
   "outputs": [
    {
     "data": {
      "text/plain": [
       "True"
      ]
     },
     "execution_count": 11,
     "metadata": {},
     "output_type": "execute_result"
    }
   ],
   "source": [
    "str1 ='naresh'\n",
    "'n' in str1"
   ]
  },
  {
   "cell_type": "markdown",
   "id": "2178cdd2-176f-4d35-bb56-f1cd2cf1d5a3",
   "metadata": {},
   "source": [
    "**Note**\n",
    "\n",
    "- in operator directly access the letters"
   ]
  },
  {
   "cell_type": "code",
   "execution_count": 12,
   "id": "e43670e6-8d30-464b-9294-a55dfd37bfee",
   "metadata": {},
   "outputs": [
    {
     "name": "stdout",
     "output_type": "stream",
     "text": [
      "3\n"
     ]
    }
   ],
   "source": [
    "#Q1) WAP ask the user count how many 'a' are present in a given string\n",
    "# string='hai naresh how are you'\n",
    "count=0\n",
    "str1='hai naresh how are you'\n",
    "for i in str1:\n",
    "    if(i=='a'):\n",
    "        count+=1\n",
    "\n",
    "print(count)"
   ]
  },
  {
   "cell_type": "code",
   "execution_count": 14,
   "id": "24b92511-add5-4ad7-b2f0-c43afc2706ce",
   "metadata": {},
   "outputs": [
    {
     "name": "stdout",
     "output_type": "stream",
     "text": [
      "9\n"
     ]
    }
   ],
   "source": [
    "#Q2) WAP ask the user find how many vowels are there in a given string\n",
    "count=0\n",
    "str1='hai naresh how are you'\n",
    "vowels='aeiou'\n",
    "for i in str1:\n",
    "    if(i in vowels):\n",
    "        count+=1\n",
    "\n",
    "print(count)"
   ]
  },
  {
   "cell_type": "code",
   "execution_count": 17,
   "id": "e617bc74-f3f5-47a7-9d9e-4cbceb882558",
   "metadata": {},
   "outputs": [
    {
     "name": "stdout",
     "output_type": "stream",
     "text": [
      "5 aieou\n"
     ]
    }
   ],
   "source": [
    "#q3) home work\n",
    "#str1='hai naresh how are you'\n",
    "#count the unique vowels\n",
    "str1='hai naresh how are you'\n",
    "count=0\n",
    "unique_vowels=''\n",
    "for i in str1:\n",
    "    if(i in 'aeiou'):\n",
    "        if(i not in unique_vowels):\n",
    "            unique_vowels+=i\n",
    "            count+=1\n",
    "\n",
    "print(f'{count} {unique_vowels}')"
   ]
  },
  {
   "cell_type": "markdown",
   "id": "781ce2d5-70c9-416d-bcd4-76318dbc20d6",
   "metadata": {},
   "source": [
    "**How to update the empty strings**"
   ]
  },
  {
   "cell_type": "code",
   "execution_count": 18,
   "id": "b7679e47-b9a0-45dd-ac9a-8b00c0971ef1",
   "metadata": {},
   "outputs": [
    {
     "data": {
      "text/plain": [
       "'python'"
      ]
     },
     "execution_count": 18,
     "metadata": {},
     "output_type": "execute_result"
    }
   ],
   "source": [
    "s1='python'\n",
    "s2=''\n",
    "for i in s1:\n",
    "    s2+=i\n",
    "\n",
    "s2"
   ]
  },
  {
   "cell_type": "markdown",
   "id": "54ba18b5-b74a-44c3-8b4e-088a11f6f74a",
   "metadata": {},
   "source": [
    "**Concatenation**"
   ]
  },
  {
   "cell_type": "code",
   "execution_count": 25,
   "id": "bb87bea3-7997-4912-9c5e-14679f726aa7",
   "metadata": {},
   "outputs": [
    {
     "data": {
      "text/plain": [
       "'hellohello'"
      ]
     },
     "execution_count": 25,
     "metadata": {},
     "output_type": "execute_result"
    }
   ],
   "source": [
    "s1='hello'\n",
    "s2='bye'\n",
    "s1*2"
   ]
  },
  {
   "cell_type": "markdown",
   "id": "8c8a990d-e430-42f4-a62d-1dcb6ea47508",
   "metadata": {},
   "source": [
    "**index**\n",
    "\n",
    "- in python index start with 0\n",
    "- index meaning a number attached to a letter\n",
    "- we have 2 directions\n",
    "   - Positive direction\n",
    "      - positive numbers starts with zero\n",
    "    \n",
    "   - Negative direction\n",
    "      - negative numbers starts with -1, applicabel to last letter"
   ]
  },
  {
   "cell_type": "code",
   "execution_count": 28,
   "id": "5b73a7c2-40ed-4f45-8fd8-24058f09da64",
   "metadata": {},
   "outputs": [
    {
     "data": {
      "text/plain": [
       "'h'"
      ]
     },
     "execution_count": 28,
     "metadata": {},
     "output_type": "execute_result"
    }
   ],
   "source": [
    "s1='python'\n",
    "s1[-3]"
   ]
  },
  {
   "cell_type": "markdown",
   "id": "e2f61273-b7fe-4b0f-9e7c-058ae4db7398",
   "metadata": {},
   "source": [
    "**mutable-immutable**\n",
    "\n",
    " - mutable : it can be changed\n",
    "    - we can change using indexing\n",
    " - immutable: cannot be changed\n",
    "    - we cannot change using indexing"
   ]
  },
  {
   "cell_type": "code",
   "execution_count": 29,
   "id": "12ddf0b5-6854-4e98-969c-3202ca39ef92",
   "metadata": {},
   "outputs": [
    {
     "ename": "TypeError",
     "evalue": "'str' object does not support item assignment",
     "output_type": "error",
     "traceback": [
      "\u001b[0;31m---------------------------------------------------------------------------\u001b[0m",
      "\u001b[0;31mTypeError\u001b[0m                                 Traceback (most recent call last)",
      "Cell \u001b[0;32mIn[29], line 3\u001b[0m\n\u001b[1;32m      1\u001b[0m s\u001b[38;5;241m=\u001b[39m\u001b[38;5;124m'\u001b[39m\u001b[38;5;124mwelcome\u001b[39m\u001b[38;5;124m'\u001b[39m\n\u001b[1;32m      2\u001b[0m \u001b[38;5;66;03m# i want to replate small l with capital L\u001b[39;00m\n\u001b[0;32m----> 3\u001b[0m s[\u001b[38;5;241m2\u001b[39m]\u001b[38;5;241m=\u001b[39m\u001b[38;5;124m'\u001b[39m\u001b[38;5;124mL\u001b[39m\u001b[38;5;124m'\u001b[39m\n",
      "\u001b[0;31mTypeError\u001b[0m: 'str' object does not support item assignment"
     ]
    }
   ],
   "source": [
    "s='welcome'\n",
    "# i want to replate small l with capital L\n",
    "s[2]='L'"
   ]
  },
  {
   "cell_type": "markdown",
   "id": "08687165-d4e2-4fec-9330-ee5ae13712ed",
   "metadata": {},
   "source": [
    "**Strings are immutable**\n",
    "\n",
    "**Lists are mutable**"
   ]
  },
  {
   "cell_type": "code",
   "execution_count": 30,
   "id": "2d7e7b4c-07da-468f-a7b5-9b7dd12239b4",
   "metadata": {},
   "outputs": [
    {
     "data": {
      "text/plain": [
       "[1, 200, 3, 4]"
      ]
     },
     "execution_count": 30,
     "metadata": {},
     "output_type": "execute_result"
    }
   ],
   "source": [
    "l=[1,2,3,4]\n",
    "l[1]=200\n",
    "l"
   ]
  },
  {
   "cell_type": "code",
   "execution_count": 35,
   "id": "7ad5c03e-fda1-4b5c-98dc-95456ba49f17",
   "metadata": {},
   "outputs": [
    {
     "name": "stdout",
     "output_type": "stream",
     "text": [
      "welcome"
     ]
    }
   ],
   "source": [
    "#Q4) print each letter using for loop range\n",
    "s='welcome'\n",
    "for i in range(len(s)):\n",
    "    print(s[i],end='')"
   ]
  },
  {
   "cell_type": "code",
   "execution_count": 38,
   "id": "2cdf3c63-b9c6-45b0-805d-a0fab6d9b2c1",
   "metadata": {},
   "outputs": [
    {
     "name": "stdout",
     "output_type": "stream",
     "text": [
      "The positive index of w is 0\n",
      "The positive index of e is 1\n",
      "The positive index of l is 2\n",
      "The positive index of c is 3\n",
      "The positive index of o is 4\n",
      "The positive index of m is 5\n",
      "The positive index of e is 6\n"
     ]
    }
   ],
   "source": [
    "#q5) ask user to iterate using a string\n",
    "# print the positive index of w is o\n",
    "#        the positive index of e is 1\n",
    "s1='welcome'\n",
    "for i in range(0,len(s1)):\n",
    "    print(f'The positive index of {s1[i]} is {i}')"
   ]
  },
  {
   "cell_type": "code",
   "execution_count": 41,
   "id": "a7c35c1e-1199-4760-a16e-aad20ba4ec13",
   "metadata": {},
   "outputs": [
    {
     "name": "stdout",
     "output_type": "stream",
     "text": [
      "The negative index of w is -7\n",
      "The negative index of e is -6\n",
      "The negative index of l is -5\n",
      "The negative index of c is -4\n",
      "The negative index of o is -3\n",
      "The negative index of m is -2\n",
      "The negative index of e is -1\n"
     ]
    }
   ],
   "source": [
    "#q6) write negative index as q5\n",
    "s1='welcome'\n",
    "for i in range(len(s1)):\n",
    "    print(f'The negative index of {s1[i-len(s1)]} is {i-len(s1)}')"
   ]
  },
  {
   "cell_type": "code",
   "execution_count": 42,
   "id": "3e09ceee-9dec-4934-bdce-19b2c868cb70",
   "metadata": {},
   "outputs": [
    {
     "name": "stdout",
     "output_type": "stream",
     "text": [
      "The positive index of w is 0 and the negative index is -7\n",
      "The positive index of e is 1 and the negative index is -6\n",
      "The positive index of l is 2 and the negative index is -5\n",
      "The positive index of c is 3 and the negative index is -4\n",
      "The positive index of o is 4 and the negative index is -3\n",
      "The positive index of m is 5 and the negative index is -2\n",
      "The positive index of e is 6 and the negative index is -1\n"
     ]
    }
   ],
   "source": [
    "#q7) print both positive and negative\n",
    "s1='welcome'\n",
    "for i in range(len(s1)):\n",
    "    print(f'The positive index of {s1[i]} is {i} and the negative index is {i-len(s1)}')"
   ]
  },
  {
   "cell_type": "code",
   "execution_count": 44,
   "id": "34652329-9dfa-41dc-92db-3cdfc4a64ebd",
   "metadata": {},
   "outputs": [
    {
     "name": "stdout",
     "output_type": "stream",
     "text": [
      "1\n",
      "8\n",
      "18\n"
     ]
    }
   ],
   "source": [
    "#q8) get index of each 'a'\n",
    "s='hai how are you i am good'\n",
    "for i in range(len(s)):\n",
    "    if s[i]=='a':\n",
    "        print(i)"
   ]
  },
  {
   "cell_type": "markdown",
   "id": "e0fc0d69-005b-4cdb-befc-396abde31470",
   "metadata": {},
   "source": [
    "**slice**"
   ]
  },
  {
   "cell_type": "code",
   "execution_count": null,
   "id": "e0aa4064-170e-4d48-96aa-822a0ee849ff",
   "metadata": {},
   "outputs": [],
   "source": [
    "#-15 -14 -13 -12 -11 -10 -9 -8 -7 -6 -5  -4   -3    -2 -1\n",
    "# h    a   i      h   o   w     a  r  e        y    o   u\n",
    "# 0    1   2   3  4   5   6  7  8  9  10  11   12   13  14"
   ]
  },
  {
   "cell_type": "code",
   "execution_count": null,
   "id": "80b4715b-7a3d-4bd2-9abb-370e9677aa8b",
   "metadata": {},
   "outputs": [],
   "source": [
    "str1='hai how are you'\n",
    "str1[start:stop:step]"
   ]
  },
  {
   "cell_type": "markdown",
   "id": "eb1789bf-2df4-4c91-9549-804aecc1d7e4",
   "metadata": {},
   "source": [
    "$pattern-1$\n",
    "\n",
    "**str1[start:]**\n",
    "\n",
    " - By default start value=start only\n",
    " - last value=last only\n",
    " - step nothing mentioned means, it is a positive direction and increment by 1"
   ]
  },
  {
   "cell_type": "code",
   "execution_count": 52,
   "id": "71645542-d4b9-4f1d-9125-776c02ce0adc",
   "metadata": {},
   "outputs": [
    {
     "data": {
      "text/plain": [
       "'i how '"
      ]
     },
     "execution_count": 52,
     "metadata": {},
     "output_type": "execute_result"
    }
   ],
   "source": [
    "str1='hai how are you'\n",
    "str1[-13:8:1]"
   ]
  },
  {
   "cell_type": "markdown",
   "id": "7fb7900b-0207-4d4f-ac8b-bc739e9a5147",
   "metadata": {},
   "source": [
    "$pattern - 2$\n",
    "\n",
    "**str1[start:stop]**\n",
    "\n",
    " - By default start value=start only\n",
    " - last value=last only\n",
    " - step nothing mentioned means, it is a positive direction and increment by 1\n",
    " - last=stop-1"
   ]
  },
  {
   "cell_type": "code",
   "execution_count": 59,
   "id": "5fe8c51a-f3a1-45f3-b756-b0076b33fdbb",
   "metadata": {},
   "outputs": [
    {
     "data": {
      "text/plain": [
       "'e yo'"
      ]
     },
     "execution_count": 59,
     "metadata": {},
     "output_type": "execute_result"
    }
   ],
   "source": [
    "#-15 -14 -13 -12 -11 -10 -9 -8 -7 -6 -5  -4   -3    -2 -1\n",
    "# h    a   i      h   o   w     a  r  e        y    o   u\n",
    "# 0    1   2   3  4   5   6  7  8  9  10  11   12   13  14\n",
    "\n",
    "str1='hai how are you'\n",
    "str1[-5:14]"
   ]
  },
  {
   "cell_type": "code",
   "execution_count": 57,
   "id": "5abe32b8-7a3f-4d4b-93ca-c99ef2d761c2",
   "metadata": {},
   "outputs": [
    {
     "data": {
      "text/plain": [
       "'uoy era woh iah'"
      ]
     },
     "execution_count": 57,
     "metadata": {},
     "output_type": "execute_result"
    }
   ],
   "source": [
    "str1[::-1]  # reverses the string by going negative direction"
   ]
  },
  {
   "cell_type": "code",
   "execution_count": 61,
   "id": "59a04c96-c884-45df-80a3-e0770d08585f",
   "metadata": {},
   "outputs": [
    {
     "data": {
      "text/plain": [
       "'ow are you'"
      ]
     },
     "execution_count": 61,
     "metadata": {},
     "output_type": "execute_result"
    }
   ],
   "source": [
    "str1[5:500]"
   ]
  },
  {
   "cell_type": "markdown",
   "id": "f6cf4cd7-38f0-4d08-bf33-a2e6535c6e95",
   "metadata": {},
   "source": [
    "**Truncation behavior**\n",
    "\n",
    "- when ever string range is limited but we provided unlimited number then\n",
    "- string will consider till the range we have"
   ]
  },
  {
   "cell_type": "code",
   "execution_count": 64,
   "id": "e024a201-163b-4b54-891b-bf2c16633e4c",
   "metadata": {},
   "outputs": [
    {
     "data": {
      "text/plain": [
       "''"
      ]
     },
     "execution_count": 64,
     "metadata": {},
     "output_type": "execute_result"
    }
   ],
   "source": [
    "str1[500:]"
   ]
  },
  {
   "cell_type": "markdown",
   "id": "9a1efdfb-98d7-4793-a295-3d590473f263",
   "metadata": {},
   "source": [
    "$pattern - 3$\n",
    "\n",
    "**str1[start:stop:step]**\n",
    "\n",
    " - By default start value=start only\n",
    " - if step value positive\n",
    "    - last value= stop-1\n",
    " - if step value negative\n",
    "    - last value= stop+1\n",
    "   "
   ]
  },
  {
   "cell_type": "code",
   "execution_count": 65,
   "id": "47bfeba2-368b-4ef7-8838-641ccf98e31b",
   "metadata": {},
   "outputs": [
    {
     "data": {
      "text/plain": [
       "''"
      ]
     },
     "execution_count": 65,
     "metadata": {},
     "output_type": "execute_result"
    }
   ],
   "source": [
    "#-15 -14 -13 -12 -11 -10 -9 -8 -7 -6 -5  -4   -3    -2 -1\n",
    "# h    a   i      h   o   w     a  r  e        y    o   u\n",
    "# 0    1   2   3  4   5   6  7  8  9  10  11   12   13  14\n",
    "\n",
    "str1='hai how are you'\n",
    "str1[2:13:2]\n",
    "str1[2:13:-2]\n",
    "str1[2:-13:2]\n",
    "str1[2:-13:-2]\n",
    "str1[-2:13:2]\n",
    "str1[-2:-13:2]\n",
    "str1[13:13:2]"
   ]
  },
  {
   "cell_type": "code",
   "execution_count": 74,
   "id": "21a49e95-1ebd-4309-a94a-82f0cff6c3d3",
   "metadata": {},
   "outputs": [
    {
     "data": {
      "text/plain": [
       "'i'"
      ]
     },
     "execution_count": 74,
     "metadata": {},
     "output_type": "execute_result"
    }
   ],
   "source": [
    "str1[2:3:2]"
   ]
  },
  {
   "cell_type": "code",
   "execution_count": 79,
   "id": "e3c3869d-326c-4a6b-97dc-8643e03be6c4",
   "metadata": {},
   "outputs": [
    {
     "data": {
      "text/plain": [
       "'u aoi'"
      ]
     },
     "execution_count": 79,
     "metadata": {},
     "output_type": "execute_result"
    }
   ],
   "source": [
    "str1[::-3]"
   ]
  },
  {
   "cell_type": "markdown",
   "id": "8264e836-c281-455e-8857-c494b3010a0f",
   "metadata": {},
   "source": [
    "**Methods**\n",
    "\n",
    "- strings, lists, tuple, dictionary every data type has its own methods\n"
   ]
  },
  {
   "cell_type": "code",
   "execution_count": 80,
   "id": "00a82f22-97e9-4f85-8882-700dda19dfa0",
   "metadata": {},
   "outputs": [
    {
     "data": {
      "text/plain": [
       "['__add__',\n",
       " '__class__',\n",
       " '__contains__',\n",
       " '__delattr__',\n",
       " '__dir__',\n",
       " '__doc__',\n",
       " '__eq__',\n",
       " '__format__',\n",
       " '__ge__',\n",
       " '__getattribute__',\n",
       " '__getitem__',\n",
       " '__getnewargs__',\n",
       " '__getstate__',\n",
       " '__gt__',\n",
       " '__hash__',\n",
       " '__init__',\n",
       " '__init_subclass__',\n",
       " '__iter__',\n",
       " '__le__',\n",
       " '__len__',\n",
       " '__lt__',\n",
       " '__mod__',\n",
       " '__mul__',\n",
       " '__ne__',\n",
       " '__new__',\n",
       " '__reduce__',\n",
       " '__reduce_ex__',\n",
       " '__repr__',\n",
       " '__rmod__',\n",
       " '__rmul__',\n",
       " '__setattr__',\n",
       " '__sizeof__',\n",
       " '__str__',\n",
       " '__subclasshook__',\n",
       " 'capitalize',\n",
       " 'casefold',\n",
       " 'center',\n",
       " 'count',\n",
       " 'encode',\n",
       " 'endswith',\n",
       " 'expandtabs',\n",
       " 'find',\n",
       " 'format',\n",
       " 'format_map',\n",
       " 'index',\n",
       " 'isalnum',\n",
       " 'isalpha',\n",
       " 'isascii',\n",
       " 'isdecimal',\n",
       " 'isdigit',\n",
       " 'isidentifier',\n",
       " 'islower',\n",
       " 'isnumeric',\n",
       " 'isprintable',\n",
       " 'isspace',\n",
       " 'istitle',\n",
       " 'isupper',\n",
       " 'join',\n",
       " 'ljust',\n",
       " 'lower',\n",
       " 'lstrip',\n",
       " 'maketrans',\n",
       " 'partition',\n",
       " 'removeprefix',\n",
       " 'removesuffix',\n",
       " 'replace',\n",
       " 'rfind',\n",
       " 'rindex',\n",
       " 'rjust',\n",
       " 'rpartition',\n",
       " 'rsplit',\n",
       " 'rstrip',\n",
       " 'split',\n",
       " 'splitlines',\n",
       " 'startswith',\n",
       " 'strip',\n",
       " 'swapcase',\n",
       " 'title',\n",
       " 'translate',\n",
       " 'upper',\n",
       " 'zfill']"
      ]
     },
     "execution_count": 80,
     "metadata": {},
     "output_type": "execute_result"
    }
   ],
   "source": [
    "dir(str1)"
   ]
  },
  {
   "cell_type": "code",
   "execution_count": 86,
   "id": "2ca899b8-f169-4efd-ba70-2621943f635e",
   "metadata": {},
   "outputs": [
    {
     "data": {
      "text/plain": [
       "'byeai byeow are you'"
      ]
     },
     "execution_count": 86,
     "metadata": {},
     "output_type": "execute_result"
    }
   ],
   "source": [
    "str1.replace('h','bye')"
   ]
  },
  {
   "cell_type": "code",
   "execution_count": 88,
   "id": "02e7c514-0d58-429e-aa12-b23fa2a01b23",
   "metadata": {},
   "outputs": [
    {
     "data": {
      "text/plain": [
       "2"
      ]
     },
     "execution_count": 88,
     "metadata": {},
     "output_type": "execute_result"
    }
   ],
   "source": [
    "str1.count('h')"
   ]
  },
  {
   "cell_type": "code",
   "execution_count": 92,
   "id": "f0bee523-f3d3-4dd9-9207-830e8a47a906",
   "metadata": {},
   "outputs": [
    {
     "data": {
      "text/plain": [
       "['', 'ai ', 'ow are you']"
      ]
     },
     "execution_count": 92,
     "metadata": {},
     "output_type": "execute_result"
    }
   ],
   "source": [
    "str1.split('h')"
   ]
  },
  {
   "cell_type": "code",
   "execution_count": 93,
   "id": "b96c02e4-280f-4015-a781-e5824dec1366",
   "metadata": {},
   "outputs": [
    {
     "data": {
      "text/plain": [
       "'HAI HOW ARE YOU'"
      ]
     },
     "execution_count": 93,
     "metadata": {},
     "output_type": "execute_result"
    }
   ],
   "source": [
    "str1.upper()"
   ]
  },
  {
   "cell_type": "code",
   "execution_count": 95,
   "id": "92788a49-fd16-46d3-9149-d1beb78ef2d3",
   "metadata": {},
   "outputs": [
    {
     "data": {
      "text/plain": [
       "'hai how are you'"
      ]
     },
     "execution_count": 95,
     "metadata": {},
     "output_type": "execute_result"
    }
   ],
   "source": [
    "str1.casefold()"
   ]
  },
  {
   "cell_type": "code",
   "execution_count": 96,
   "id": "e4d1bc1e-5b2b-4c34-932b-697229afcfc4",
   "metadata": {},
   "outputs": [
    {
     "data": {
      "text/plain": [
       "'my name is haranath'"
      ]
     },
     "execution_count": 96,
     "metadata": {},
     "output_type": "execute_result"
    }
   ],
   "source": [
    "str1='My name is Haranath'\n",
    "str1.casefold()"
   ]
  },
  {
   "cell_type": "code",
   "execution_count": 99,
   "id": "01c62253-dd89-4314-8639-7697dd87690e",
   "metadata": {},
   "outputs": [
    {
     "data": {
      "text/plain": [
       "'My name is Haranath'"
      ]
     },
     "execution_count": 99,
     "metadata": {},
     "output_type": "execute_result"
    }
   ],
   "source": [
    "str1.center(6,'*')"
   ]
  },
  {
   "cell_type": "code",
   "execution_count": 101,
   "id": "69c1d324-6201-4f9f-b35d-1abab98b15b4",
   "metadata": {},
   "outputs": [
    {
     "data": {
      "text/plain": [
       "'My Name Is Haranath'"
      ]
     },
     "execution_count": 101,
     "metadata": {},
     "output_type": "execute_result"
    }
   ],
   "source": [
    "str1.title()"
   ]
  },
  {
   "cell_type": "code",
   "execution_count": 102,
   "id": "0713b1b8-a898-4944-a351-3b61cc438fc6",
   "metadata": {},
   "outputs": [
    {
     "data": {
      "text/plain": [
       "104"
      ]
     },
     "execution_count": 102,
     "metadata": {},
     "output_type": "execute_result"
    }
   ],
   "source": [
    "ord('h')"
   ]
  },
  {
   "cell_type": "code",
   "execution_count": 107,
   "id": "e9589421-c0a4-4827-bf6a-cdbefc764cbb",
   "metadata": {},
   "outputs": [
    {
     "data": {
      "text/plain": [
       "'My name is Haranath'"
      ]
     },
     "execution_count": 107,
     "metadata": {},
     "output_type": "execute_result"
    }
   ],
   "source": [
    "str1.center(10,'*')"
   ]
  },
  {
   "cell_type": "code",
   "execution_count": 104,
   "id": "aaed6bc6-df5d-4c5f-bb1a-ce3d1a8acc63",
   "metadata": {},
   "outputs": [
    {
     "data": {
      "text/plain": [
       "19"
      ]
     },
     "execution_count": 104,
     "metadata": {},
     "output_type": "execute_result"
    }
   ],
   "source": [
    "len(str1)"
   ]
  },
  {
   "cell_type": "markdown",
   "id": "92efb330-4326-402f-9c0a-c6156a137e0d",
   "metadata": {},
   "source": [
    "**Count**"
   ]
  },
  {
   "cell_type": "code",
   "execution_count": 113,
   "id": "599929a0-2f41-4ccd-9716-96c4511af5a5",
   "metadata": {},
   "outputs": [
    {
     "data": {
      "text/plain": [
       "3"
      ]
     },
     "execution_count": 113,
     "metadata": {},
     "output_type": "execute_result"
    }
   ],
   "source": [
    "Count=0\n",
    "str1='hai hai hai'\n",
    "for i in str1:\n",
    "    if i=='a':\n",
    "        Count+=1\n",
    "\n",
    "Count"
   ]
  },
  {
   "cell_type": "code",
   "execution_count": 114,
   "id": "3c38bbb4-5a55-4e26-99b3-9c32c86666cb",
   "metadata": {},
   "outputs": [
    {
     "data": {
      "text/plain": [
       "2"
      ]
     },
     "execution_count": 114,
     "metadata": {},
     "output_type": "execute_result"
    }
   ],
   "source": [
    "str1.count('a',5)"
   ]
  },
  {
   "cell_type": "markdown",
   "id": "6a482aef-f9ea-4065-8e77-210365336f70",
   "metadata": {},
   "source": [
    "**Window Method**"
   ]
  },
  {
   "cell_type": "code",
   "execution_count": 117,
   "id": "ee7880e8-3c0b-41bd-9194-c40ef0919c22",
   "metadata": {},
   "outputs": [
    {
     "data": {
      "text/plain": [
       "3"
      ]
     },
     "execution_count": 117,
     "metadata": {},
     "output_type": "execute_result"
    }
   ],
   "source": [
    "count=0\n",
    "str1='ola ola ola'\n",
    "for i in range(len(str1)):\n",
    "    if str1[i:i+3]=='ola':\n",
    "        count+=1\n",
    "\n",
    "count"
   ]
  },
  {
   "cell_type": "code",
   "execution_count": 118,
   "id": "9c1ac8c2-d22e-4b15-add8-b2c1d62e12ee",
   "metadata": {},
   "outputs": [
    {
     "data": {
      "text/plain": [
       "3"
      ]
     },
     "execution_count": 118,
     "metadata": {},
     "output_type": "execute_result"
    }
   ],
   "source": [
    "str1='ola ola ola'\n",
    "str1.count('ola')"
   ]
  },
  {
   "cell_type": "code",
   "execution_count": 119,
   "id": "ba7cf552-0acf-472b-aea2-ade73be9fd6f",
   "metadata": {},
   "outputs": [
    {
     "data": {
      "text/plain": [
       "1"
      ]
     },
     "execution_count": 119,
     "metadata": {},
     "output_type": "execute_result"
    }
   ],
   "source": [
    "str1='ola ola ola'\n",
    "str1.count(str1)"
   ]
  },
  {
   "cell_type": "code",
   "execution_count": 120,
   "id": "2d76859c-187d-4461-84e7-10f7a0e39481",
   "metadata": {},
   "outputs": [
    {
     "data": {
      "text/plain": [
       "0"
      ]
     },
     "execution_count": 120,
     "metadata": {},
     "output_type": "execute_result"
    }
   ],
   "source": [
    "str1.count('z')"
   ]
  },
  {
   "cell_type": "markdown",
   "id": "2643f202-d5d0-4011-bfc9-f23fafcb53d5",
   "metadata": {},
   "source": [
    "**Replace**"
   ]
  },
  {
   "cell_type": "code",
   "execution_count": 125,
   "id": "0babd553-8657-4a72-bca0-56fc3e7d1ace",
   "metadata": {},
   "outputs": [
    {
     "data": {
      "text/plain": [
       "'bike ola ola'"
      ]
     },
     "execution_count": 125,
     "metadata": {},
     "output_type": "execute_result"
    }
   ],
   "source": [
    "str1='ola ola ola'\n",
    "str1.replace('ola','bike',1)"
   ]
  },
  {
   "cell_type": "code",
   "execution_count": 127,
   "id": "574241e9-25b5-424e-8f0c-4dad38f33935",
   "metadata": {},
   "outputs": [
    {
     "data": {
      "text/plain": [
       "'weLcome'"
      ]
     },
     "execution_count": 127,
     "metadata": {},
     "output_type": "execute_result"
    }
   ],
   "source": [
    "str1='welcome'\n",
    "a=str1[0:2]\n",
    "b=str1[3:10]\n",
    "str1=a+'L'+b\n",
    "str1"
   ]
  },
  {
   "cell_type": "code",
   "execution_count": 129,
   "id": "01ef8a7c-53ee-4358-b1c1-684858f8c9a7",
   "metadata": {},
   "outputs": [
    {
     "data": {
      "text/plain": [
       "'L'"
      ]
     },
     "execution_count": 129,
     "metadata": {},
     "output_type": "execute_result"
    }
   ],
   "source": [
    "chr(ord('l')-32)"
   ]
  },
  {
   "cell_type": "code",
   "execution_count": 3,
   "id": "f0db30a6-96ff-4261-a944-3973e3fc685d",
   "metadata": {},
   "outputs": [
    {
     "data": {
      "text/plain": [
       "'welCome'"
      ]
     },
     "execution_count": 3,
     "metadata": {},
     "output_type": "execute_result"
    }
   ],
   "source": [
    "stre='welcome'\n",
    "stre.replace('c','C')"
   ]
  },
  {
   "cell_type": "code",
   "execution_count": 2,
   "id": "81b389ba-f8eb-4996-bb0c-c640bcbb1ec2",
   "metadata": {},
   "outputs": [
    {
     "data": {
      "text/plain": [
       "'weLLcome'"
      ]
     },
     "execution_count": 2,
     "metadata": {},
     "output_type": "execute_result"
    }
   ],
   "source": [
    "stre='wellcome'\n",
    "stre.replace('l','L')"
   ]
  },
  {
   "cell_type": "code",
   "execution_count": 5,
   "id": "9590aa63-f545-4513-b6e2-8a14b5de3c8a",
   "metadata": {},
   "outputs": [
    {
     "data": {
      "text/plain": [
       "'resta$t'"
      ]
     },
     "execution_count": 5,
     "metadata": {},
     "output_type": "execute_result"
    }
   ],
   "source": [
    "st1='restart'\n",
    "st2=st1[:1]\n",
    "st3=st1[1:]\n",
    "st4=st3.replace('r','$')\n",
    "st2+st4"
   ]
  },
  {
   "cell_type": "code",
   "execution_count": 6,
   "id": "030c669b-9c25-477a-9dca-92d70af63206",
   "metadata": {},
   "outputs": [
    {
     "data": {
      "text/plain": [
       "'resta$t'"
      ]
     },
     "execution_count": 6,
     "metadata": {},
     "output_type": "execute_result"
    }
   ],
   "source": [
    "st1[::-1].replace('r','$',1)[::-1]"
   ]
  },
  {
   "cell_type": "markdown",
   "id": "67f06a8d-31e4-4a5c-8c75-7ac6cb910198",
   "metadata": {},
   "source": [
    "**index-find**"
   ]
  },
  {
   "cell_type": "code",
   "execution_count": 7,
   "id": "e4c8b53c-17cc-45af-a0cf-9d619f45fd7b",
   "metadata": {},
   "outputs": [
    {
     "data": {
      "text/plain": [
       "['__add__',\n",
       " '__class__',\n",
       " '__contains__',\n",
       " '__delattr__',\n",
       " '__dir__',\n",
       " '__doc__',\n",
       " '__eq__',\n",
       " '__format__',\n",
       " '__ge__',\n",
       " '__getattribute__',\n",
       " '__getitem__',\n",
       " '__getnewargs__',\n",
       " '__getstate__',\n",
       " '__gt__',\n",
       " '__hash__',\n",
       " '__init__',\n",
       " '__init_subclass__',\n",
       " '__iter__',\n",
       " '__le__',\n",
       " '__len__',\n",
       " '__lt__',\n",
       " '__mod__',\n",
       " '__mul__',\n",
       " '__ne__',\n",
       " '__new__',\n",
       " '__reduce__',\n",
       " '__reduce_ex__',\n",
       " '__repr__',\n",
       " '__rmod__',\n",
       " '__rmul__',\n",
       " '__setattr__',\n",
       " '__sizeof__',\n",
       " '__str__',\n",
       " '__subclasshook__',\n",
       " 'capitalize',\n",
       " 'casefold',\n",
       " 'center',\n",
       " 'count',\n",
       " 'encode',\n",
       " 'endswith',\n",
       " 'expandtabs',\n",
       " 'find',\n",
       " 'format',\n",
       " 'format_map',\n",
       " 'index',\n",
       " 'isalnum',\n",
       " 'isalpha',\n",
       " 'isascii',\n",
       " 'isdecimal',\n",
       " 'isdigit',\n",
       " 'isidentifier',\n",
       " 'islower',\n",
       " 'isnumeric',\n",
       " 'isprintable',\n",
       " 'isspace',\n",
       " 'istitle',\n",
       " 'isupper',\n",
       " 'join',\n",
       " 'ljust',\n",
       " 'lower',\n",
       " 'lstrip',\n",
       " 'maketrans',\n",
       " 'partition',\n",
       " 'removeprefix',\n",
       " 'removesuffix',\n",
       " 'replace',\n",
       " 'rfind',\n",
       " 'rindex',\n",
       " 'rjust',\n",
       " 'rpartition',\n",
       " 'rsplit',\n",
       " 'rstrip',\n",
       " 'split',\n",
       " 'splitlines',\n",
       " 'startswith',\n",
       " 'strip',\n",
       " 'swapcase',\n",
       " 'title',\n",
       " 'translate',\n",
       " 'upper',\n",
       " 'zfill']"
      ]
     },
     "execution_count": 7,
     "metadata": {},
     "output_type": "execute_result"
    }
   ],
   "source": [
    "dir('')"
   ]
  },
  {
   "cell_type": "code",
   "execution_count": null,
   "id": "c002468d-8d06-4ed1-b632-1d94297983ca",
   "metadata": {},
   "outputs": [],
   "source": [
    " 'isalnum',\n",
    " 'isalpha',\n",
    " 'isascii',\n",
    " 'isdecimal',\n",
    " 'isdigit',\n",
    " 'isidentifier',\n",
    " 'islower',\n",
    " 'isnumeric',\n",
    " 'isprintable',\n",
    " 'isspace',\n",
    " 'istitle',\n",
    " 'isupper',"
   ]
  },
  {
   "cell_type": "code",
   "execution_count": 10,
   "id": "2f8419bb-3f69-41a9-807e-3c49b5c8099e",
   "metadata": {},
   "outputs": [
    {
     "data": {
      "text/plain": [
       "True"
      ]
     },
     "execution_count": 10,
     "metadata": {},
     "output_type": "execute_result"
    }
   ],
   "source": [
    "st1.isalpha()"
   ]
  },
  {
   "cell_type": "markdown",
   "id": "3d7e8726-f6d5-4f42-a948-7ff3d7125e92",
   "metadata": {},
   "source": [
    "**index**"
   ]
  },
  {
   "cell_type": "code",
   "execution_count": 14,
   "id": "578a1409-b603-402d-b29c-a7c0b1fbccad",
   "metadata": {},
   "outputs": [
    {
     "data": {
      "text/plain": [
       "5"
      ]
     },
     "execution_count": 14,
     "metadata": {},
     "output_type": "execute_result"
    }
   ],
   "source": [
    "str1='hai hai hai'\n",
    "str1.index('a',3,6)"
   ]
  },
  {
   "cell_type": "markdown",
   "id": "300fe7c3-837e-4d4d-9443-a118e31ada6b",
   "metadata": {},
   "source": [
    "**Find**"
   ]
  },
  {
   "cell_type": "code",
   "execution_count": 15,
   "id": "51c48173-5538-4f29-9130-42e61b1c4ae3",
   "metadata": {},
   "outputs": [
    {
     "data": {
      "text/plain": [
       "1"
      ]
     },
     "execution_count": 15,
     "metadata": {},
     "output_type": "execute_result"
    }
   ],
   "source": [
    "str1='hai hai hai'\n",
    "str1.find('a')"
   ]
  },
  {
   "cell_type": "code",
   "execution_count": 21,
   "id": "e1088c27-5ec0-44c6-97ef-79c38dd92b4d",
   "metadata": {},
   "outputs": [
    {
     "name": "stdout",
     "output_type": "stream",
     "text": [
      "Firstname - omkar\n"
     ]
    }
   ],
   "source": [
    "str1='omkar.nallagoni@cognizant.com'\n",
    "str2='virat.kohli@rcb.com'\n",
    "str3='rohit.sharma@mi.com'\n",
    "#firstname = omkar\n",
    "#secondname\n",
    "#company\n",
    "firstdot=str1.index('.')\n",
    "symbol=str1.index('@')\n",
    "seconddot=str1.index('.',firstdot+1)\n",
    "\n",
    "print(f'Firstname - {str1[:firstdot]}')"
   ]
  },
  {
   "cell_type": "code",
   "execution_count": 20,
   "id": "8006c701-82ab-43c8-be16-af079a9dc7ea",
   "metadata": {},
   "outputs": [
    {
     "data": {
      "text/plain": [
       "'nallagoni'"
      ]
     },
     "execution_count": 20,
     "metadata": {},
     "output_type": "execute_result"
    }
   ],
   "source": [
    "str1[firstdot+1:symbol]"
   ]
  },
  {
   "cell_type": "code",
   "execution_count": 22,
   "id": "19f7d499-9557-4334-b4ac-0d77f96aeb5f",
   "metadata": {},
   "outputs": [
    {
     "data": {
      "text/plain": [
       "'cognizant'"
      ]
     },
     "execution_count": 22,
     "metadata": {},
     "output_type": "execute_result"
    }
   ],
   "source": [
    "str1[symbol+1:seconddot]"
   ]
  },
  {
   "cell_type": "code",
   "execution_count": 4,
   "id": "c823e1cd-a0cf-4fd6-af29-a7b3a2fea270",
   "metadata": {},
   "outputs": [
    {
     "data": {
      "text/plain": [
       "['__add__',\n",
       " '__class__',\n",
       " '__contains__',\n",
       " '__delattr__',\n",
       " '__dir__',\n",
       " '__doc__',\n",
       " '__eq__',\n",
       " '__format__',\n",
       " '__ge__',\n",
       " '__getattribute__',\n",
       " '__getitem__',\n",
       " '__getnewargs__',\n",
       " '__getstate__',\n",
       " '__gt__',\n",
       " '__hash__',\n",
       " '__init__',\n",
       " '__init_subclass__',\n",
       " '__iter__',\n",
       " '__le__',\n",
       " '__len__',\n",
       " '__lt__',\n",
       " '__mod__',\n",
       " '__mul__',\n",
       " '__ne__',\n",
       " '__new__',\n",
       " '__reduce__',\n",
       " '__reduce_ex__',\n",
       " '__repr__',\n",
       " '__rmod__',\n",
       " '__rmul__',\n",
       " '__setattr__',\n",
       " '__sizeof__',\n",
       " '__str__',\n",
       " '__subclasshook__',\n",
       " 'capitalize',\n",
       " 'casefold',\n",
       " 'center',\n",
       " 'count',\n",
       " 'encode',\n",
       " 'endswith',\n",
       " 'expandtabs',\n",
       " 'find',\n",
       " 'format',\n",
       " 'format_map',\n",
       " 'index',\n",
       " 'isalnum',\n",
       " 'isalpha',\n",
       " 'isascii',\n",
       " 'isdecimal',\n",
       " 'isdigit',\n",
       " 'isidentifier',\n",
       " 'islower',\n",
       " 'isnumeric',\n",
       " 'isprintable',\n",
       " 'isspace',\n",
       " 'istitle',\n",
       " 'isupper',\n",
       " 'join',\n",
       " 'ljust',\n",
       " 'lower',\n",
       " 'lstrip',\n",
       " 'maketrans',\n",
       " 'partition',\n",
       " 'removeprefix',\n",
       " 'removesuffix',\n",
       " 'replace',\n",
       " 'rfind',\n",
       " 'rindex',\n",
       " 'rjust',\n",
       " 'rpartition',\n",
       " 'rsplit',\n",
       " 'rstrip',\n",
       " 'split',\n",
       " 'splitlines',\n",
       " 'startswith',\n",
       " 'strip',\n",
       " 'swapcase',\n",
       " 'title',\n",
       " 'translate',\n",
       " 'upper',\n",
       " 'zfill']"
      ]
     },
     "execution_count": 4,
     "metadata": {},
     "output_type": "execute_result"
    }
   ],
   "source": [
    "dir('')"
   ]
  },
  {
   "cell_type": "code",
   "execution_count": 9,
   "id": "92763563-59af-403d-b696-c42485e3912b",
   "metadata": {},
   "outputs": [
    {
     "name": "stdin",
     "output_type": "stream",
     "text": [
      "what is capitol of India Delhi\n",
      "who is PM of India Modi\n",
      "who is cricket captain kjl]\n"
     ]
    },
    {
     "data": {
      "text/plain": [
       "2"
      ]
     },
     "execution_count": 9,
     "metadata": {},
     "output_type": "execute_result"
    }
   ],
   "source": [
    "qns=['what is capitol of India','who is PM of India', 'who is cricket captain']\n",
    "ans=['Delhi','Modi','Rohit']\n",
    "marks=0\n",
    "for i in range(len(qns)):\n",
    "    ansbyuser=input(qns[i])\n",
    "    if ansbyuser.title()==ans[i].title():\n",
    "        marks+=1\n",
    "\n",
    "marks"
   ]
  },
  {
   "cell_type": "code",
   "execution_count": null,
   "id": "cdd2484f-1849-40bb-8eb0-de2f485a2f1a",
   "metadata": {},
   "outputs": [],
   "source": [
    "'clear',\n",
    " 'copy',\n",
    " 'count',\n",
    " 'extend',\n",
    " 'index',\n",
    " 'insert',\n",
    " 'pop',\n",
    " 'remove',\n",
    " 'reverse',\n",
    " 'sort']"
   ]
  },
  {
   "cell_type": "code",
   "execution_count": 12,
   "id": "d05f4943-38d2-4cee-b21f-3d7da46a9b89",
   "metadata": {},
   "outputs": [
    {
     "data": {
      "text/plain": [
       "['Delhi', 'Modi', 'Rohit']"
      ]
     },
     "execution_count": 12,
     "metadata": {},
     "output_type": "execute_result"
    }
   ],
   "source": [
    "ans=['Delhi','Modi','Rohit']\n",
    "test=ans.copy()\n",
    "test"
   ]
  },
  {
   "cell_type": "code",
   "execution_count": 13,
   "id": "0f587933-660b-4da8-969e-69dfea1797f4",
   "metadata": {},
   "outputs": [],
   "source": [
    "test.clear()"
   ]
  },
  {
   "cell_type": "code",
   "execution_count": 14,
   "id": "add1f38a-1034-46ad-9e6a-75c9b561a60c",
   "metadata": {},
   "outputs": [
    {
     "data": {
      "text/plain": [
       "[]"
      ]
     },
     "execution_count": 14,
     "metadata": {},
     "output_type": "execute_result"
    }
   ],
   "source": [
    "test"
   ]
  },
  {
   "cell_type": "code",
   "execution_count": 16,
   "id": "e062e777-ce7a-4c23-9bfd-50c54dfe271c",
   "metadata": {},
   "outputs": [
    {
     "data": {
      "text/plain": [
       "1"
      ]
     },
     "execution_count": 16,
     "metadata": {},
     "output_type": "execute_result"
    }
   ],
   "source": [
    "ans.count('Delhi')"
   ]
  },
  {
   "cell_type": "code",
   "execution_count": 26,
   "id": "78e08f95-f49d-4ad4-8865-2105ab09cef8",
   "metadata": {},
   "outputs": [
    {
     "data": {
      "text/plain": [
       "['Delhi', 'Modi', 'Rohit', 'a', 'a', 'k', 'a', 'M', 'o', 'd', 'i']"
      ]
     },
     "execution_count": 26,
     "metadata": {},
     "output_type": "execute_result"
    }
   ],
   "source": [
    "ans.extend('Modi')\n",
    "ans"
   ]
  },
  {
   "cell_type": "code",
   "execution_count": 23,
   "id": "0de30fec-77dc-470f-b0dc-98cd5771e669",
   "metadata": {},
   "outputs": [
    {
     "data": {
      "text/plain": [
       "4"
      ]
     },
     "execution_count": 23,
     "metadata": {},
     "output_type": "execute_result"
    }
   ],
   "source": [
    "ans.index('a',4)"
   ]
  },
  {
   "cell_type": "code",
   "execution_count": 28,
   "id": "5947b8a8-35ca-4260-b713-40976e67f576",
   "metadata": {},
   "outputs": [
    {
     "data": {
      "text/plain": [
       "['Delhi',\n",
       " 'Modi',\n",
       " 'Rohit',\n",
       " 'a',\n",
       " 'a',\n",
       " 'k',\n",
       " 'a',\n",
       " 'M',\n",
       " 'o',\n",
       " 'd',\n",
       " 'i',\n",
       " 'Modi',\n",
       " 'Modi']"
      ]
     },
     "execution_count": 28,
     "metadata": {},
     "output_type": "execute_result"
    }
   ],
   "source": [
    "ans.append('Modi')\n",
    "ans"
   ]
  },
  {
   "cell_type": "code",
   "execution_count": 30,
   "id": "eca5804c-f725-4c6d-b82c-486402eb9975",
   "metadata": {},
   "outputs": [
    {
     "data": {
      "text/plain": [
       "['Delhi',\n",
       " 'Modi',\n",
       " 'this',\n",
       " 'Rohit',\n",
       " 'a',\n",
       " 'a',\n",
       " 'k',\n",
       " 'a',\n",
       " 'M',\n",
       " 'o',\n",
       " 'd',\n",
       " 'i',\n",
       " 'Modi',\n",
       " 'Modi']"
      ]
     },
     "execution_count": 30,
     "metadata": {},
     "output_type": "execute_result"
    }
   ],
   "source": [
    "ans.insert(2,'this')\n",
    "ans"
   ]
  },
  {
   "cell_type": "code",
   "execution_count": 31,
   "id": "65c1e9cf-986c-4a1b-86e9-789d5787f60b",
   "metadata": {},
   "outputs": [],
   "source": [
    "ans.reverse()"
   ]
  },
  {
   "cell_type": "code",
   "execution_count": 32,
   "id": "e92c1018-28d7-45d5-b2aa-89317cfac603",
   "metadata": {},
   "outputs": [
    {
     "data": {
      "text/plain": [
       "['Modi',\n",
       " 'Modi',\n",
       " 'i',\n",
       " 'd',\n",
       " 'o',\n",
       " 'M',\n",
       " 'a',\n",
       " 'k',\n",
       " 'a',\n",
       " 'a',\n",
       " 'Rohit',\n",
       " 'this',\n",
       " 'Modi',\n",
       " 'Delhi']"
      ]
     },
     "execution_count": 32,
     "metadata": {},
     "output_type": "execute_result"
    }
   ],
   "source": [
    "ans"
   ]
  },
  {
   "cell_type": "code",
   "execution_count": 34,
   "id": "74ec1047-dd27-4a0b-b82b-f284a9afc91a",
   "metadata": {},
   "outputs": [
    {
     "data": {
      "text/plain": [
       "'Delhi'"
      ]
     },
     "execution_count": 34,
     "metadata": {},
     "output_type": "execute_result"
    }
   ],
   "source": [
    "ans.pop()"
   ]
  },
  {
   "cell_type": "code",
   "execution_count": 36,
   "id": "fc3165d7-f5ee-4012-942e-4660ff82c6cc",
   "metadata": {},
   "outputs": [
    {
     "ename": "ValueError",
     "evalue": "list.remove(x): x not in list",
     "output_type": "error",
     "traceback": [
      "\u001b[0;31m---------------------------------------------------------------------------\u001b[0m",
      "\u001b[0;31mValueError\u001b[0m                                Traceback (most recent call last)",
      "Cell \u001b[0;32mIn[36], line 1\u001b[0m\n\u001b[0;32m----> 1\u001b[0m ans\u001b[38;5;241m.\u001b[39mremove(\u001b[38;5;124m'\u001b[39m\u001b[38;5;124mmodi\u001b[39m\u001b[38;5;124m'\u001b[39m)\n\u001b[1;32m      2\u001b[0m ans\n",
      "\u001b[0;31mValueError\u001b[0m: list.remove(x): x not in list"
     ]
    }
   ],
   "source": [
    "ans.remove('modi')\n",
    "ans"
   ]
  },
  {
   "cell_type": "code",
   "execution_count": 37,
   "id": "f82a1f17-4f66-49ee-a3d4-dc7f756d0002",
   "metadata": {},
   "outputs": [],
   "source": [
    "ans.sort()"
   ]
  },
  {
   "cell_type": "code",
   "execution_count": 38,
   "id": "b9e24344-a539-4977-925a-527ca7f6e3c5",
   "metadata": {},
   "outputs": [
    {
     "data": {
      "text/plain": [
       "['M', 'Modi', 'Modi', 'Rohit', 'a', 'a', 'a', 'i', 'k', 'o', 'this']"
      ]
     },
     "execution_count": 38,
     "metadata": {},
     "output_type": "execute_result"
    }
   ],
   "source": [
    "ans"
   ]
  },
  {
   "cell_type": "markdown",
   "id": "3491868f-eaea-4719-a193-128dfff3545b",
   "metadata": {},
   "source": [
    "**iterable means we can list by using for loop**"
   ]
  },
  {
   "cell_type": "code",
   "execution_count": 39,
   "id": "3e5ff72d-ced7-4f35-92f8-05ee6ef264ff",
   "metadata": {},
   "outputs": [],
   "source": [
    "ans.extend('apple')"
   ]
  },
  {
   "cell_type": "code",
   "execution_count": 40,
   "id": "6d18f768-cbe5-4c5b-aa94-5cca91e28b7c",
   "metadata": {},
   "outputs": [
    {
     "data": {
      "text/plain": [
       "['M',\n",
       " 'Modi',\n",
       " 'Modi',\n",
       " 'Rohit',\n",
       " 'a',\n",
       " 'a',\n",
       " 'a',\n",
       " 'i',\n",
       " 'k',\n",
       " 'o',\n",
       " 'this',\n",
       " 'a',\n",
       " 'p',\n",
       " 'p',\n",
       " 'l',\n",
       " 'e']"
      ]
     },
     "execution_count": 40,
     "metadata": {},
     "output_type": "execute_result"
    }
   ],
   "source": [
    "ans"
   ]
  },
  {
   "cell_type": "code",
   "execution_count": null,
   "id": "eed9698e-6313-4457-a4b0-2646175ddd04",
   "metadata": {},
   "outputs": [],
   "source": []
  }
 ],
 "metadata": {
  "kernelspec": {
   "display_name": "Python 3 (ipykernel)",
   "language": "python",
   "name": "python3"
  },
  "language_info": {
   "codemirror_mode": {
    "name": "ipython",
    "version": 3
   },
   "file_extension": ".py",
   "mimetype": "text/x-python",
   "name": "python",
   "nbconvert_exporter": "python",
   "pygments_lexer": "ipython3",
   "version": "3.11.7"
  }
 },
 "nbformat": 4,
 "nbformat_minor": 5
}
