{
 "cells": [
  {
   "cell_type": "code",
   "execution_count": 1,
   "id": "a88b76fa-d1a8-49c7-b41a-feb3e7b80849",
   "metadata": {},
   "outputs": [
    {
     "name": "stdout",
     "output_type": "stream",
     "text": [
      "15\n"
     ]
    }
   ],
   "source": [
    "a=5\n",
    "b=10\n",
    "c=a+b\n",
    "print(c)"
   ]
  },
  {
   "cell_type": "code",
   "execution_count": 19,
   "id": "5da4c774-6307-4e16-96e6-65ed5b255403",
   "metadata": {},
   "outputs": [],
   "source": [
    "import random\n",
    "import math\n",
    "import time"
   ]
  },
  {
   "cell_type": "code",
   "execution_count": 5,
   "id": "86bde929-fc24-4143-a4bd-92c5ebe1d274",
   "metadata": {},
   "outputs": [
    {
     "name": "stdout",
     "output_type": "stream",
     "text": [
      "The squar of 18 is 324.\n"
     ]
    }
   ],
   "source": [
    "n1=random.randint(1,20)\n",
    "print(f'The squar of {n1} is {n1*n1}.')"
   ]
  },
  {
   "cell_type": "code",
   "execution_count": 6,
   "id": "020f133a-ab24-4a0d-bf60-2bd6dc0a09fa",
   "metadata": {},
   "outputs": [
    {
     "name": "stdout",
     "output_type": "stream",
     "text": [
      "4---8---12---16---20\n"
     ]
    }
   ],
   "source": [
    "n1=random.randint(1,20)\n",
    "print(n1,2*n1,3*n1,4*n1,5*n1,sep='---')"
   ]
  },
  {
   "cell_type": "code",
   "execution_count": 7,
   "id": "be0608cd-e18b-47cf-b09a-d0864e2142f4",
   "metadata": {},
   "outputs": [
    {
     "name": "stdout",
     "output_type": "stream",
     "text": [
      "12kgs is equal to 26.400000000000002 pounds.\n"
     ]
    }
   ],
   "source": [
    "n1=random.randint(1,40)\n",
    "print(f'{n1}kgs is equal to {2.2*n1} pounds.')"
   ]
  },
  {
   "cell_type": "code",
   "execution_count": 8,
   "id": "43407baa-a2ad-4957-aff2-42c6ef963fc9",
   "metadata": {},
   "outputs": [
    {
     "name": "stdout",
     "output_type": "stream",
     "text": [
      "The total of 19,35,9 numbers is 63 and their average is 21.0\n"
     ]
    }
   ],
   "source": [
    "n1=random.randint(1,20)\n",
    "n2=random.randint(1,40)\n",
    "n3=random.randint(1,25)\n",
    "total=n1+n2+n3\n",
    "average=(n1+n2+n3)/3\n",
    "print(f'The total of {n1},{n2},{n3} numbers is {total} and their average is {average}')"
   ]
  },
  {
   "cell_type": "code",
   "execution_count": 9,
   "id": "03ee897c-225a-4dc8-8193-291cc4d2ee1b",
   "metadata": {},
   "outputs": [
    {
     "name": "stdout",
     "output_type": "stream",
     "text": [
      "Tip amount is 567.6 and the total bill with tip is 1227.6\n"
     ]
    }
   ],
   "source": [
    "price=random.randint(1,1000)\n",
    "tip_percent=random.randint(1,100)\n",
    "tip=price*tip_percent/100\n",
    "print(f'Tip amount is {tip} and the total bill with tip is {price+tip}')"
   ]
  },
  {
   "cell_type": "code",
   "execution_count": 10,
   "id": "0c98fc4c-ee9c-45b5-954b-1599c0a95d5d",
   "metadata": {},
   "outputs": [
    {
     "name": "stdout",
     "output_type": "stream",
     "text": [
      "substraction = -2, addition=28, multiplication = 195 , Division = 0.8666666666666667\n"
     ]
    }
   ],
   "source": [
    "n1=random.randint(1,20)\n",
    "n2=random.randint(1,80)\n",
    "print(f'substraction = {n1-n2}, addition={n1+n2}, multiplication = {n1*n2} , Division = {n1/n2}')"
   ]
  },
  {
   "cell_type": "code",
   "execution_count": 14,
   "id": "0e6a1bee-9534-456d-a03f-56b5c8b789eb",
   "metadata": {},
   "outputs": [
    {
     "name": "stdout",
     "output_type": "stream",
     "text": [
      "Area of the circle with radius 3 is 28.274333882308138\n"
     ]
    }
   ],
   "source": [
    "radius=random.randint(1,20)\n",
    "pi=math.pi\n",
    "print(f'Area of the circle with radius {radius} is {pi*radius*radius}')"
   ]
  },
  {
   "cell_type": "code",
   "execution_count": 15,
   "id": "41b74625-4452-4337-9c0c-bc4fd3bdf677",
   "metadata": {},
   "outputs": [
    {
     "name": "stdout",
     "output_type": "stream",
     "text": [
      "The bill in rupees is 324\n"
     ]
    }
   ],
   "source": [
    "Bill=random.randint(1,20)\n",
    "Conv=random.randint(80,83)\n",
    "print(f'The bill in rupees is {Bill*Conv}')"
   ]
  },
  {
   "cell_type": "code",
   "execution_count": 16,
   "id": "124a121e-3997-4619-9e4e-697b42eaf387",
   "metadata": {},
   "outputs": [
    {
     "name": "stdout",
     "output_type": "stream",
     "text": [
      "Area of the triangle is 10.5\n"
     ]
    }
   ],
   "source": [
    "base=random.randint(1,20)\n",
    "height=random.randint(1,20)\n",
    "print('Area of the triangle is {}'.format((base*height)/2))"
   ]
  },
  {
   "cell_type": "code",
   "execution_count": 17,
   "id": "cdbc4092-3320-43e9-a403-cc962de4152e",
   "metadata": {},
   "outputs": [
    {
     "name": "stdout",
     "output_type": "stream",
     "text": [
      "Aread of rectangle is 60\n"
     ]
    }
   ],
   "source": [
    "Length=random.randint(1,20)\n",
    "Breadth=random.randint(1,20)\n",
    "print(f'Aread of rectangle is {Length*Breadth}')"
   ]
  },
  {
   "cell_type": "code",
   "execution_count": 26,
   "id": "0c52eb55-d2fe-44dd-9d83-d86749d8e152",
   "metadata": {},
   "outputs": [
    {
     "name": "stdout",
     "output_type": "stream",
     "text": [
      "Father: Hey Baby!\n",
      "Daughter: Hello Daddy\n",
      "Father: I heard your exams are over, what about result\n",
      "Daughter: Yes dad! Results are out.\n",
      "Father: what is the percentage?\n",
      "Daughter: I will give my subject wise marks, you tell me the percentage\n",
      "Father: Okay!\n",
      "First Language: 2\n",
      "Second Language: 55\n",
      "Third Language: 52\n",
      "Science : 31\n",
      "Maths: 85\n",
      "Daughter: Dad Now tell me how much percentage I got\n",
      "Father:Tell me the max marks of each subject\n",
      "Daughter: 100\n",
      "The percentage of marks is 45.0\n"
     ]
    }
   ],
   "source": [
    "print(f'Father: Hey Baby!')\n",
    "time.sleep(2)\n",
    "print(f'Daughter: Hello Daddy')\n",
    "time.sleep(2)\n",
    "print(f'Father: I heard your exams are over, what about result')\n",
    "time.sleep(2)\n",
    "print(f'Daughter: Yes dad! Results are out.')\n",
    "time.sleep(2)\n",
    "print(f'Father: what is the percentage?')\n",
    "time.sleep(2)\n",
    "print(f'Daughter: I will give my subject wise marks, you tell me the percentage')\n",
    "time.sleep(2)\n",
    "print(f'Father: Okay!')\n",
    "time.sleep(1)\n",
    "sub1=random.randint(0,100)\n",
    "print(f'First Language: {sub1}')\n",
    "time.sleep(1)\n",
    "sub2=random.randint(0,100)\n",
    "print(f'Second Language: {sub2}')\n",
    "time.sleep(1)\n",
    "sub3=random.randint(0,100)\n",
    "print(f'Third Language: {sub3}')\n",
    "time.sleep(1)\n",
    "sub4=random.randint(0,100)\n",
    "print(f'Science : {sub4}')\n",
    "time.sleep(1)\n",
    "sub5=random.randint(0,100)\n",
    "print(f'Maths: {sub5}')\n",
    "time.sleep(1)\n",
    "print(f'Daughter: Dad Now tell me how much percentage I got')\n",
    "time.sleep(2)\n",
    "print(f'Father:Tell me the max marks of each subject')\n",
    "time.sleep(2)\n",
    "max_marks=random.randint(100,100)\n",
    "print(f'Daughter: {max_marks}')\n",
    "time.sleep(3)\n",
    "Daughtermarks=sub1+sub2+sub3+sub4+sub5\n",
    "totalmarks=max_marks+max_marks+max_marks+max_marks+max_marks\n",
    "print(f'The percentage of marks is {(Daughtermarks/totalmarks)*100}')"
   ]
  },
  {
   "cell_type": "code",
   "execution_count": null,
   "id": "9566bccb-b3a0-4fa2-a8a6-c247e7798e08",
   "metadata": {},
   "outputs": [],
   "source": []
  }
 ],
 "metadata": {
  "kernelspec": {
   "display_name": "Python 3 (ipykernel)",
   "language": "python",
   "name": "python3"
  },
  "language_info": {
   "codemirror_mode": {
    "name": "ipython",
    "version": 3
   },
   "file_extension": ".py",
   "mimetype": "text/x-python",
   "name": "python",
   "nbconvert_exporter": "python",
   "pygments_lexer": "ipython3",
   "version": "3.12.4"
  }
 },
 "nbformat": 4,
 "nbformat_minor": 5
}
