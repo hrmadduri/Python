{
 "cells": [
  {
   "cell_type": "code",
   "execution_count": null,
   "id": "5e70650c-442a-4cd7-b2cd-d986c96322c7",
   "metadata": {},
   "outputs": [],
   "source": [
    "\n",
    "\n",
    "\n",
    "\n",
    "\n",
    "\n",
    "# wap ask the user enter a number\n",
    "# if that number greater than zero print postive\n",
    "# if that number less than zero print negative\n",
    "# otherwise print zero\n",
    "\n",
    "# WAP ask the user enter the percentage of marks 0 to 100\n",
    "# if percentagw gretaer than 90  print A garde\n",
    "# if percentage between 75 to 90 print B garde\n",
    "# if percentage between 50 to 75 print C grade\n",
    "# if percentage between 35 to 50 print D grade\n",
    "# if percentage less than 35 print Fail\n",
    "\n",
    "# WAP ask the user enter the age\n",
    "# if the age greater tahn 100 print you are lucky\n",
    "# if the age gretaer than 75 print old age\n",
    "# if the age  between 50 to 75 print ss\n",
    "# if the age between  30 tp 50 print MA\n",
    "# if the age between  15 to 30 print young age\n",
    "# if the afe between less than 15 print kid"
   ]
  },
  {
   "cell_type": "code",
   "execution_count": 3,
   "id": "421b7825-f609-4ee5-9576-9a173324085a",
   "metadata": {},
   "outputs": [
    {
     "name": "stdin",
     "output_type": "stream",
     "text": [
      "enter a number 5\n"
     ]
    },
    {
     "name": "stdout",
     "output_type": "stream",
     "text": [
      "odd number\n"
     ]
    }
   ],
   "source": [
    "# wap ask the user enter a number\n",
    "# find it is a even number or odd number\n",
    "# idea: any number divide by 2 , the remiander=0\n",
    "#       it is called as even number\n",
    "n1=eval(input('enter a number'))\n",
    "if(n1%2==0):\n",
    "    print('even number')\n",
    "else:\n",
    "    print('odd number')"
   ]
  },
  {
   "cell_type": "code",
   "execution_count": 4,
   "id": "05e9f100-8935-45d3-a227-dbbfed24c199",
   "metadata": {},
   "outputs": [
    {
     "name": "stdout",
     "output_type": "stream",
     "text": [
      "odd number\n"
     ]
    }
   ],
   "source": [
    "# Implement the above problem by taking a random input  between  1, 100\n",
    "import random\n",
    "n1=random.randint(1,100)\n",
    "if(n1%2==0):\n",
    "    print('even number')\n",
    "else:\n",
    "    print('odd number')"
   ]
  },
  {
   "cell_type": "code",
   "execution_count": 5,
   "id": "6e7d426c-1a04-4398-8cd3-6898914da413",
   "metadata": {},
   "outputs": [
    {
     "name": "stdin",
     "output_type": "stream",
     "text": [
      "enter distance :  80\n",
      "charge in rs:  2\n"
     ]
    },
    {
     "name": "stdout",
     "output_type": "stream",
     "text": [
      "Total cost is 160\n"
     ]
    }
   ],
   "source": [
    "# wap ask the user enter the distance\n",
    "# if distance greater than 25km\n",
    "#      then enter the charge\n",
    "#      print the total cost\n",
    "#otherwise\n",
    "#      print free ride\n",
    "distance=eval(input('enter distance : '))\n",
    "if(distance >25):\n",
    "    charge=eval(input('charge in rs: '))\n",
    "    print(f'Total cost is {distance*charge}')\n",
    "else:\n",
    "    print('Free ride')"
   ]
  },
  {
   "cell_type": "code",
   "execution_count": 6,
   "id": "d964709f-1c6a-4a29-848b-cdf9c4a58288",
   "metadata": {},
   "outputs": [
    {
     "name": "stdin",
     "output_type": "stream",
     "text": [
      "enter distance :  85\n",
      "cutoff distance :  30\n"
     ]
    },
    {
     "name": "stdout",
     "output_type": "stream",
     "text": [
      "good news your charge is aplicable for only 60\n"
     ]
    },
    {
     "name": "stdin",
     "output_type": "stream",
     "text": [
      "charge in rs:  5\n"
     ]
    },
    {
     "name": "stdout",
     "output_type": "stream",
     "text": [
      "Total cost is 275\n"
     ]
    }
   ],
   "source": [
    "# wap ask the user enter the distance\n",
    "# cutoff distance enter 25\n",
    "# if distance greater than 25km\n",
    "#      print(\"good news your charge is aplicable for only remaining of 25\")\n",
    "#      chargeble distance= distance-cutoff\n",
    "#      then enter the charge\n",
    "#      print the total cost\n",
    "#otherwise\n",
    "#      print free ride\n",
    "distance=eval(input('enter distance : '))\n",
    "cutoff=eval(input('cutoff distance : '))\n",
    "if(distance >25):\n",
    "    print(f\"good news your charge is aplicable for only {distance-25}\")\n",
    "    chargebledistance= distance-cutoff\n",
    "    charge=eval(input('charge in rs: '))\n",
    "    print(f'Total cost is {chargebledistance*charge}')\n",
    "else:\n",
    "    print('Free ride')"
   ]
  },
  {
   "cell_type": "code",
   "execution_count": 7,
   "id": "4c9263de-6678-4407-9e43-ad97a2023814",
   "metadata": {},
   "outputs": [
    {
     "name": "stdin",
     "output_type": "stream",
     "text": [
      "enter couse name -  history\n",
      "enter institute name -  jntu\n"
     ]
    },
    {
     "name": "stdout",
     "output_type": "stream",
     "text": [
      "you are bad\n"
     ]
    }
   ],
   "source": [
    "# wap ask the user enter the course\n",
    "# ask the user enter the Institute\n",
    "# if the course equal to data science and institute equal to naresh it\n",
    "#     then you are good\n",
    "# otherwise\n",
    "#     you are bad\n",
    "Course=input('enter couse name - ')\n",
    "institute=input('enter institute name - ')\n",
    "if(Course=='data science' and institute=='naresh it'):\n",
    "    print('you are good')\n",
    "else:\n",
    "    print('you are bad')"
   ]
  },
  {
   "cell_type": "code",
   "execution_count": 8,
   "id": "2cecfe1f-1f35-4fd4-b6de-d6c844d94d40",
   "metadata": {},
   "outputs": [
    {
     "name": "stdin",
     "output_type": "stream",
     "text": [
      "enter a number 8\n"
     ]
    },
    {
     "name": "stdout",
     "output_type": "stream",
     "text": [
      "you lost\n"
     ]
    }
   ],
   "source": [
    "# wap ask the user enter a random number between 1 to 10, treat this as number1\n",
    "# ask the user enter another number from keyboard, treat this as number2\n",
    "# if number1 equal to number2\n",
    "#     print you won\n",
    "# otherwise\n",
    "#     print you lost\n",
    "import random\n",
    "n1=random.randint(1,10)\n",
    "n2=eval(input('enter a number'))\n",
    "if(n1==n2):\n",
    "    print('you won')\n",
    "else:\n",
    "    print('you lost')"
   ]
  },
  {
   "cell_type": "code",
   "execution_count": 9,
   "id": "4e418219-19de-4cc1-996b-be27c083f1cb",
   "metadata": {},
   "outputs": [
    {
     "name": "stdin",
     "output_type": "stream",
     "text": [
      "enter a number 9\n"
     ]
    },
    {
     "name": "stdout",
     "output_type": "stream",
     "text": [
      "enter valid number\n"
     ]
    }
   ],
   "source": [
    "# wap ask the user enter number\n",
    "# if number equal to 1 then print one\n",
    "# if number equal to 2 then print two\n",
    "# if number equal to 3 then print three\n",
    "# otherwise  print enter a valid number\n",
    "n1=eval(input('enter a number'))\n",
    "if(n1==1):\n",
    "    print('one')\n",
    "elif(n1==2):\n",
    "    print('two')\n",
    "elif(n1==3):\n",
    "    print('three')\n",
    "else:\n",
    "    print('enter valid number')\n",
    "    "
   ]
  },
  {
   "cell_type": "code",
   "execution_count": 10,
   "id": "4707a8be-d61c-4cdb-9507-cd0647a3945e",
   "metadata": {},
   "outputs": [
    {
     "name": "stdin",
     "output_type": "stream",
     "text": [
      "enter a number 58\n"
     ]
    },
    {
     "name": "stdout",
     "output_type": "stream",
     "text": [
      "Positive\n"
     ]
    }
   ],
   "source": [
    "# wap ask the user enter a number\n",
    "# if that number greater than zero print postive\n",
    "# if that number less than zero print negative\n",
    "# otherwise print zero\n",
    "n1=eval(input('enter a number'))\n",
    "if(n1>0):\n",
    "    print('Positive')\n",
    "elif(n1<0):\n",
    "    print('Negative')\n",
    "else:\n",
    "    print('Zero')"
   ]
  },
  {
   "cell_type": "code",
   "execution_count": 11,
   "id": "a49cfb0a-0ece-4bc9-b13f-345f978e1360",
   "metadata": {},
   "outputs": [
    {
     "name": "stdin",
     "output_type": "stream",
     "text": [
      "enter the percentage of marks 0 to 100 76\n"
     ]
    },
    {
     "name": "stdout",
     "output_type": "stream",
     "text": [
      "B Grade\n"
     ]
    }
   ],
   "source": [
    "# WAP ask the user enter the percentage of marks 0 to 100\n",
    "# if percentagw gretaer than 90  print A garde\n",
    "# if percentage between 75 to 90 print B garde\n",
    "# if percentage between 50 to 75 print C grade\n",
    "# if percentage between 35 to 50 print D grade\n",
    "# if percentage less than 35 print Fail\n",
    "n1=eval(input('enter the percentage of marks 0 to 100'))\n",
    "if(n1>=90):\n",
    "    print('A grade')\n",
    "elif(n1<90 and n1>=75):\n",
    "    print('B Grade')\n",
    "elif(n1<75 and n1>=50):\n",
    "    print('C Grade')\n",
    "elif(n1<50 and n1>=35):\n",
    "    print('D Grade')\n",
    "elif(n1<35):\n",
    "    print('Fail')\n",
    "    "
   ]
  },
  {
   "cell_type": "code",
   "execution_count": 13,
   "id": "ddc9ba6f-0cdf-4901-87ef-464c46260064",
   "metadata": {},
   "outputs": [
    {
     "name": "stdin",
     "output_type": "stream",
     "text": [
      "Enter the age -  78\n"
     ]
    },
    {
     "name": "stdout",
     "output_type": "stream",
     "text": [
      "old age\n"
     ]
    }
   ],
   "source": [
    "# WAP ask the user enter the age\n",
    "# if the age greater tahn 100 print you are lucky\n",
    "# if the age gretaer than 75 print old age\n",
    "# if the age  between 50 to 75 print ss\n",
    "# if the age between  30 tp 50 print MA\n",
    "# if the age between  15 to 30 print young age\n",
    "# if the afe between less than 15 print kid\n",
    "Age=eval(input('Enter the age - '))\n",
    "if(Age>100):\n",
    "         print('you are lucky')\n",
    "elif(Age>75):\n",
    "    print('old age')\n",
    "elif(Age>=50 and Age<75):\n",
    "    print('senior citizen')\n",
    "elif(Age>=30 and Age<50):\n",
    "    print('Middle Aged')\n",
    "elif(Age>=15 and Age<30):\n",
    "    print('young age')\n",
    "elif(Age<15):\n",
    "    print('kid')"
   ]
  },
  {
   "cell_type": "code",
   "execution_count": null,
   "id": "e8bda71d-2423-4e6e-ac95-d9ca6445971b",
   "metadata": {},
   "outputs": [],
   "source": []
  }
 ],
 "metadata": {
  "kernelspec": {
   "display_name": "Python 3 (ipykernel)",
   "language": "python",
   "name": "python3"
  },
  "language_info": {
   "codemirror_mode": {
    "name": "ipython",
    "version": 3
   },
   "file_extension": ".py",
   "mimetype": "text/x-python",
   "name": "python",
   "nbconvert_exporter": "python",
   "pygments_lexer": "ipython3",
   "version": "3.11.7"
  }
 },
 "nbformat": 4,
 "nbformat_minor": 5
}
