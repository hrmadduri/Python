{
 "cells": [
  {
   "cell_type": "code",
   "execution_count": 3,
   "id": "89552e0c-3031-43c3-bb89-7e57682377dc",
   "metadata": {},
   "outputs": [],
   "source": [
    "import os"
   ]
  },
  {
   "cell_type": "code",
   "execution_count": 4,
   "id": "a56666a1-e071-45bc-a738-6815be6b46ec",
   "metadata": {},
   "outputs": [
    {
     "data": {
      "text/plain": [
       "'/Users/hmadduri/Documents/Haranath/001 Data Science Training/Python'"
      ]
     },
     "execution_count": 4,
     "metadata": {},
     "output_type": "execute_result"
    }
   ],
   "source": [
    "os.getcwd()\n"
   ]
  },
  {
   "cell_type": "code",
   "execution_count": 6,
   "id": "b1cf71b3-d75d-4789-aba6-835b1604b930",
   "metadata": {},
   "outputs": [
    {
     "data": {
      "text/plain": [
       "15"
      ]
     },
     "execution_count": 6,
     "metadata": {},
     "output_type": "execute_result"
    }
   ],
   "source": [
    "0b1111"
   ]
  },
  {
   "cell_type": "code",
   "execution_count": 7,
   "id": "6d3b3364-bf1e-4c7e-9b7c-6dee9dc325e3",
   "metadata": {},
   "outputs": [
    {
     "ename": "SyntaxError",
     "evalue": "invalid syntax (3339863919.py, line 1)",
     "output_type": "error",
     "traceback": [
      "\u001b[0;36m  Cell \u001b[0;32mIn[7], line 1\u001b[0;36m\u001b[0m\n\u001b[0;31m    0  0  0  0\u001b[0m\n\u001b[0m       ^\u001b[0m\n\u001b[0;31mSyntaxError\u001b[0m\u001b[0;31m:\u001b[0m invalid syntax\n"
     ]
    }
   ],
   "source": [
    "0  0  0  0\n",
    "0  0  0  1\n"
   ]
  },
  {
   "cell_type": "code",
   "execution_count": 8,
   "id": "6732f113-9682-4967-9a00-02e3beb11880",
   "metadata": {},
   "outputs": [
    {
     "data": {
      "text/plain": [
       "29"
      ]
     },
     "execution_count": 8,
     "metadata": {},
     "output_type": "execute_result"
    }
   ],
   "source": [
    "0b11101"
   ]
  },
  {
   "cell_type": "code",
   "execution_count": 9,
   "id": "5d54dd75-e3c7-4a3c-89fe-02903d2ac32f",
   "metadata": {},
   "outputs": [
    {
     "data": {
      "text/plain": [
       "59"
      ]
     },
     "execution_count": 9,
     "metadata": {},
     "output_type": "execute_result"
    }
   ],
   "source": [
    "0b111011"
   ]
  },
  {
   "cell_type": "code",
   "execution_count": 10,
   "id": "2fd4948a-a6de-42d9-a10c-3d75c3a34013",
   "metadata": {},
   "outputs": [
    {
     "data": {
      "text/plain": [
       "83"
      ]
     },
     "execution_count": 10,
     "metadata": {},
     "output_type": "execute_result"
    }
   ],
   "source": [
    "0o123"
   ]
  },
  {
   "cell_type": "code",
   "execution_count": 11,
   "id": "c55b82e5-902d-432e-b12c-5ec2051c15dc",
   "metadata": {},
   "outputs": [
    {
     "ename": "SyntaxError",
     "evalue": "invalid digit '8' in octal literal (597003560.py, line 1)",
     "output_type": "error",
     "traceback": [
      "\u001b[0;36m  Cell \u001b[0;32mIn[11], line 1\u001b[0;36m\u001b[0m\n\u001b[0;31m    0O567834\u001b[0m\n\u001b[0m         ^\u001b[0m\n\u001b[0;31mSyntaxError\u001b[0m\u001b[0;31m:\u001b[0m invalid digit '8' in octal literal\n"
     ]
    }
   ],
   "source": [
    "0O567834"
   ]
  },
  {
   "cell_type": "code",
   "execution_count": 12,
   "id": "7c02966a-7299-4e21-8bcd-c1ca2426a3c5",
   "metadata": {},
   "outputs": [
    {
     "data": {
      "text/plain": [
       "668"
      ]
     },
     "execution_count": 12,
     "metadata": {},
     "output_type": "execute_result"
    }
   ],
   "source": [
    "0o1234"
   ]
  },
  {
   "cell_type": "code",
   "execution_count": 13,
   "id": "1b975838-d85b-4a7a-bf5a-e29583e1f018",
   "metadata": {},
   "outputs": [
    {
     "data": {
      "text/plain": [
       "2748"
      ]
     },
     "execution_count": 13,
     "metadata": {},
     "output_type": "execute_result"
    }
   ],
   "source": [
    "0xabc"
   ]
  },
  {
   "cell_type": "code",
   "execution_count": 14,
   "id": "8427be7d-8a0b-4fee-908b-f54ea8005dbf",
   "metadata": {},
   "outputs": [
    {
     "data": {
      "text/plain": [
       "2748"
      ]
     },
     "execution_count": 14,
     "metadata": {},
     "output_type": "execute_result"
    }
   ],
   "source": [
    "2560+176+12"
   ]
  },
  {
   "cell_type": "code",
   "execution_count": 15,
   "id": "ed77595f-82cf-49f5-a2b5-3fd368b07938",
   "metadata": {},
   "outputs": [
    {
     "data": {
      "text/plain": [
       "4671"
      ]
     },
     "execution_count": 15,
     "metadata": {},
     "output_type": "execute_result"
    }
   ],
   "source": [
    "0x123f"
   ]
  },
  {
   "cell_type": "code",
   "execution_count": 17,
   "id": "62216ec5-b3b8-4c24-83e9-fb5914441e01",
   "metadata": {},
   "outputs": [],
   "source": [
    "n1=256+4096+16"
   ]
  },
  {
   "cell_type": "code",
   "execution_count": 18,
   "id": "88881638-e8c9-4093-a159-9125f420acae",
   "metadata": {},
   "outputs": [
    {
     "data": {
      "text/plain": [
       "int"
      ]
     },
     "execution_count": 18,
     "metadata": {},
     "output_type": "execute_result"
    }
   ],
   "source": [
    "type(n1)\n"
   ]
  },
  {
   "cell_type": "code",
   "execution_count": 19,
   "id": "fb099d41-cd0a-4822-a0a0-eb89a8b436b3",
   "metadata": {},
   "outputs": [
    {
     "data": {
      "text/plain": [
       "23000.0"
      ]
     },
     "execution_count": 19,
     "metadata": {},
     "output_type": "execute_result"
    }
   ],
   "source": [
    "23e3\n"
   ]
  },
  {
   "cell_type": "code",
   "execution_count": 20,
   "id": "d3e7a18a-5bb7-487a-8d53-66dbd3c31a3f",
   "metadata": {},
   "outputs": [],
   "source": [
    "n2=24e5"
   ]
  },
  {
   "cell_type": "code",
   "execution_count": 21,
   "id": "aec72428-121f-41fd-bc3c-8640230fa3ad",
   "metadata": {},
   "outputs": [
    {
     "data": {
      "text/plain": [
       "float"
      ]
     },
     "execution_count": 21,
     "metadata": {},
     "output_type": "execute_result"
    }
   ],
   "source": [
    "type(n2)"
   ]
  },
  {
   "cell_type": "code",
   "execution_count": 22,
   "id": "e866a758-77d5-4244-acce-626ffb0ff9ee",
   "metadata": {},
   "outputs": [
    {
     "data": {
      "text/plain": [
       "0.024"
      ]
     },
     "execution_count": 22,
     "metadata": {},
     "output_type": "execute_result"
    }
   ],
   "source": [
    "24e-3"
   ]
  },
  {
   "cell_type": "markdown",
   "id": "8b9bdf1b-db7a-40c7-ac37-4cd2ea97dad2",
   "metadata": {},
   "source": [
    "strings are represented with single,double and triple quotes"
   ]
  },
  {
   "cell_type": "code",
   "execution_count": 24,
   "id": "aa2a5006-90af-4144-b04d-cdec6b31f27d",
   "metadata": {},
   "outputs": [
    {
     "data": {
      "text/plain": [
       "str"
      ]
     },
     "execution_count": 24,
     "metadata": {},
     "output_type": "execute_result"
    }
   ],
   "source": [
    "n1='Haranath'\n",
    "type(n1)"
   ]
  },
  {
   "cell_type": "code",
   "execution_count": 25,
   "id": "605c8907-0199-464b-9b6d-f7baeeb30e4b",
   "metadata": {},
   "outputs": [
    {
     "data": {
      "text/plain": [
       "str"
      ]
     },
     "execution_count": 25,
     "metadata": {},
     "output_type": "execute_result"
    }
   ],
   "source": [
    "n2=\"Haranath\"\n",
    "type(n2)"
   ]
  },
  {
   "cell_type": "markdown",
   "id": "32dfffa0-bf2f-4609-b73b-702a53ec555d",
   "metadata": {},
   "source": [
    "* Red color means String\n",
    "* Green color means keywords\n",
    "* Black color means Variables"
   ]
  },
  {
   "cell_type": "code",
   "execution_count": 30,
   "id": "518693a9-4b83-42ef-af82-c164547ed9d1",
   "metadata": {},
   "outputs": [],
   "source": [
    "name = \"this is 'test'\""
   ]
  },
  {
   "cell_type": "code",
   "execution_count": 31,
   "id": "ca90e336-6b11-4d5a-b0f1-0c9c49348fa3",
   "metadata": {},
   "outputs": [
    {
     "name": "stdout",
     "output_type": "stream",
     "text": [
      "this is 'test'\n"
     ]
    }
   ],
   "source": [
    "print(name)\n"
   ]
  },
  {
   "cell_type": "code",
   "execution_count": 32,
   "id": "500dcc5f-3239-429e-935c-d295f1f1ef0c",
   "metadata": {},
   "outputs": [
    {
     "data": {
      "text/plain": [
       "\"this is 'test'\""
      ]
     },
     "execution_count": 32,
     "metadata": {},
     "output_type": "execute_result"
    }
   ],
   "source": [
    "name"
   ]
  },
  {
   "cell_type": "markdown",
   "id": "d7d9fce9-9fb0-44a9-81a1-083ddd3ccf3b",
   "metadata": {},
   "source": [
    "* Entire string in double quotes and hightlighted code in single codes and vice versa will give same result"
   ]
  },
  {
   "cell_type": "markdown",
   "id": "f21b7db5-54e9-4906-903a-c4a4bdb7743b",
   "metadata": {},
   "source": [
    "*** Triple quotes ***\n",
    "\n",
    "* Triple quotes are not used in the code\n",
    "* it is used to provide information to client\n",
    "* in order to provide information in Jupyter notebook we will markdown\n",
    "* in vscode or pycharm there is no markdown option\n",
    "* thats why world started using triple quotes for information\n",
    "* this entire process is called  **Doc String**"
   ]
  },
  {
   "cell_type": "code",
   "execution_count": 33,
   "id": "b8bca1e0-b868-460a-a908-0413b3600d04",
   "metadata": {},
   "outputs": [],
   "source": [
    "true='True'\n",
    "false=False\n"
   ]
  },
  {
   "cell_type": "code",
   "execution_count": 34,
   "id": "9b10fe4f-da03-4439-920b-31a11bf48294",
   "metadata": {},
   "outputs": [
    {
     "data": {
      "text/plain": [
       "str"
      ]
     },
     "execution_count": 34,
     "metadata": {},
     "output_type": "execute_result"
    }
   ],
   "source": [
    "type(true)\n"
   ]
  },
  {
   "cell_type": "code",
   "execution_count": 35,
   "id": "b7561cad-cd50-47ec-8c3f-6bffdc7d9c6f",
   "metadata": {},
   "outputs": [
    {
     "data": {
      "text/plain": [
       "bool"
      ]
     },
     "execution_count": 35,
     "metadata": {},
     "output_type": "execute_result"
    }
   ],
   "source": [
    "type(false)"
   ]
  },
  {
   "cell_type": "code",
   "execution_count": null,
   "id": "9644cf29-d3e4-4d58-84bc-b9e115f58130",
   "metadata": {},
   "outputs": [],
   "source": []
  }
 ],
 "metadata": {
  "kernelspec": {
   "display_name": "Python 3 (ipykernel)",
   "language": "python",
   "name": "python3"
  },
  "language_info": {
   "codemirror_mode": {
    "name": "ipython",
    "version": 3
   },
   "file_extension": ".py",
   "mimetype": "text/x-python",
   "name": "python",
   "nbconvert_exporter": "python",
   "pygments_lexer": "ipython3",
   "version": "3.11.7"
  }
 },
 "nbformat": 4,
 "nbformat_minor": 5
}
