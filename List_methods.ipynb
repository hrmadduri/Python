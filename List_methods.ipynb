{
 "cells": [
  {
   "cell_type": "code",
   "execution_count": 1,
   "id": "eda8d0bb-0c16-4382-b552-621e6a97bb51",
   "metadata": {},
   "outputs": [
    {
     "name": "stdout",
     "output_type": "stream",
     "text": [
      "the positive index w is 0\n",
      "the positive index e is 1\n",
      "the positive index l is 2\n",
      "the positive index c is 3\n",
      "the positive index o is 4\n",
      "the positive index m is 5\n",
      "the positive index e is 6\n"
     ]
    }
   ],
   "source": [
    "n='welcome'\n",
    "for i in range(len(n)):\n",
    "    print(f'the positive index {n[i]} is {i}')"
   ]
  },
  {
   "cell_type": "code",
   "execution_count": 6,
   "id": "ec4a6286-3e9c-4728-8377-314d81bf940b",
   "metadata": {},
   "outputs": [
    {
     "data": {
      "text/plain": [
       "9"
      ]
     },
     "execution_count": 6,
     "metadata": {},
     "output_type": "execute_result"
    }
   ],
   "source": [
    "a=range(5,10)\n",
    "a[4]"
   ]
  },
  {
   "cell_type": "code",
   "execution_count": 3,
   "id": "26feaad6-61d3-4cc2-8ef5-5e29e07d175c",
   "metadata": {},
   "outputs": [
    {
     "data": {
      "text/plain": [
       "['__add__',\n",
       " '__class__',\n",
       " '__class_getitem__',\n",
       " '__contains__',\n",
       " '__delattr__',\n",
       " '__delitem__',\n",
       " '__dir__',\n",
       " '__doc__',\n",
       " '__eq__',\n",
       " '__format__',\n",
       " '__ge__',\n",
       " '__getattribute__',\n",
       " '__getitem__',\n",
       " '__getstate__',\n",
       " '__gt__',\n",
       " '__hash__',\n",
       " '__iadd__',\n",
       " '__imul__',\n",
       " '__init__',\n",
       " '__init_subclass__',\n",
       " '__iter__',\n",
       " '__le__',\n",
       " '__len__',\n",
       " '__lt__',\n",
       " '__mul__',\n",
       " '__ne__',\n",
       " '__new__',\n",
       " '__reduce__',\n",
       " '__reduce_ex__',\n",
       " '__repr__',\n",
       " '__reversed__',\n",
       " '__rmul__',\n",
       " '__setattr__',\n",
       " '__setitem__',\n",
       " '__sizeof__',\n",
       " '__str__',\n",
       " '__subclasshook__',\n",
       " 'append',\n",
       " 'clear',\n",
       " 'copy',\n",
       " 'count',\n",
       " 'extend',\n",
       " 'index',\n",
       " 'insert',\n",
       " 'pop',\n",
       " 'remove',\n",
       " 'reverse',\n",
       " 'sort']"
      ]
     },
     "execution_count": 3,
     "metadata": {},
     "output_type": "execute_result"
    }
   ],
   "source": [
    "dir([])"
   ]
  },
  {
   "cell_type": "markdown",
   "id": "3340571d-5cc5-4c13-b703-8986e2f00cc9",
   "metadata": {},
   "source": [
    "**append**\n",
    "\n",
    "- adding elements in a list at last index\n",
    "- append method is very important\n",
    "- most of the time we will use append in our real time projects\n",
    "- when you add a value the orignal list will be overwritten"
   ]
  },
  {
   "cell_type": "code",
   "execution_count": 4,
   "id": "5f1d30a6-d8d5-4219-9d33-e84876e50998",
   "metadata": {},
   "outputs": [
    {
     "data": {
      "text/plain": [
       "['Apple', 'Ball', 'Cat']"
      ]
     },
     "execution_count": 4,
     "metadata": {},
     "output_type": "execute_result"
    }
   ],
   "source": [
    "l=['Apple','Ball','Cat']\n",
    "l"
   ]
  },
  {
   "cell_type": "code",
   "execution_count": null,
   "id": "dc60bcff-bdca-4e42-ab30-3d115c7d0142",
   "metadata": {},
   "outputs": [],
   "source": [
    "# Add doll in given list\n",
    "# keywords vs methods\n",
    "len()\n",
    "max()\n",
    "min()\n",
    "reversed()\n",
    "sorted()\n",
    "\n",
    "#methods\n",
    "<package>.<method>()"
   ]
  },
  {
   "cell_type": "code",
   "execution_count": 6,
   "id": "175888ef-4c32-4ac3-beee-ff1be8e70aa6",
   "metadata": {},
   "outputs": [],
   "source": [
    "l.append('Doll')"
   ]
  },
  {
   "cell_type": "code",
   "execution_count": 7,
   "id": "f5855f79-058d-4c83-8778-3aa474381ad7",
   "metadata": {},
   "outputs": [
    {
     "data": {
      "text/plain": [
       "['Apple', 'Ball', 'Cat', 'Doll']"
      ]
     },
     "execution_count": 7,
     "metadata": {},
     "output_type": "execute_result"
    }
   ],
   "source": [
    "l"
   ]
  },
  {
   "cell_type": "code",
   "execution_count": 9,
   "id": "fe587839-3e0f-4b11-8256-3012519caf0e",
   "metadata": {},
   "outputs": [
    {
     "data": {
      "text/plain": [
       "[10, 20, 'apple', ['A', 1], [...]]"
      ]
     },
     "execution_count": 9,
     "metadata": {},
     "output_type": "execute_result"
    }
   ],
   "source": [
    "l2=[]\n",
    "l2.append(10)\n",
    "l2.append(20)\n",
    "l2.append('apple')\n",
    "l2.append(['A',1])\n",
    "l2.append(l2)\n",
    "l2"
   ]
  },
  {
   "cell_type": "code",
   "execution_count": 13,
   "id": "1b8a20ec-b08a-4fa1-93d8-4953f9001e5b",
   "metadata": {},
   "outputs": [
    {
     "data": {
      "text/plain": [
       "['A', 1]"
      ]
     },
     "execution_count": 13,
     "metadata": {},
     "output_type": "execute_result"
    }
   ],
   "source": [
    "l2[3]\n"
   ]
  },
  {
   "cell_type": "code",
   "execution_count": 17,
   "id": "01161050-e7d7-4f41-b6cb-abfb2e8eab06",
   "metadata": {},
   "outputs": [
    {
     "data": {
      "text/plain": [
       "[1, 4, 9, 16, 25]"
      ]
     },
     "execution_count": 17,
     "metadata": {},
     "output_type": "execute_result"
    }
   ],
   "source": [
    "square_list=[]\n",
    "for i in range(1,6):\n",
    "    square_list.append(i*i)\n",
    "\n",
    "square_list"
   ]
  },
  {
   "cell_type": "code",
   "execution_count": 19,
   "id": "ca0632d2-0c39-4db2-97d1-14b56967c313",
   "metadata": {},
   "outputs": [
    {
     "data": {
      "text/plain": [
       "[0, 1, 2, 3, 4, 5]"
      ]
     },
     "execution_count": 19,
     "metadata": {},
     "output_type": "execute_result"
    }
   ],
   "source": [
    "s='python'\n",
    "index_list=[]\n",
    "for i in range(len(s)):\n",
    "    index_list.append(i)\n",
    "index_list"
   ]
  },
  {
   "cell_type": "code",
   "execution_count": 22,
   "id": "0e7ed90d-5c0a-4c94-86d3-d17435453670",
   "metadata": {},
   "outputs": [
    {
     "data": {
      "text/plain": [
       "['Mumbai', 'chennai']"
      ]
     },
     "execution_count": 22,
     "metadata": {},
     "output_type": "execute_result"
    }
   ],
   "source": [
    "l1=['Hyd','Mumbai','chennai','blr']\n",
    "#we want elements whose len id greater than 4\n",
    "l2=[]\n",
    "for i in range(len(l1)):\n",
    "    if(len(l1[i])>4):\n",
    "        l2.append(l1[i])\n",
    "\n",
    "l2"
   ]
  },
  {
   "cell_type": "code",
   "execution_count": 23,
   "id": "a84cb989-e59c-4e37-8a90-cec44a686187",
   "metadata": {},
   "outputs": [],
   "source": [
    "l1=['Hyd','Mum#bai','chen#nai','blr']\n",
    "#we want items with hash"
   ]
  },
  {
   "cell_type": "code",
   "execution_count": 24,
   "id": "65281a84-049f-478f-b5d1-7a9046fea1a8",
   "metadata": {},
   "outputs": [],
   "source": [
    "l1=['Hyd','Mum#bai','chen#nai','blr']\n",
    "# we want elements which are having first letter capital"
   ]
  },
  {
   "cell_type": "code",
   "execution_count": 1,
   "id": "c0a4a62a-2161-4b5f-a90d-c9b8e1abb257",
   "metadata": {},
   "outputs": [
    {
     "data": {
      "text/plain": [
       "['In',\n",
       " 'Out',\n",
       " '_',\n",
       " '__',\n",
       " '___',\n",
       " '__builtin__',\n",
       " '__builtins__',\n",
       " '__doc__',\n",
       " '__loader__',\n",
       " '__name__',\n",
       " '__package__',\n",
       " '__session__',\n",
       " '__spec__',\n",
       " '_dh',\n",
       " '_i',\n",
       " '_i1',\n",
       " '_ih',\n",
       " '_ii',\n",
       " '_iii',\n",
       " '_oh',\n",
       " 'exit',\n",
       " 'get_ipython',\n",
       " 'open',\n",
       " 'quit']"
      ]
     },
     "execution_count": 1,
     "metadata": {},
     "output_type": "execute_result"
    }
   ],
   "source": [
    "dir()\n"
   ]
  },
  {
   "cell_type": "code",
   "execution_count": 11,
   "id": "effbc98f-45e6-4c25-bbd9-4647a06e3272",
   "metadata": {},
   "outputs": [
    {
     "data": {
      "text/plain": [
       "['In',\n",
       " 'Out',\n",
       " '_',\n",
       " '_10',\n",
       " '_2',\n",
       " '_3',\n",
       " '__',\n",
       " '___',\n",
       " '__builtin__',\n",
       " '__builtins__',\n",
       " '__doc__',\n",
       " '__loader__',\n",
       " '__name__',\n",
       " '__package__',\n",
       " '__session__',\n",
       " '__spec__',\n",
       " '_dh',\n",
       " '_i',\n",
       " '_i1',\n",
       " '_i10',\n",
       " '_i11',\n",
       " '_i2',\n",
       " '_i3',\n",
       " '_i4',\n",
       " '_i5',\n",
       " '_i6',\n",
       " '_i7',\n",
       " '_i8',\n",
       " '_i9',\n",
       " '_ih',\n",
       " '_ii',\n",
       " '_iii',\n",
       " '_oh',\n",
       " 'exit',\n",
       " 'get_ipython',\n",
       " 'i',\n",
       " 'idx_list',\n",
       " 'l1',\n",
       " 'l2',\n",
       " 'op',\n",
       " 'open',\n",
       " 'quit']"
      ]
     },
     "execution_count": 11,
     "metadata": {},
     "output_type": "execute_result"
    }
   ],
   "source": [
    "dir()\n"
   ]
  },
  {
   "cell_type": "code",
   "execution_count": 8,
   "id": "62b02b3e-0744-4bb7-9a0b-3e2d3aa5aae3",
   "metadata": {},
   "outputs": [],
   "source": [
    "l1=[['51','50'],'52','53']"
   ]
  },
  {
   "cell_type": "code",
   "execution_count": 10,
   "id": "5927c8ac-5574-46df-8e37-9c7f94552e04",
   "metadata": {},
   "outputs": [
    {
     "data": {
      "text/plain": [
       "1"
      ]
     },
     "execution_count": 10,
     "metadata": {},
     "output_type": "execute_result"
    }
   ],
   "source": [
    "l1.count(l1[0])"
   ]
  },
  {
   "cell_type": "code",
   "execution_count": 11,
   "id": "3c4ceb71-2872-4c7f-b7b3-7584e788d227",
   "metadata": {},
   "outputs": [],
   "source": [
    "l1.append('56')"
   ]
  },
  {
   "cell_type": "code",
   "execution_count": 42,
   "id": "c9372604-00bc-4cec-9cd9-b177a5995cc2",
   "metadata": {},
   "outputs": [
    {
     "data": {
      "text/plain": [
       "['2', '2', '52', '52', '56', '53', '52', ['51', '50']]"
      ]
     },
     "execution_count": 42,
     "metadata": {},
     "output_type": "execute_result"
    }
   ],
   "source": [
    "l1"
   ]
  },
  {
   "cell_type": "code",
   "execution_count": 14,
   "id": "fb8b9961-34a2-4a62-bd62-876df994617f",
   "metadata": {},
   "outputs": [],
   "source": [
    "l2=[]\n",
    "l2=l1.copy()"
   ]
  },
  {
   "cell_type": "code",
   "execution_count": 15,
   "id": "cd103c8d-7262-4efa-a2a5-382c2065ece9",
   "metadata": {},
   "outputs": [
    {
     "data": {
      "text/plain": [
       "[['51', '50'], '52', '53', '56']"
      ]
     },
     "execution_count": 15,
     "metadata": {},
     "output_type": "execute_result"
    }
   ],
   "source": [
    "l2"
   ]
  },
  {
   "cell_type": "code",
   "execution_count": 16,
   "id": "0e23cfe9-114f-4c00-935e-b949c2a9ef31",
   "metadata": {},
   "outputs": [],
   "source": [
    "l2.clear()\n"
   ]
  },
  {
   "cell_type": "code",
   "execution_count": 17,
   "id": "dde02d39-681e-48ef-b83d-a4ec6579983a",
   "metadata": {},
   "outputs": [
    {
     "data": {
      "text/plain": [
       "[]"
      ]
     },
     "execution_count": 17,
     "metadata": {},
     "output_type": "execute_result"
    }
   ],
   "source": [
    "l2"
   ]
  },
  {
   "cell_type": "code",
   "execution_count": 23,
   "id": "281f382b-8eaa-4998-83da-a6d02ea1be21",
   "metadata": {},
   "outputs": [],
   "source": [
    "l1.append('52')"
   ]
  },
  {
   "cell_type": "code",
   "execution_count": 19,
   "id": "207af925-f451-4d8a-93de-8471323e4022",
   "metadata": {},
   "outputs": [
    {
     "data": {
      "text/plain": [
       "2"
      ]
     },
     "execution_count": 19,
     "metadata": {},
     "output_type": "execute_result"
    }
   ],
   "source": [
    "l1.count('52')"
   ]
  },
  {
   "cell_type": "code",
   "execution_count": 28,
   "id": "3a352778-6c5f-425d-8a32-91c662eabae8",
   "metadata": {},
   "outputs": [],
   "source": [
    "l1.extend('2')"
   ]
  },
  {
   "cell_type": "code",
   "execution_count": 31,
   "id": "51d2d7e1-7fa7-4dba-afec-dc9eb9502b55",
   "metadata": {},
   "outputs": [
    {
     "data": {
      "text/plain": [
       "7"
      ]
     },
     "execution_count": 31,
     "metadata": {},
     "output_type": "execute_result"
    }
   ],
   "source": [
    "l1.index('2',6)"
   ]
  },
  {
   "cell_type": "code",
   "execution_count": 33,
   "id": "d2e1f4f5-a473-42f2-8ef3-b933944dfaf0",
   "metadata": {},
   "outputs": [],
   "source": [
    "l1.insert(3,'3')"
   ]
  },
  {
   "cell_type": "code",
   "execution_count": 35,
   "id": "bc5e2db5-0abb-4bed-ae99-6094531103ab",
   "metadata": {},
   "outputs": [],
   "source": [
    "l2=l1.copy()"
   ]
  },
  {
   "cell_type": "code",
   "execution_count": 36,
   "id": "baf376be-0fc7-498e-88be-b9ab547772ba",
   "metadata": {},
   "outputs": [
    {
     "data": {
      "text/plain": [
       "'3'"
      ]
     },
     "execution_count": 36,
     "metadata": {},
     "output_type": "execute_result"
    }
   ],
   "source": [
    "l1.pop(3)"
   ]
  },
  {
   "cell_type": "code",
   "execution_count": 38,
   "id": "7f34b86c-bb61-413e-aae9-9b5c60f6e8ed",
   "metadata": {},
   "outputs": [],
   "source": [
    "l1.remove('2')"
   ]
  },
  {
   "cell_type": "code",
   "execution_count": 41,
   "id": "02f3ca74-52cd-44a9-85fe-bd03ca9d8aa8",
   "metadata": {},
   "outputs": [],
   "source": [
    "l1.reverse()"
   ]
  },
  {
   "cell_type": "code",
   "execution_count": 43,
   "id": "8ec8f04a-79f0-4550-8163-3aa1ecb0ebbf",
   "metadata": {},
   "outputs": [
    {
     "ename": "TypeError",
     "evalue": "'<' not supported between instances of 'list' and 'str'",
     "output_type": "error",
     "traceback": [
      "\u001b[0;31m---------------------------------------------------------------------------\u001b[0m",
      "\u001b[0;31mTypeError\u001b[0m                                 Traceback (most recent call last)",
      "Cell \u001b[0;32mIn[43], line 1\u001b[0m\n\u001b[0;32m----> 1\u001b[0m l1\u001b[38;5;241m.\u001b[39msort()\n",
      "\u001b[0;31mTypeError\u001b[0m: '<' not supported between instances of 'list' and 'str'"
     ]
    }
   ],
   "source": [
    "l1.sort()"
   ]
  },
  {
   "cell_type": "code",
   "execution_count": 44,
   "id": "f63c7f51-bd1e-4323-9cf3-3fcca0e7bf86",
   "metadata": {},
   "outputs": [],
   "source": [
    "l2=[2,3,4,5,5,6]"
   ]
  },
  {
   "cell_type": "code",
   "execution_count": 51,
   "id": "1fdce564-c066-4d7f-8c8a-d814a493b635",
   "metadata": {},
   "outputs": [],
   "source": [
    "l2.sort(reverse=True)"
   ]
  },
  {
   "cell_type": "code",
   "execution_count": 52,
   "id": "b1a54719-491c-4e95-8ca0-d1dd79b3af43",
   "metadata": {},
   "outputs": [
    {
     "data": {
      "text/plain": [
       "[6, 5, 5, 4, 3, 2]"
      ]
     },
     "execution_count": 52,
     "metadata": {},
     "output_type": "execute_result"
    }
   ],
   "source": [
    "l2"
   ]
  },
  {
   "cell_type": "code",
   "execution_count": 53,
   "id": "d5be4a67-6fb3-45d1-9369-e89f1e62fe4b",
   "metadata": {},
   "outputs": [
    {
     "data": {
      "text/plain": [
       "[2, 3, 4, 5, 5, 6]"
      ]
     },
     "execution_count": 53,
     "metadata": {},
     "output_type": "execute_result"
    }
   ],
   "source": [
    "sorted(l2)"
   ]
  },
  {
   "cell_type": "code",
   "execution_count": 56,
   "id": "b190db79-d13c-4bd9-ba4b-5d3de4af68d8",
   "metadata": {},
   "outputs": [],
   "source": [
    "l2.append('apple')"
   ]
  },
  {
   "cell_type": "code",
   "execution_count": 57,
   "id": "a988c068-69b0-45d2-9166-c787099939fd",
   "metadata": {},
   "outputs": [
    {
     "data": {
      "text/plain": [
       "[6, 5, 5, 4, 3, 2, 'a', 'p', 'p', 'l', 'e', 'apple']"
      ]
     },
     "execution_count": 57,
     "metadata": {},
     "output_type": "execute_result"
    }
   ],
   "source": [
    "l2"
   ]
  },
  {
   "cell_type": "code",
   "execution_count": 58,
   "id": "5118b55e-c958-4b10-8ece-f47524e1edcf",
   "metadata": {},
   "outputs": [
    {
     "ename": "TypeError",
     "evalue": "list.extend() takes exactly one argument (4 given)",
     "output_type": "error",
     "traceback": [
      "\u001b[0;31m---------------------------------------------------------------------------\u001b[0m",
      "\u001b[0;31mTypeError\u001b[0m                                 Traceback (most recent call last)",
      "Cell \u001b[0;32mIn[58], line 1\u001b[0m\n\u001b[0;32m----> 1\u001b[0m l2\u001b[38;5;241m.\u001b[39mextend(\u001b[38;5;241m10\u001b[39m,\u001b[38;5;241m20\u001b[39m,\u001b[38;5;241m30\u001b[39m,\u001b[38;5;241m40\u001b[39m)\n",
      "\u001b[0;31mTypeError\u001b[0m: list.extend() takes exactly one argument (4 given)"
     ]
    }
   ],
   "source": [
    "l2.extend(10,20,30,40)"
   ]
  },
  {
   "cell_type": "code",
   "execution_count": 1,
   "id": "7212bcc0-a61e-4d49-b9a4-f5b3eb8066dd",
   "metadata": {},
   "outputs": [
    {
     "name": "stdout",
     "output_type": "stream",
     "text": [
      "0\n",
      "1\n",
      "2\n",
      "3\n"
     ]
    }
   ],
   "source": [
    "l2=['Hyd','Mumbai','Chennai','Blr']\n",
    "sum=0\n",
    "for i in l2:\n",
    "    print(l2.index(i))\n",
    "    "
   ]
  },
  {
   "cell_type": "code",
   "execution_count": 2,
   "id": "21e1270c-9b75-4c2b-8121-0436656ddef2",
   "metadata": {},
   "outputs": [
    {
     "data": {
      "text/plain": [
       "6"
      ]
     },
     "execution_count": 2,
     "metadata": {},
     "output_type": "execute_result"
    }
   ],
   "source": [
    "l2=['Hyd','Mumbai','Chennai','Blr']\n",
    "idx_list=[l2.index(i) for i in l2] #list comprehension\n",
    "sum(idx_list)"
   ]
  },
  {
   "cell_type": "code",
   "execution_count": 3,
   "id": "f0b844dc-4ab0-4ad9-b8c9-b44967f6a4a5",
   "metadata": {},
   "outputs": [
    {
     "data": {
      "text/plain": [
       "[0, 1, 2, 3]"
      ]
     },
     "execution_count": 3,
     "metadata": {},
     "output_type": "execute_result"
    }
   ],
   "source": [
    "idx_list"
   ]
  },
  {
   "cell_type": "markdown",
   "id": "9442d35d-539c-44af-a38c-33153ae73dfc",
   "metadata": {},
   "source": [
    "$Pattern -2$`\n",
    "**for loop - if condition**"
   ]
  },
  {
   "cell_type": "code",
   "execution_count": 8,
   "id": "6ccabdfe-9729-47ec-88a9-6a153dddd72b",
   "metadata": {},
   "outputs": [
    {
     "name": "stdout",
     "output_type": "stream",
     "text": [
      "Mumbai\n",
      "Chennai\n"
     ]
    }
   ],
   "source": [
    "l1=['Hyd','Mumbai','Chennai','Blr']\n",
    "l2=[]\n",
    "for i in l1:\n",
    "    if len(i)>4:\n",
    "        print(i)"
   ]
  },
  {
   "cell_type": "code",
   "execution_count": 10,
   "id": "7eb633bb-7913-4f26-abe5-18f1616ee1bf",
   "metadata": {},
   "outputs": [
    {
     "data": {
      "text/plain": [
       "['Mumbai', 'Chennai']"
      ]
     },
     "execution_count": 10,
     "metadata": {},
     "output_type": "execute_result"
    }
   ],
   "source": [
    "l1=['Hyd','Mumbai','Chennai','Blr']\n",
    "op=[i for i in l1 if len(i)>4]\n",
    "op"
   ]
  },
  {
   "cell_type": "code",
   "execution_count": 14,
   "id": "84cea091-e6bf-40c1-b0a5-fc0f952aa5dc",
   "metadata": {},
   "outputs": [
    {
     "data": {
      "text/plain": [
       "['Mum#bai', 'Chen#nai']"
      ]
     },
     "execution_count": 14,
     "metadata": {},
     "output_type": "execute_result"
    }
   ],
   "source": [
    "l1=['Hyd', 'Mum#bai','Chen#nai','blr']\n",
    "l2=[i for i in l1 if '#' in i]\n",
    "l2"
   ]
  },
  {
   "cell_type": "code",
   "execution_count": 17,
   "id": "19719a6a-75c8-435a-8e02-f4f4fb40ca71",
   "metadata": {},
   "outputs": [
    {
     "data": {
      "text/plain": [
       "['Hyd', 'Mumbai', 'Chennai']"
      ]
     },
     "execution_count": 17,
     "metadata": {},
     "output_type": "execute_result"
    }
   ],
   "source": [
    "l1=['Hyd','Mumbai','Chennai','blr']\n",
    "op_title=[i for i in l1 if i.istitle()]\n",
    "op_title"
   ]
  },
  {
   "cell_type": "code",
   "execution_count": 33,
   "id": "a2a4496f-ae16-4066-87e1-bdb2124b3b9d",
   "metadata": {},
   "outputs": [
    {
     "data": {
      "text/plain": [
       "['virat', 'Rohit', 'KL']"
      ]
     },
     "execution_count": 33,
     "metadata": {},
     "output_type": "execute_result"
    }
   ],
   "source": [
    "str1='virat.kohli@rcb.com,Rohit.sharma@mi.co,KL.Rahul@lucknow.com'\n",
    "list1=str1.split(',')\n",
    "f_name=[]\n",
    "l_name=[]\n",
    "company=[]\n",
    "for i in list1:\n",
    "    #print(i.split('.')[0])\n",
    "    f_name.append((i[:i.index('.')]))\n",
    "\n",
    "f_name=[i"
   ]
  },
  {
   "cell_type": "code",
   "execution_count": 26,
   "id": "fbe76b95-12da-4de8-92c2-41b89ad93d95",
   "metadata": {},
   "outputs": [
    {
     "data": {
      "text/plain": [
       "'virat'"
      ]
     },
     "execution_count": 26,
     "metadata": {},
     "output_type": "execute_result"
    }
   ],
   "source": [
    "list1[0].split('.')[0]\n"
   ]
  },
  {
   "cell_type": "code",
   "execution_count": 37,
   "id": "246c7297-2662-465f-8ac5-64489c98ac72",
   "metadata": {},
   "outputs": [
    {
     "data": {
      "text/plain": [
       "'kohli'"
      ]
     },
     "execution_count": 37,
     "metadata": {},
     "output_type": "execute_result"
    }
   ],
   "source": [
    "list1[0][list1[0].index('.')+1:list1[0].index('@')]"
   ]
  },
  {
   "cell_type": "code",
   "execution_count": null,
   "id": "bdbed3e9-c485-4cd9-80fc-fc29776f6574",
   "metadata": {},
   "outputs": [],
   "source": []
  }
 ],
 "metadata": {
  "kernelspec": {
   "display_name": "Python 3 (ipykernel)",
   "language": "python",
   "name": "python3"
  },
  "language_info": {
   "codemirror_mode": {
    "name": "ipython",
    "version": 3
   },
   "file_extension": ".py",
   "mimetype": "text/x-python",
   "name": "python",
   "nbconvert_exporter": "python",
   "pygments_lexer": "ipython3",
   "version": "3.11.7"
  }
 },
 "nbformat": 4,
 "nbformat_minor": 5
}
