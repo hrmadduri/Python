{
 "cells": [
  {
   "cell_type": "markdown",
   "id": "bbc38b55-545c-4bf0-8401-ae6eaa350331",
   "metadata": {},
   "source": [
    "**Lambda Functions**\n",
    "\n",
    "  - Lambda functions represents function concept\n",
    "    \n",
    "  - But we can write in a single line\n",
    "\n",
    "  - Like list comprehension lambda functions also similar\n",
    "\n",
    "  - It will decrease the time complexity\n",
    "\n",
    "  - Always remember if we use many for loops or many conditions using multiple lines the time complexity increase\n"
   ]
  },
  {
   "cell_type": "code",
   "execution_count": null,
   "id": "de286f9d-9eb7-444e-b8e7-6d6b02e0f591",
   "metadata": {},
   "outputs": [],
   "source": [
    "**it will use a keyword lambda**\n",
    "\n",
    "# lambda <arguments>: <expression>"
   ]
  },
  {
   "cell_type": "markdown",
   "id": "c11f64f2-289c-40fb-b9ab-543d4f24c03b",
   "metadata": {},
   "source": [
    "$Pattern-1$\n",
    "\n",
    "**Function with only one argument**\n",
    "\n",
    "- function name\n",
    "- argument name\n",
    "- return output"
   ]
  },
  {
   "cell_type": "code",
   "execution_count": null,
   "id": "f7b76009-3c39-4d3e-aa0b-1d28dc5af503",
   "metadata": {},
   "outputs": [],
   "source": [
    "#syntax <function name>= lambda <argument name>: <return output>"
   ]
  },
  {
   "cell_type": "code",
   "execution_count": 2,
   "id": "3df06fb5-6f09-4571-a494-b3ee06378adc",
   "metadata": {},
   "outputs": [
    {
     "data": {
      "text/plain": [
       "15"
      ]
     },
     "execution_count": 2,
     "metadata": {},
     "output_type": "execute_result"
    }
   ],
   "source": [
    "def summ(n):\n",
    "    return(n+10)\n",
    "summ(5)\n",
    "#func name=summ\n",
    "#argument name=n\n",
    "#return output=n+10"
   ]
  },
  {
   "cell_type": "code",
   "execution_count": 3,
   "id": "c9b6e1c5-4423-4d77-aeb4-d038b2016420",
   "metadata": {},
   "outputs": [
    {
     "data": {
      "text/plain": [
       "110"
      ]
     },
     "execution_count": 3,
     "metadata": {},
     "output_type": "execute_result"
    }
   ],
   "source": [
    "summ=lambda n:n+10\n",
    "summ(100)"
   ]
  },
  {
   "cell_type": "code",
   "execution_count": 5,
   "id": "55567e19-2712-4e76-9aa9-a16e61b5ea68",
   "metadata": {},
   "outputs": [
    {
     "data": {
      "text/plain": [
       "1000"
      ]
     },
     "execution_count": 5,
     "metadata": {},
     "output_type": "execute_result"
    }
   ],
   "source": [
    "def cube(n):\n",
    "    return(n**3)\n",
    "\n",
    "cube(10)"
   ]
  },
  {
   "cell_type": "code",
   "execution_count": 7,
   "id": "8de0cf51-5faa-4ff0-9b68-18bf761a4b96",
   "metadata": {},
   "outputs": [
    {
     "data": {
      "text/plain": [
       "27"
      ]
     },
     "execution_count": 7,
     "metadata": {},
     "output_type": "execute_result"
    }
   ],
   "source": [
    "cube=lambda n:n**3\n",
    "cube(3)"
   ]
  },
  {
   "cell_type": "markdown",
   "id": "0ee40f07-a638-4965-b8d2-252895249773",
   "metadata": {},
   "source": [
    "$pattern-2$\n",
    "\n",
    "**2 arguments**"
   ]
  },
  {
   "cell_type": "code",
   "execution_count": 12,
   "id": "4f6a23c4-d68c-4ead-b388-cc043f834db1",
   "metadata": {},
   "outputs": [
    {
     "data": {
      "text/plain": [
       "6.0"
      ]
     },
     "execution_count": 12,
     "metadata": {},
     "output_type": "execute_result"
    }
   ],
   "source": [
    "#syntax: <function name>= lambda <arg1>,<arg2>: <return output>\n",
    "avg=lambda n1,n2,n3:round((n1+n2+n3)/3,2)\n",
    "avg(5,6,7)"
   ]
  },
  {
   "cell_type": "markdown",
   "id": "bbe0aa70-18fa-4a1e-9ef4-86bdfa490c96",
   "metadata": {},
   "source": [
    "$pattern-3$\n",
    "\n",
    "**Default Arguments**"
   ]
  },
  {
   "cell_type": "code",
   "execution_count": 17,
   "id": "b26ba569-c06e-40f8-bd36-7707e72b9828",
   "metadata": {},
   "outputs": [
    {
     "data": {
      "text/plain": [
       "37.0"
      ]
     },
     "execution_count": 17,
     "metadata": {},
     "output_type": "execute_result"
    }
   ],
   "source": [
    "avg=lambda n1,n2,n3=100:round((n1+n2+n3)/3,2)\n",
    "avg(5,6)"
   ]
  },
  {
   "cell_type": "markdown",
   "id": "aa295a90-1a8f-4295-8aaa-1a0a19b1ea42",
   "metadata": {},
   "source": [
    "$pattern-4$\n",
    "\n",
    "**if-else**"
   ]
  },
  {
   "cell_type": "code",
   "execution_count": 18,
   "id": "f7787867-805c-4385-9610-1a71a2763668",
   "metadata": {},
   "outputs": [
    {
     "data": {
      "text/plain": [
       "20"
      ]
     },
     "execution_count": 18,
     "metadata": {},
     "output_type": "execute_result"
    }
   ],
   "source": [
    "def max(a,b):\n",
    "    if a>b:\n",
    "        return(a)\n",
    "    else:\n",
    "        return(b)\n",
    "\n",
    "max(10,20)"
   ]
  },
  {
   "cell_type": "code",
   "execution_count": 19,
   "id": "5044c4a3-286d-41b7-8887-da85338ba47c",
   "metadata": {},
   "outputs": [
    {
     "data": {
      "text/plain": [
       "11"
      ]
     },
     "execution_count": 19,
     "metadata": {},
     "output_type": "execute_result"
    }
   ],
   "source": [
    "#syntax : function name=lambda <arg1>,<arg2>: <list comprehension>\n",
    "#syntax : function name=lambda <arg1>,<arg2>: <if_output> <if_condition> <else> <else_output>\n",
    "max=lambda a,b:a if a>b else b\n",
    "max(11,2)"
   ]
  },
  {
   "cell_type": "markdown",
   "id": "eab6deb6-f747-4039-b4dc-fdc4b6f5c7f0",
   "metadata": {},
   "source": [
    "$pattern - 5$\n",
    "\n",
    "**Using list**"
   ]
  },
  {
   "cell_type": "code",
   "execution_count": 21,
   "id": "74c4b509-a36f-4fad-8c36-544d332b8055",
   "metadata": {},
   "outputs": [
    {
     "data": {
      "text/plain": [
       "['Hyd', 'Chennai', 'Mumbai']"
      ]
     },
     "execution_count": 21,
     "metadata": {},
     "output_type": "execute_result"
    }
   ],
   "source": [
    "l=['hyd','chennai','mumbai']\n",
    "#output=['Hyd','Chennai','Mumbai']\n",
    "op=[]\n",
    "for i in l:\n",
    "    op.append(i.capitalize())\n",
    "\n",
    "op"
   ]
  },
  {
   "cell_type": "code",
   "execution_count": 36,
   "id": "93d9bd61-4fbb-4094-9e54-c19a17636e7a",
   "metadata": {},
   "outputs": [
    {
     "data": {
      "text/plain": [
       "(<function __main__.<lambda>(i)>, ['hyd', 'chennai', 'mumbai'])"
      ]
     },
     "execution_count": 36,
     "metadata": {},
     "output_type": "execute_result"
    }
   ],
   "source": [
    "#syntax - lambda <variable>:<output>,<iterator>\n",
    "l=['hyd','chennai','mumbai']\n",
    "lambda i:i.capitalize(),l"
   ]
  },
  {
   "cell_type": "markdown",
   "id": "b38a9bdb-9602-45d6-ae0f-4e050a19affe",
   "metadata": {},
   "source": [
    "**map**\n",
    "\n",
    "- the function and iterator are available now\n",
    "\n",
    "- we need to map both"
   ]
  },
  {
   "cell_type": "code",
   "execution_count": 29,
   "id": "645d3192-a6d6-4847-806f-007f36e64ebb",
   "metadata": {},
   "outputs": [
    {
     "data": {
      "text/plain": [
       "<map at 0x119626e90>"
      ]
     },
     "execution_count": 29,
     "metadata": {},
     "output_type": "execute_result"
    }
   ],
   "source": [
    "l=['hyd','chennai','mumbai']\n",
    "map(lambda i:i.capitalize(),l)"
   ]
  },
  {
   "cell_type": "code",
   "execution_count": 37,
   "id": "4272eebe-1dbc-4367-aa50-37225b9acff5",
   "metadata": {},
   "outputs": [
    {
     "data": {
      "text/plain": [
       "('Hyd', 'Chennai', 'Mumbai')"
      ]
     },
     "execution_count": 37,
     "metadata": {},
     "output_type": "execute_result"
    }
   ],
   "source": [
    "#apply the list to see the values\n",
    "abc=['hyd','chennai','mumbai']\n",
    "tuple(map(lambda i:i.capitalize(),abc))"
   ]
  },
  {
   "cell_type": "markdown",
   "id": "5456b143-cc2b-4db6-b9c8-e69ceb56d6a9",
   "metadata": {},
   "source": [
    "- case 1: Function call with one argument\n",
    "    - lambda argument: expression\n",
    "    - lambda variable: return output\n",
    "\n",
    "- case 2: function call with 2 arguments\n",
    "    - lambda argument1,arg2 : expression\n",
    "    - lambda variable1,var2: return output\n",
    "\n",
    "- case 3: function call with default arguments\n",
    "    - lambda argument1,arg2,arg3=25 : expression\n",
    "    - lambda variable1,var2,var3=33: return output\n",
    "\n",
    "- case 4: function call with 2 arguments and if-else statement\n",
    "    - lambda arguments:if_output if_condition else else_output forloop\n",
    "\n",
    "- case 5: Lambda operations using list\n",
    "    - lambda arg: expression, iterator\n",
    "    - map(lambda arg: expression, iterator)\n",
    "    - list(map(lambda arg: expression, iterator))\n"
   ]
  },
  {
   "cell_type": "code",
   "execution_count": 41,
   "id": "0675d519-33d8-4222-af87-c4f6e2ee340a",
   "metadata": {},
   "outputs": [
    {
     "data": {
      "text/plain": [
       "['HYD', 'CHENNAI', 'MUMBAI']"
      ]
     },
     "execution_count": 41,
     "metadata": {},
     "output_type": "execute_result"
    }
   ],
   "source": [
    "l=['hyd','chennai','mumbai']\n",
    "# get all capitals\n",
    "list(map(lambda i:i.upper(),l))"
   ]
  },
  {
   "cell_type": "code",
   "execution_count": 53,
   "id": "aca3a189-430f-4ea6-8e31-d336ff9c8ebb",
   "metadata": {},
   "outputs": [
    {
     "data": {
      "text/plain": [
       "[False, True, True, False]"
      ]
     },
     "execution_count": 53,
     "metadata": {},
     "output_type": "execute_result"
    }
   ],
   "source": [
    "l=['hyd','che#nnai','mum#bai','blr']\n",
    "list(map(lambda i:'#' in i,l))"
   ]
  },
  {
   "cell_type": "markdown",
   "id": "432a7dd5-3492-4790-88f1-a59ff88a1a52",
   "metadata": {},
   "source": [
    "**Filter**\n",
    "\n",
    "- Whenever if conditions are there use filter"
   ]
  },
  {
   "cell_type": "code",
   "execution_count": 54,
   "id": "55fb2dd6-637a-4314-968d-a1488d5edc8d",
   "metadata": {},
   "outputs": [
    {
     "data": {
      "text/plain": [
       "['che#nnai', 'mum#bai']"
      ]
     },
     "execution_count": 54,
     "metadata": {},
     "output_type": "execute_result"
    }
   ],
   "source": [
    "l=['hyd','che#nnai','mum#bai','blr']\n",
    "list(filter(lambda i:'#' in i,l))"
   ]
  },
  {
   "cell_type": "code",
   "execution_count": 56,
   "id": "d4bbdd85-0c1f-4f4d-803d-82230b76f70f",
   "metadata": {},
   "outputs": [
    {
     "data": {
      "text/plain": [
       "[2, 6]"
      ]
     },
     "execution_count": 56,
     "metadata": {},
     "output_type": "execute_result"
    }
   ],
   "source": [
    "#numbers=[1,3,2,7,6] get even numbers\n",
    "numbers=[1,3,2,7,6]\n",
    "list(filter(lambda i: i%2==0,numbers))"
   ]
  },
  {
   "cell_type": "code",
   "execution_count": null,
   "id": "994e6a6b-2604-40a1-8554-ab94ed5353f9",
   "metadata": {},
   "outputs": [],
   "source": [
    "l1=[1,2,3,4,5]\n",
    "#sum of numbers\n",
    "\n",
    "#method 1\n",
    "sum(l1)\n",
    "\n",
    "#method 2\n",
    "summ==0\n",
    "for i in l1:\n",
    "    summ=summ+1\n",
    "\n",
    "print(summ)"
   ]
  },
  {
   "cell_type": "code",
   "execution_count": 64,
   "id": "d294b1b5-0297-4971-bd55-4bffc339feba",
   "metadata": {},
   "outputs": [
    {
     "data": {
      "text/plain": [
       "15"
      ]
     },
     "execution_count": 64,
     "metadata": {},
     "output_type": "execute_result"
    }
   ],
   "source": [
    "#method 1\n",
    "l1=[1,2,3,4,5]\n",
    "test=lambda i:sum(i)\n",
    "test(l1)"
   ]
  },
  {
   "cell_type": "markdown",
   "id": "b2cdbc15-1f0b-4bb9-8f73-ec8b45adcf3a",
   "metadata": {},
   "source": [
    "**Reduce**\n",
    "\n",
    "- All inbuilt functions can achieve by Reduce\n",
    "\n",
    "- Reduce is available from functools package\n",
    "\n",
    "- level-1: reduce(lambda summ,i:summ+i,l1)\n",
    "\n",
    "- level-2: reduce(lambda summ,i:summ+i,l1,initial_value)\n",
    "\n",
    "    - level1 used if we want to initialize the variable(summ) with 0 as initial value\n",
    "    - level2 used if we want to initialize the variable(summ) with some other number as initial value"
   ]
  },
  {
   "cell_type": "code",
   "execution_count": 68,
   "id": "ff56b00b-4e0c-49e2-a8e9-ed3b48ad12a2",
   "metadata": {},
   "outputs": [
    {
     "ename": "NameError",
     "evalue": "name 'reduce' is not defined",
     "output_type": "error",
     "traceback": [
      "\u001b[0;31m---------------------------------------------------------------------------\u001b[0m",
      "\u001b[0;31mNameError\u001b[0m                                 Traceback (most recent call last)",
      "Cell \u001b[0;32mIn[68], line 4\u001b[0m\n\u001b[1;32m      2\u001b[0m \u001b[38;5;28;01mimport\u001b[39;00m \u001b[38;5;21;01mfunctools\u001b[39;00m\n\u001b[1;32m      3\u001b[0m l1\u001b[38;5;241m=\u001b[39m[\u001b[38;5;241m1\u001b[39m,\u001b[38;5;241m2\u001b[39m,\u001b[38;5;241m3\u001b[39m,\u001b[38;5;241m4\u001b[39m,\u001b[38;5;241m5\u001b[39m]\n\u001b[0;32m----> 4\u001b[0m reduce(\u001b[38;5;28;01mlambda\u001b[39;00m summ,i:summ\u001b[38;5;241m+\u001b[39mi,l1)\n",
      "\u001b[0;31mNameError\u001b[0m: name 'reduce' is not defined"
     ]
    }
   ],
   "source": [
    "#method 2\n",
    "import functools\n",
    "l1=[1,2,3,4,5]\n",
    "reduce(lambda summ,i:summ+i,l1)"
   ]
  },
  {
   "cell_type": "code",
   "execution_count": 65,
   "id": "42b42fdf-c82c-42c2-9e84-f8d2f04ac09d",
   "metadata": {},
   "outputs": [],
   "source": [
    "import functools"
   ]
  },
  {
   "cell_type": "code",
   "execution_count": 69,
   "id": "3bc61eba-ee30-4d42-b4a1-557abab37409",
   "metadata": {},
   "outputs": [
    {
     "data": {
      "text/plain": [
       "15"
      ]
     },
     "execution_count": 69,
     "metadata": {},
     "output_type": "execute_result"
    }
   ],
   "source": [
    "import functools\n",
    "l1=[1,2,3,4,5]\n",
    "functools.reduce(lambda summ,i:summ+i,l1)"
   ]
  },
  {
   "cell_type": "code",
   "execution_count": 70,
   "id": "6f7fa41d-898b-450f-b133-68f36754b94d",
   "metadata": {},
   "outputs": [
    {
     "data": {
      "text/plain": [
       "15"
      ]
     },
     "execution_count": 70,
     "metadata": {},
     "output_type": "execute_result"
    }
   ],
   "source": [
    "from functools import reduce\n",
    "l1=[1,2,3,4,5]\n",
    "reduce(lambda summ,i:summ+i,l1)"
   ]
  },
  {
   "cell_type": "code",
   "execution_count": 71,
   "id": "67c14c93-22d6-4255-bfc3-799266490ec8",
   "metadata": {},
   "outputs": [
    {
     "data": {
      "text/plain": [
       "25"
      ]
     },
     "execution_count": 71,
     "metadata": {},
     "output_type": "execute_result"
    }
   ],
   "source": [
    "from random import randint\n",
    "randint(1,30)"
   ]
  },
  {
   "cell_type": "code",
   "execution_count": null,
   "id": "afdc7252-344d-40cc-a4b5-825969b611b3",
   "metadata": {},
   "outputs": [],
   "source": [
    "import functools as ft\n",
    "l1=[1,2,3,4,5]\n",
    "ft.reduce(lambda summ,i:summ+i,l1)"
   ]
  },
  {
   "cell_type": "code",
   "execution_count": 72,
   "id": "6eed2acf-ae43-4b57-b07a-d62a993d227b",
   "metadata": {},
   "outputs": [
    {
     "data": {
      "text/plain": [
       "115"
      ]
     },
     "execution_count": 72,
     "metadata": {},
     "output_type": "execute_result"
    }
   ],
   "source": [
    "#level 2\n",
    "import functools as ft\n",
    "l1=[1,2,3,4,5]\n",
    "ft.reduce(lambda summ,i:summ+i,l1,100)"
   ]
  },
  {
   "cell_type": "code",
   "execution_count": 73,
   "id": "b097598d-803b-4695-9e09-5f8a8bd4c4b4",
   "metadata": {},
   "outputs": [
    {
     "data": {
      "text/plain": [
       "120"
      ]
     },
     "execution_count": 73,
     "metadata": {},
     "output_type": "execute_result"
    }
   ],
   "source": [
    "import functools as ft\n",
    "l1=[1,2,3,4,5]\n",
    "ft.reduce(lambda mul,i:mul*i,l1)\n"
   ]
  },
  {
   "cell_type": "code",
   "execution_count": 81,
   "id": "803fa97e-0eea-47b5-b27d-ecfa00c1d4f4",
   "metadata": {},
   "outputs": [
    {
     "data": {
      "text/plain": [
       "False"
      ]
     },
     "execution_count": 81,
     "metadata": {},
     "output_type": "execute_result"
    }
   ],
   "source": [
    "import functools as ft\n",
    "l1=[1,2,3,4,5]\n",
    "ft.reduce(lambda x,y:x>y,l1)"
   ]
  },
  {
   "cell_type": "code",
   "execution_count": 79,
   "id": "99754743-cb74-4f4d-b725-e82de1615de9",
   "metadata": {},
   "outputs": [
    {
     "data": {
      "text/plain": [
       "<module 'functools' from '/opt/anaconda3/lib/python3.11/functools.py'>"
      ]
     },
     "execution_count": 79,
     "metadata": {},
     "output_type": "execute_result"
    }
   ],
   "source": [
    "import functools\n",
    "functools"
   ]
  },
  {
   "cell_type": "code",
   "execution_count": null,
   "id": "046379bc-0209-4f63-b459-d81d3a4a4b02",
   "metadata": {},
   "outputs": [],
   "source": [
    "#maximum value using Reduce ...use if else\n",
    "\n",
    "#Map : direct uppper lower\n",
    "#filter: if conditions\n",
    "#reduce: inbuilt function and initialization"
   ]
  },
  {
   "cell_type": "code",
   "execution_count": 83,
   "id": "0e6e8c63-5ecd-49f6-b174-76022141226e",
   "metadata": {},
   "outputs": [
    {
     "data": {
      "text/plain": [
       "7"
      ]
     },
     "execution_count": 83,
     "metadata": {},
     "output_type": "execute_result"
    }
   ],
   "source": [
    "import functools as ft\n",
    "l1=[1,7,3,4,5]\n",
    "ft.reduce(lambda a,b:a if a>b else b,l1)"
   ]
  },
  {
   "cell_type": "code",
   "execution_count": null,
   "id": "bb749a79-5edf-4ff8-bc3f-c298c67add2f",
   "metadata": {},
   "outputs": [],
   "source": []
  }
 ],
 "metadata": {
  "kernelspec": {
   "display_name": "Python 3 (ipykernel)",
   "language": "python",
   "name": "python3"
  },
  "language_info": {
   "codemirror_mode": {
    "name": "ipython",
    "version": 3
   },
   "file_extension": ".py",
   "mimetype": "text/x-python",
   "name": "python",
   "nbconvert_exporter": "python",
   "pygments_lexer": "ipython3",
   "version": "3.11.7"
  }
 },
 "nbformat": 4,
 "nbformat_minor": 5
}
