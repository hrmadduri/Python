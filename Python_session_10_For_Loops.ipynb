{
 "cells": [
  {
   "cell_type": "markdown",
   "id": "f80100d7-4beb-4d96-880a-cde7e063b3e8",
   "metadata": {},
   "source": [
    "**Loops**\n",
    "- iterate a piece of code untill the codition satisfy\n",
    "- For loop\n",
    "- while loop\n",
    "- any loop\n",
    "  - start\n",
    "  - increment or decrement\n",
    "  - stop condition"
   ]
  },
  {
   "cell_type": "code",
   "execution_count": null,
   "id": "1d753c6c-ec68-4449-8afa-68366afd8b4b",
   "metadata": {},
   "outputs": [],
   "source": []
  },
  {
   "cell_type": "markdown",
   "id": "633c51d3-85e1-43d6-aa1a-3c1e6c30f24a",
   "metadata": {},
   "source": [
    "$For Loop$\n",
    "\n",
    "$Pattern-1$\n",
    "\n",
    "**range(stop)**"
   ]
  },
  {
   "cell_type": "code",
   "execution_count": null,
   "id": "58f1e578-b2cb-4401-91f9-dde47d4a73d0",
   "metadata": {},
   "outputs": [],
   "source": [
    "#syntax\n",
    "for i in range(<value>):\n",
    "    #your code here"
   ]
  },
  {
   "cell_type": "code",
   "execution_count": 6,
   "id": "a93dd5f4-21a4-454c-9d23-6656224fa32e",
   "metadata": {},
   "outputs": [
    {
     "name": "stdout",
     "output_type": "stream",
     "text": [
      "0\n",
      "1\n",
      "2\n"
     ]
    }
   ],
   "source": [
    "for i in range(3):\n",
    "    print(i)"
   ]
  },
  {
   "cell_type": "code",
   "execution_count": 7,
   "id": "f926e594-e5c0-41b6-b48a-116589224db3",
   "metadata": {},
   "outputs": [
    {
     "name": "stdout",
     "output_type": "stream",
     "text": [
      "45 odd number\n",
      "27 odd number\n",
      "10 even number\n"
     ]
    }
   ],
   "source": [
    "#take random number between 1-100 \n",
    "#print even or odd number\n",
    "#you need to generate 3 random numbers\n",
    "import random\n",
    "for i in range(3):\n",
    "    num=random.randint(1,100)\n",
    "    if num%2==0:\n",
    "        print(f'{num} even number')\n",
    "    else:\n",
    "        print(f'{num} odd number')\n"
   ]
  },
  {
   "cell_type": "code",
   "execution_count": 10,
   "id": "a1831514-f9e5-4c28-b500-c66a89971552",
   "metadata": {},
   "outputs": [
    {
     "name": "stdout",
     "output_type": "stream",
     "text": [
      "0123456789"
     ]
    }
   ],
   "source": [
    "for i in range(10):\n",
    "    print(i, end='')"
   ]
  },
  {
   "cell_type": "markdown",
   "id": "6c30d0b8-2583-409e-a0f6-8e52fbfe2276",
   "metadata": {},
   "source": [
    "# sep : will seperate multiple values in same print statement\n",
    "# end : combines the multiple print statements"
   ]
  },
  {
   "cell_type": "markdown",
   "id": "56402e02-ea25-4f2f-b350-8e856fcfbd55",
   "metadata": {},
   "source": [
    "$Pattern-2$\n",
    "\n",
    "**range(start,stop)**"
   ]
  },
  {
   "cell_type": "code",
   "execution_count": 13,
   "id": "9797dfed-2aef-4798-9298-fb14393d2c32",
   "metadata": {},
   "outputs": [
    {
     "name": "stdout",
     "output_type": "stream",
     "text": [
      "400\n",
      "441\n",
      "484\n",
      "529\n",
      "576\n"
     ]
    }
   ],
   "source": [
    "#wap ask the user print the square of the number between 20 to 25\n",
    "for i in range(20,25):\n",
    "    print(i*i)"
   ]
  },
  {
   "cell_type": "code",
   "execution_count": 14,
   "id": "7085a679-5e90-453b-9609-b4cdd516838a",
   "metadata": {},
   "outputs": [
    {
     "name": "stdout",
     "output_type": "stream",
     "text": [
      "10 is even\n",
      "11 is odd\n",
      "12 is even\n",
      "13 is odd\n",
      "14 is even\n",
      "15 is odd\n",
      "16 is even\n",
      "17 is odd\n",
      "18 is even\n",
      "19 is odd\n"
     ]
    }
   ],
   "source": [
    "#wap ask the user print the number is even or odd between 10 to 20\n",
    "for i in range(10,20):\n",
    "    if i%2==0:\n",
    "        print(f'{i} is even')\n",
    "    else:\n",
    "        print(f'{i} is odd')\n",
    "\n"
   ]
  },
  {
   "cell_type": "markdown",
   "id": "cde48453-4bbd-485b-97a0-8d4d1a0cf7f2",
   "metadata": {},
   "source": [
    "$Pattern-3$\n",
    "\n",
    "**range(start,stop,step)**\n",
    "- start value= start values\n",
    "- step value\n",
    "  - Positive step value\n",
    "      - if step value is positive: increment\n",
    "      - last=stop-1\n",
    "  - negative step value\n",
    "      - if step value is negative: decrement\n",
    "      - last=stop+1"
   ]
  },
  {
   "cell_type": "code",
   "execution_count": 18,
   "id": "c5bacaa0-5ceb-4b30-9975-c208031b0bf3",
   "metadata": {},
   "outputs": [
    {
     "name": "stdout",
     "output_type": "stream",
     "text": [
      "2 4 6 8 10 12 14 16 18 "
     ]
    }
   ],
   "source": [
    "#case-1:\n",
    "for i in range(2,20,2):\n",
    "    print(i,end=' ')\n",
    "\n",
    "#start =2\n",
    "#step=+ve 2\n",
    "#last = stop-1=20-1=19\n",
    "#2 4 6 8 10 12 14 16 18"
   ]
  },
  {
   "cell_type": "code",
   "execution_count": 21,
   "id": "21f3073f-b5c3-4b12-9f8f-d4ef42c71f6e",
   "metadata": {},
   "outputs": [],
   "source": [
    "#case-2:\n",
    "for i in range(2,20,-2):\n",
    "    print(i,end=' ')\n",
    "\n",
    "#start =2\n",
    "#step=-ve direction -2\n",
    "#last = stop+1=20+1=21"
   ]
  },
  {
   "cell_type": "code",
   "execution_count": 24,
   "id": "8ebc191f-0e86-4144-b02c-89bf0c080fbe",
   "metadata": {},
   "outputs": [
    {
     "name": "stdout",
     "output_type": "stream",
     "text": [
      "20 18 16 14 12 10 8 6 4 "
     ]
    }
   ],
   "source": [
    "#case-3:\n",
    "for i in range(20,2,-2):\n",
    "    print(i,end=' ')\n",
    "\n",
    "#start =20\n",
    "#step=-ve direction -2\n",
    "#last = stop+1=2+1=3"
   ]
  },
  {
   "cell_type": "code",
   "execution_count": 25,
   "id": "93186df4-89cc-4c3e-885a-38ce52f9763c",
   "metadata": {},
   "outputs": [],
   "source": [
    "#case-4:\n",
    "for i in range(-20,2,-2):\n",
    "    print(i,end=' ')\n",
    "\n",
    "#start =-20\n",
    "#step=-ve direction -2\n",
    "#last = stop+1=2+1=3"
   ]
  },
  {
   "cell_type": "code",
   "execution_count": null,
   "id": "3b5799e2-bd32-4ed1-8dd4-34305bd075d1",
   "metadata": {},
   "outputs": [],
   "source": [
    "range(3,20,2) #p\n",
    "range(3,20,-2) #np\n",
    "range(3,-20,2) #np\n",
    "range(3,-20,-2) #p\n",
    "range(-3,20,2) #P\n",
    "range(-3,-20,-2) #P\n",
    "range(-3,-20,2) #NP\n",
    "      "
   ]
  },
  {
   "cell_type": "code",
   "execution_count": 3,
   "id": "e377fb06-3fb9-460a-894f-9571558b606f",
   "metadata": {},
   "outputs": [
    {
     "name": "stdin",
     "output_type": "stream",
     "text": [
      "enter a number 5\n"
     ]
    },
    {
     "name": "stdout",
     "output_type": "stream",
     "text": [
      "square if 5 is 25\n"
     ]
    },
    {
     "name": "stdin",
     "output_type": "stream",
     "text": [
      "enter a number 6\n"
     ]
    },
    {
     "name": "stdout",
     "output_type": "stream",
     "text": [
      "square if 6 is 36\n"
     ]
    },
    {
     "name": "stdin",
     "output_type": "stream",
     "text": [
      "enter a number 7\n"
     ]
    },
    {
     "name": "stdout",
     "output_type": "stream",
     "text": [
      "square if 7 is 49\n"
     ]
    }
   ],
   "source": [
    "#4Q) WAP ask the user enter number 3 times find the square of the number\n",
    "for i in range(3):\n",
    "    a=eval(input('enter a number'))\n",
    "    print(f'square if {a} is {a*a}')"
   ]
  },
  {
   "cell_type": "code",
   "execution_count": 6,
   "id": "bb32f4be-a166-40eb-b9d0-448df4ad7dcc",
   "metadata": {},
   "outputs": [
    {
     "name": "stdout",
     "output_type": "stream",
     "text": [
      "14 * 1 = 14\n",
      "14 * 2 = 28\n",
      "14 * 3 = 42\n",
      "14 * 4 = 56\n",
      "14 * 5 = 70\n",
      "14 * 6 = 84\n",
      "14 * 7 = 98\n",
      "14 * 8 = 112\n",
      "14 * 9 = 126\n",
      "14 * 10 = 140\n"
     ]
    }
   ],
   "source": [
    "#5Q) print the 14th table\n",
    "for i in range(1,11):\n",
    "    print(f'14 * {i} = {14*i}')"
   ]
  },
  {
   "cell_type": "code",
   "execution_count": 7,
   "id": "5b2f5847-01b1-46b4-9539-cf20c5acffcb",
   "metadata": {},
   "outputs": [
    {
     "name": "stdin",
     "output_type": "stream",
     "text": [
      "enter the number to get factor 75\n"
     ]
    },
    {
     "name": "stdout",
     "output_type": "stream",
     "text": [
      "1\n",
      "3\n",
      "5\n",
      "15\n",
      "25\n",
      "75\n"
     ]
    }
   ],
   "source": [
    "#6Q) Print the factors of the input number\n",
    "number=eval(input('enter the number to get factor'))\n",
    "for i in range(1,number+1):\n",
    "    if number%i==0:\n",
    "        print(i)"
   ]
  },
  {
   "cell_type": "code",
   "execution_count": 9,
   "id": "1b6b8a7b-474c-45d6-bdfa-7c580f896638",
   "metadata": {},
   "outputs": [
    {
     "name": "stdout",
     "output_type": "stream",
     "text": [
      "55\n"
     ]
    }
   ],
   "source": [
    "#7Q) write the sum of first 10 natural numbers\n",
    "n=0\n",
    "for i in range(1,11):\n",
    "    n=n+i\n",
    "\n",
    "print(n)\n"
   ]
  },
  {
   "cell_type": "markdown",
   "id": "8e09edea-d342-48d8-b560-889f93bc59f6",
   "metadata": {},
   "source": [
    "**Summation wrapper**\n",
    "- initially we need to assign summ=0\n",
    "- make sure that do not provide **sum**\n",
    "- because sum is a keyword\n",
    "- inside for loop : summ=summ+i"
   ]
  },
  {
   "cell_type": "code",
   "execution_count": 11,
   "id": "b1946bfb-43b4-4ab0-9de2-96376b4c25a2",
   "metadata": {},
   "outputs": [
    {
     "name": "stdin",
     "output_type": "stream",
     "text": [
      "enter a number 10\n"
     ]
    },
    {
     "name": "stdout",
     "output_type": "stream",
     "text": [
      "5.5\n"
     ]
    }
   ],
   "source": [
    "#8q) avg of first n numbers\n",
    "number=eval(input('enter a number'))\n",
    "summ=0\n",
    "for i in range(1,number+1):\n",
    "    summ=summ+i\n",
    "\n",
    "print(f'{summ/number}')\n",
    "    "
   ]
  },
  {
   "cell_type": "code",
   "execution_count": 14,
   "id": "2e7efd28-260a-4b4e-880a-c5c10caa93cb",
   "metadata": {},
   "outputs": [
    {
     "name": "stdout",
     "output_type": "stream",
     "text": [
      "6\n"
     ]
    }
   ],
   "source": [
    "#9Q) find the nuber of divisors of 75\n",
    "#ans: 1,3,5,15,25,75 = 6 divisors is the ans\n",
    "count=0\n",
    "for i in range(1,76):\n",
    "    if 75%i==0:\n",
    "        count+=1\n",
    "\n",
    "print(count)"
   ]
  },
  {
   "cell_type": "code",
   "execution_count": 17,
   "id": "fd950068-07f0-4dc1-8365-a50d13bee0c7",
   "metadata": {},
   "outputs": [
    {
     "name": "stdin",
     "output_type": "stream",
     "text": [
      "enter the pin 5\n"
     ]
    },
    {
     "name": "stdout",
     "output_type": "stream",
     "text": [
      "fail\n"
     ]
    },
    {
     "name": "stdin",
     "output_type": "stream",
     "text": [
      "enter the pin 6\n"
     ]
    },
    {
     "name": "stdout",
     "output_type": "stream",
     "text": [
      "fail\n"
     ]
    },
    {
     "name": "stdin",
     "output_type": "stream",
     "text": [
      "enter the pin 8\n"
     ]
    },
    {
     "name": "stdout",
     "output_type": "stream",
     "text": [
      "fail\n"
     ]
    }
   ],
   "source": [
    "#10Q) Get a random number between 1 to 10: num1\n",
    "#ask the user enter a number: num2\n",
    "#if num1==num2 then print won else print fail\n",
    "# give 3 chances\n",
    "import random\n",
    "num1=random.randint(1,10)\n",
    "for i in range(3):\n",
    "    num2=eval(input('enter the pin'))\n",
    "    if num1==num2:\n",
    "        print('won')\n",
    "    else:\n",
    "        print('fail')\n"
   ]
  },
  {
   "cell_type": "code",
   "execution_count": 18,
   "id": "3be16636-cf74-4969-9024-7110215e3497",
   "metadata": {},
   "outputs": [
    {
     "data": {
      "text/plain": [
       "7"
      ]
     },
     "execution_count": 18,
     "metadata": {},
     "output_type": "execute_result"
    }
   ],
   "source": [
    "num1"
   ]
  },
  {
   "cell_type": "code",
   "execution_count": 20,
   "id": "326ab95e-5d7b-4f19-9c0d-489422eb8387",
   "metadata": {},
   "outputs": [
    {
     "name": "stdout",
     "output_type": "stream",
     "text": [
      "5\n"
     ]
    },
    {
     "name": "stdin",
     "output_type": "stream",
     "text": [
      "enter the pin 6\n"
     ]
    },
    {
     "name": "stdout",
     "output_type": "stream",
     "text": [
      "fail\n"
     ]
    },
    {
     "name": "stdin",
     "output_type": "stream",
     "text": [
      "enter the pin 5\n"
     ]
    },
    {
     "name": "stdout",
     "output_type": "stream",
     "text": [
      "won\n"
     ]
    }
   ],
   "source": [
    "#case 2 : When you win the code should stop\n",
    "import random\n",
    "num1=random.randint(1,10)\n",
    "print(num1)\n",
    "for i in range(3):\n",
    "    num2=eval(input('enter the pin'))\n",
    "    if num1==num2:\n",
    "        print('won')\n",
    "        break\n",
    "    else:\n",
    "        print('fail')"
   ]
  },
  {
   "cell_type": "code",
   "execution_count": 24,
   "id": "f393c798-126e-4e28-9b66-2ec07016c83e",
   "metadata": {},
   "outputs": [
    {
     "name": "stdout",
     "output_type": "stream",
     "text": [
      "3\n"
     ]
    },
    {
     "name": "stdin",
     "output_type": "stream",
     "text": [
      "enter the pin 5\n"
     ]
    },
    {
     "name": "stdout",
     "output_type": "stream",
     "text": [
      "fail - you have 3 chances left.\n"
     ]
    },
    {
     "name": "stdin",
     "output_type": "stream",
     "text": [
      "enter the pin 3\n"
     ]
    },
    {
     "name": "stdout",
     "output_type": "stream",
     "text": [
      "won\n"
     ]
    }
   ],
   "source": [
    "#case 3: give 4 chances and show the number of chances left if all used up print try in 24 hours\n",
    "import random\n",
    "num1=random.randint(1,10)\n",
    "chances=4\n",
    "print(num1)\n",
    "for i in range(1,chances+1):\n",
    "    num2=eval(input('enter the pin'))\n",
    "    if num1==num2:\n",
    "        print('won')\n",
    "        break\n",
    "    else:\n",
    "        if i==chances:\n",
    "            print('try after 24 hours')\n",
    "        else:\n",
    "            print(f'fail - you have {chances-i} chances left.')"
   ]
  },
  {
   "cell_type": "markdown",
   "id": "50e47e22-27bf-4ecf-849f-5474d086eee3",
   "metadata": {},
   "source": [
    "**in operator**"
   ]
  },
  {
   "cell_type": "code",
   "execution_count": 27,
   "id": "c8190bd6-090d-4dc7-9fbe-a94013604b65",
   "metadata": {},
   "outputs": [
    {
     "name": "stdout",
     "output_type": "stream",
     "text": [
      "p\n",
      "True\n",
      "y\n",
      "True\n",
      "t\n",
      "True\n",
      "h\n",
      "True\n",
      "o\n",
      "True\n",
      "n\n",
      "True\n"
     ]
    }
   ],
   "source": [
    "string1='python'\n",
    "for i in string1:\n",
    "    print(i)\n",
    "    print(i in string1)"
   ]
  },
  {
   "cell_type": "markdown",
   "id": "c7b5f80c-32de-4914-8536-41d86ca39d17",
   "metadata": {},
   "source": [
    "**Difference between in operator and range operator**\n",
    "\n",
    "- $range$ belongs to math family and only accepts numbers\n",
    "- when you want to iterate on english letters we need to choose $in$ operator\n",
    "- range means numbers\n",
    "- in means string\n"
   ]
  },
  {
   "cell_type": "code",
   "execution_count": 28,
   "id": "9e065594-2190-4aea-8f0c-574897bb80d1",
   "metadata": {},
   "outputs": [
    {
     "data": {
      "text/plain": [
       "True"
      ]
     },
     "execution_count": 28,
     "metadata": {},
     "output_type": "execute_result"
    }
   ],
   "source": [
    "'p'>'P' "
   ]
  },
  {
   "cell_type": "markdown",
   "id": "265d6af4-b077-4616-8b1f-7b8cd6fd3957",
   "metadata": {},
   "source": [
    "- every english letter\n",
    "- every spl char how machine will understand\n",
    "- machine language always consider as numbers only\n",
    "- every non numeric key is assigned a number\n",
    "- ASCII : Americal Standard Code for Information Interchange\n",
    "- A:65, a:97\n",
    "- B:66, b:98"
   ]
  },
  {
   "cell_type": "markdown",
   "id": "0583b2bf-cf54-4999-8891-e68096ca7f9d",
   "metadata": {},
   "source": [
    "**ord-chr**"
   ]
  },
  {
   "cell_type": "code",
   "execution_count": 30,
   "id": "5785014d-8fab-4b37-9a6c-a69b6a2c64ed",
   "metadata": {},
   "outputs": [
    {
     "data": {
      "text/plain": [
       "65"
      ]
     },
     "execution_count": 30,
     "metadata": {},
     "output_type": "execute_result"
    }
   ],
   "source": [
    "#A==65==0b10000001\n",
    "0b1000001"
   ]
  },
  {
   "cell_type": "code",
   "execution_count": 32,
   "id": "5f3b4c1e-dfae-473d-8ec5-a60b0e0cf127",
   "metadata": {},
   "outputs": [
    {
     "data": {
      "text/plain": [
       "(65, 97, 66, 98)"
      ]
     },
     "execution_count": 32,
     "metadata": {},
     "output_type": "execute_result"
    }
   ],
   "source": [
    "ord('A'),ord('a'),ord('B'),ord('b')"
   ]
  },
  {
   "cell_type": "code",
   "execution_count": 33,
   "id": "798bc469-84ff-4247-a208-85bcdcdef533",
   "metadata": {},
   "outputs": [
    {
     "data": {
      "text/plain": [
       "(112, 80)"
      ]
     },
     "execution_count": 33,
     "metadata": {},
     "output_type": "execute_result"
    }
   ],
   "source": [
    "ord('p'), ord('P')"
   ]
  },
  {
   "cell_type": "code",
   "execution_count": 37,
   "id": "0bd44534-98e6-4cb3-a975-7d0095877ead",
   "metadata": {},
   "outputs": [
    {
     "data": {
      "text/plain": [
       "('p', 'P', 'A', 'a')"
      ]
     },
     "execution_count": 37,
     "metadata": {},
     "output_type": "execute_result"
    }
   ],
   "source": [
    "chr(112),chr(80),chr(65),chr(97)"
   ]
  },
  {
   "cell_type": "code",
   "execution_count": 41,
   "id": "b040147b-d48f-4c7e-b73d-652fcc231ca0",
   "metadata": {},
   "outputs": [
    {
     "name": "stdout",
     "output_type": "stream",
     "text": [
      "p,112\n",
      "y,121\n",
      "t,116\n",
      "h,104\n",
      "o,111\n",
      "n,110\n"
     ]
    }
   ],
   "source": [
    "# I want string1: 'python'\n",
    "# print all ascii numbers for 'python'\n",
    "for k in 'python':\n",
    "    print(f'{k},{ord(k)}')"
   ]
  },
  {
   "cell_type": "code",
   "execution_count": 53,
   "id": "62a754bd-a722-4f64-ae6e-2f8dc10efc60",
   "metadata": {},
   "outputs": [
    {
     "name": "stdout",
     "output_type": "stream",
     "text": [
      "a ascii value is 97\n",
      "b ascii value is 98\n",
      "c ascii value is 99\n",
      "d ascii value is 100\n",
      "e ascii value is 101\n",
      "f ascii value is 102\n",
      "g ascii value is 103\n",
      "h ascii value is 104\n",
      "i ascii value is 105\n",
      "j ascii value is 106\n",
      "k ascii value is 107\n",
      "l ascii value is 108\n",
      "m ascii value is 109\n",
      "n ascii value is 110\n",
      "o ascii value is 111\n",
      "p ascii value is 112\n",
      "q ascii value is 113\n",
      "r ascii value is 114\n",
      "s ascii value is 115\n",
      "t ascii value is 116\n",
      "u ascii value is 117\n",
      "v ascii value is 118\n",
      "w ascii value is 119\n",
      "x ascii value is 120\n",
      "y ascii value is 121\n",
      "z ascii value is 122\n",
      "A ascii value is 65\n",
      "B ascii value is 66\n",
      "C ascii value is 67\n",
      "D ascii value is 68\n",
      "E ascii value is 69\n",
      "F ascii value is 70\n",
      "G ascii value is 71\n",
      "H ascii value is 72\n",
      "I ascii value is 73\n",
      "J ascii value is 74\n",
      "K ascii value is 75\n",
      "L ascii value is 76\n",
      "M ascii value is 77\n",
      "N ascii value is 78\n",
      "O ascii value is 79\n",
      "P ascii value is 80\n",
      "Q ascii value is 81\n",
      "R ascii value is 82\n",
      "S ascii value is 83\n",
      "T ascii value is 84\n",
      "U ascii value is 85\n",
      "V ascii value is 86\n",
      "W ascii value is 87\n",
      "X ascii value is 88\n",
      "Y ascii value is 89\n",
      "Z ascii value is 90\n"
     ]
    }
   ],
   "source": [
    "# I want to know all ascii number from A to Z\n",
    "# String package\n",
    "import string\n",
    "for i in string.ascii_letters:\n",
    "    print(f'{i} ascii value is {ord(i)}')"
   ]
  },
  {
   "cell_type": "code",
   "execution_count": 43,
   "id": "4bedc647-f313-44aa-ba15-be9451848248",
   "metadata": {},
   "outputs": [
    {
     "data": {
      "text/plain": [
       "['Formatter',\n",
       " 'Template',\n",
       " '_ChainMap',\n",
       " '__all__',\n",
       " '__builtins__',\n",
       " '__cached__',\n",
       " '__doc__',\n",
       " '__file__',\n",
       " '__loader__',\n",
       " '__name__',\n",
       " '__package__',\n",
       " '__spec__',\n",
       " '_re',\n",
       " '_sentinel_dict',\n",
       " '_string',\n",
       " 'ascii_letters',\n",
       " 'ascii_lowercase',\n",
       " 'ascii_uppercase',\n",
       " 'capwords',\n",
       " 'digits',\n",
       " 'hexdigits',\n",
       " 'octdigits',\n",
       " 'printable',\n",
       " 'punctuation',\n",
       " 'whitespace']"
      ]
     },
     "execution_count": 43,
     "metadata": {},
     "output_type": "execute_result"
    }
   ],
   "source": [
    "dir(string)"
   ]
  },
  {
   "cell_type": "code",
   "execution_count": 57,
   "id": "8903b7b6-ebd8-4164-87e3-4ca430818fd2",
   "metadata": {},
   "outputs": [
    {
     "name": "stdout",
     "output_type": "stream",
     "text": [
      "3077 అ,3078 ఆ,3079 ఇ,3080 ఈ,3081 ఉ,3082 ఊ,3083 ఋ,3084 ఌ,3085 ఍,3086 ఎ,3087 ఏ,3088 ఐ,3089 ఑,3090 ఒ,3091 ఓ,3092 ఔ,3093 క,3094 ఖ,3095 గ,3096 ఘ,3097 ఙ,3098 చ,3099 ఛ,3100 జ,3101 ఝ,3102 ఞ,3103 ట,3104 ఠ,3105 డ,3106 ఢ,3107 ణ,3108 త,3109 థ,3110 ద,3111 ధ,3112 న,3113 ఩,3114 ప,3115 ఫ,3116 బ,3117 భ,3118 మ,3119 య,3120 ర,3121 ఱ,3122 ల,3123 ళ,3124 ఴ,3125 వ,3126 శ,3127 ష,3128 స,3129 హ,3130 ఺,3131 ఻,3132 ఼,3133 ఽ,3134 ా,3135 ి,3136 ీ,3137 ు,3138 ూ,3139 ృ,3140 ౄ,3141 ౅,3142 ె,3143 ే,3144 ై,3145 ౉,3146 ొ,3147 ో,3148 ౌ,3149 ్,3150 ౎,3151 ౏,3152 ౐,3153 ౑,3154 ౒,3155 ౓,3156 ౔,3157 ౕ,3158 ౖ,3159 ౗,3160 ౘ,3161 ౙ,3162 ౚ,3163 ౛,3164 ౜,3165 ౝ,3166 ౞,3167 ౟,3168 ౠ,3169 ౡ,3170 ౢ,3171 ౣ,3172 ౤,3173 ౥,3174 ౦,3175 ౧,3176 ౨,3177 ౩,"
     ]
    }
   ],
   "source": [
    "for i in range(3077,3178):\n",
    "    print(i,chr(i),end=',')\n",
    "    "
   ]
  },
  {
   "cell_type": "code",
   "execution_count": null,
   "id": "bc8991f1-d2aa-434e-8c80-54c96e65936c",
   "metadata": {},
   "outputs": [],
   "source": []
  }
 ],
 "metadata": {
  "kernelspec": {
   "display_name": "Python 3 (ipykernel)",
   "language": "python",
   "name": "python3"
  },
  "language_info": {
   "codemirror_mode": {
    "name": "ipython",
    "version": 3
   },
   "file_extension": ".py",
   "mimetype": "text/x-python",
   "name": "python",
   "nbconvert_exporter": "python",
   "pygments_lexer": "ipython3",
   "version": "3.11.7"
  }
 },
 "nbformat": 4,
 "nbformat_minor": 5
}
