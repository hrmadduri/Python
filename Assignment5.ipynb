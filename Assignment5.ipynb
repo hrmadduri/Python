{
 "cells": [
  {
   "cell_type": "code",
   "execution_count": 1,
   "id": "b4d982f1-78fe-4304-b71f-91699f2be266",
   "metadata": {},
   "outputs": [
    {
     "name": "stdin",
     "output_type": "stream",
     "text": [
      "enter first number:  6\n",
      "enter second number:  7\n",
      "enter third number:  3\n"
     ]
    },
    {
     "name": "stdout",
     "output_type": "stream",
     "text": [
      "Average of 6,7,3 is 5.333333333333333\n"
     ]
    }
   ],
   "source": [
    "# wap ask the user enter 3 numbers calculate average\n",
    "n1=eval(input('enter first number: '))\n",
    "n2=eval(input('enter second number: '))\n",
    "n3=eval(input('enter third number: '))\n",
    "print(f'Average of {n1},{n2},{n3} is {(n1+n2+n3)/3}')"
   ]
  },
  {
   "cell_type": "code",
   "execution_count": 3,
   "id": "e108c2c0-7d9c-4b96-8828-cd454f0bee90",
   "metadata": {},
   "outputs": [
    {
     "name": "stdin",
     "output_type": "stream",
     "text": [
      "enter the radius:  5\n"
     ]
    },
    {
     "name": "stdout",
     "output_type": "stream",
     "text": [
      "Area of the circle with radius 5 is 78.53981633974483\n"
     ]
    }
   ],
   "source": [
    "# wap ask the uer enter radius values find the area of the circle\n",
    "import math\n",
    "radius=eval(input('enter the radius: '))\n",
    "pi=math.pi\n",
    "print(f'Area of the circle with radius {radius} is {pi*radius*radius}')"
   ]
  },
  {
   "cell_type": "code",
   "execution_count": 6,
   "id": "b40e4326-6440-4cde-86c3-930a98ab0230",
   "metadata": {},
   "outputs": [
    {
     "name": "stdin",
     "output_type": "stream",
     "text": [
      "enter bill amount :  50\n",
      "enter tip percent :  10\n"
     ]
    },
    {
     "name": "stdout",
     "output_type": "stream",
     "text": [
      "Tip amount is 5.0 and the total bill with tip is 55.0\n"
     ]
    }
   ],
   "source": [
    "# wap ask the user bill amount,\n",
    "#     ask the user how much tip you want pay in percentage\n",
    "#     calculate totalbill\n",
    "#-----------------------------------------------------------------------------\n",
    "bill=eval(input('enter bill amount : '))\n",
    "tip_percent=eval(input('enter tip percent : '))\n",
    "tip=bill*tip_percent/100\n",
    "print(f'Tip amount is {tip} and the total bill with tip is {bill+tip}')"
   ]
  },
  {
   "cell_type": "code",
   "execution_count": 7,
   "id": "7c1ef0ed-e12f-4e76-884d-b010b794b880",
   "metadata": {},
   "outputs": [
    {
     "name": "stdin",
     "output_type": "stream",
     "text": [
      "enter base :  20\n",
      "enter height :  34\n"
     ]
    },
    {
     "name": "stdout",
     "output_type": "stream",
     "text": [
      "Area of the triangle is 340.0\n"
     ]
    }
   ],
   "source": [
    "#wap ask the user enter base height calculate area of the traingle\n",
    "#-------------------------------------------------------------------------------\n",
    "base=eval(input('enter base : '))\n",
    "height=eval(input('enter height : '))\n",
    "print('Area of the triangle is {}'.format((base*height)/2))"
   ]
  },
  {
   "cell_type": "code",
   "execution_count": 9,
   "id": "b27e9a83-ba2b-4cff-89a3-afbe00b9c449",
   "metadata": {},
   "outputs": [
    {
     "name": "stdin",
     "output_type": "stream",
     "text": [
      "enter breadth :  5\n",
      "enter length :  6\n"
     ]
    },
    {
     "name": "stdout",
     "output_type": "stream",
     "text": [
      "Area of the rectangle is 30\n"
     ]
    }
   ],
   "source": [
    "#wap ask the user enter length and breadth calculate area of the rectangle\n",
    "breadth=eval(input('enter breadth : '))\n",
    "length=eval(input('enter length : '))\n",
    "print('Area of the rectangle is {}'.format(breadth*length))"
   ]
  },
  {
   "cell_type": "code",
   "execution_count": 10,
   "id": "dd60a8ad-da22-4f13-b30a-1d8a1b64ab47",
   "metadata": {},
   "outputs": [
    {
     "name": "stdin",
     "output_type": "stream",
     "text": [
      " 56\n"
     ]
    },
    {
     "name": "stdout",
     "output_type": "stream",
     "text": [
      "56 is a even number\n"
     ]
    }
   ],
   "source": [
    "## wap ask the user enter a number\n",
    "# find it is a even number or odd number\n",
    "#------------------------------------------------------------------------------------------\n",
    "name=eval(input())\n",
    "if(name%2==0):\n",
    "    print(f'{name} is a even number')\n",
    "\n",
    "else:\n",
    "    print(f'{name} is a odd number')"
   ]
  },
  {
   "cell_type": "code",
   "execution_count": 12,
   "id": "8ccaae43-5f09-4f72-ab66-48c02e2e7015",
   "metadata": {},
   "outputs": [
    {
     "name": "stdin",
     "output_type": "stream",
     "text": [
      "enter distance :  60\n",
      "charge in rs:  5\n"
     ]
    },
    {
     "name": "stdout",
     "output_type": "stream",
     "text": [
      "Total cost is 300\n"
     ]
    }
   ],
   "source": [
    "## wap ask the user enter the distance\n",
    "# if distance greater than 25km\n",
    "#      then enter the charge\n",
    "#      print the total cost\n",
    "#otherwise\n",
    "#      print free ride\n",
    "\n",
    "distance=eval(input('enter distance : '))\n",
    "if(distance >25):\n",
    "    charge=eval(input('charge in rs: '))\n",
    "    print(f'Total cost is {distance*charge}')\n",
    "else:\n",
    "    print('Free ride')\n",
    "    "
   ]
  },
  {
   "cell_type": "code",
   "execution_count": 13,
   "id": "9468c47e-0e1c-446d-858b-608b12392b6f",
   "metadata": {},
   "outputs": [
    {
     "name": "stdin",
     "output_type": "stream",
     "text": [
      "enter distance :  80\n",
      "cutoff distance :  25\n"
     ]
    },
    {
     "name": "stdout",
     "output_type": "stream",
     "text": [
      "good news your charge is aplicable for only 55\n"
     ]
    },
    {
     "name": "stdin",
     "output_type": "stream",
     "text": [
      "charge in rs:  2\n"
     ]
    },
    {
     "name": "stdout",
     "output_type": "stream",
     "text": [
      "Total cost is 110\n"
     ]
    }
   ],
   "source": [
    "#-----------------------------------------------------------------------------------------------------------------------------------------\n",
    "# wap ask the user enter the distance\n",
    "# cutoff distance enter 25\n",
    "# if distance greater than 25km\n",
    "#      print(\"good news your charge is aplicable for only remaining of 25\")\n",
    "#      chargeble distance= distance-cutoff\n",
    "#      then enter the charge\n",
    "#      print the total cost\n",
    "#otherwise\n",
    "#      print free ride\n",
    "distance=eval(input('enter distance : '))\n",
    "cutoff=eval(input('cutoff distance : '))\n",
    "if(distance >25):\n",
    "    print(f\"good news your charge is aplicable for only {distance-25}\")\n",
    "    chargebledistance= distance-cutoff\n",
    "    charge=eval(input('charge in rs: '))\n",
    "    print(f'Total cost is {chargebledistance*charge}')\n",
    "else:\n",
    "    print('Free ride')"
   ]
  },
  {
   "cell_type": "code",
   "execution_count": 14,
   "id": "a57dfaa6-1e1a-478b-bd4a-6c8f53c8c21f",
   "metadata": {},
   "outputs": [
    {
     "name": "stdin",
     "output_type": "stream",
     "text": [
      "enter couse name -  data science\n",
      "enter institute name -  OU\n"
     ]
    },
    {
     "name": "stdout",
     "output_type": "stream",
     "text": [
      "you are bad\n"
     ]
    }
   ],
   "source": [
    "#-----------------------------------------------------------------------------------------------------------------------------------------\n",
    "# wap ask the user enter the course\n",
    "# ask the user enter the Institute\n",
    "# if the course equal to data science and institute equal to naresh it\n",
    "#     then you are good\n",
    "# otherwise\n",
    "#     you are bad\n",
    "\n",
    "Course=input('enter couse name - ')\n",
    "institute=input('enter institute name - ')\n",
    "if(Course=='data science' and institute=='naresh it'):\n",
    "    print('you are good')\n",
    "else:\n",
    "    print('you are bad')"
   ]
  },
  {
   "cell_type": "code",
   "execution_count": 15,
   "id": "813316de-0fe5-4998-972f-73c80c85245a",
   "metadata": {},
   "outputs": [
    {
     "name": "stdin",
     "output_type": "stream",
     "text": [
      "enter a number 9\n"
     ]
    },
    {
     "name": "stdout",
     "output_type": "stream",
     "text": [
      "you lost\n"
     ]
    }
   ],
   "source": [
    "# wap ask the user enter a random number between 1 to 10, treat this as number1\n",
    "# ask the user enter another number from keyboard, treat this as number2\n",
    "# if number1 equal to number2\n",
    "#     print you won\n",
    "# otherwise\n",
    "#     print you lost\n",
    "import random\n",
    "n1=random.randint(1,10)\n",
    "n2=eval(input('enter a number'))\n",
    "if(n1==n2):\n",
    "    print('you won')\n",
    "else:\n",
    "    print('you lost')"
   ]
  },
  {
   "cell_type": "code",
   "execution_count": 16,
   "id": "f7154c00-e4ec-4511-bfc1-6b4ce80637a8",
   "metadata": {},
   "outputs": [
    {
     "name": "stdin",
     "output_type": "stream",
     "text": [
      "enter a number 2\n"
     ]
    },
    {
     "name": "stdout",
     "output_type": "stream",
     "text": [
      "two\n"
     ]
    }
   ],
   "source": [
    "# wap ask the user enter number\n",
    "# if number equal to 1 then print one\n",
    "# if number equal to 2 then print two\n",
    "# if number equal to 3 then print three\n",
    "# otherwise  print enter a valid number\n",
    "n1=eval(input('enter a number'))\n",
    "if(n1==1):\n",
    "    print('one')\n",
    "elif(n1==2):\n",
    "    print('two')\n",
    "elif(n1==3):\n",
    "    print('three')\n",
    "else:\n",
    "    print('enter valid number')\n"
   ]
  },
  {
   "cell_type": "code",
   "execution_count": 17,
   "id": "177b1ef5-3186-4876-bdf4-953b7e8bed01",
   "metadata": {},
   "outputs": [
    {
     "name": "stdin",
     "output_type": "stream",
     "text": [
      "enter a number 89\n"
     ]
    },
    {
     "name": "stdout",
     "output_type": "stream",
     "text": [
      "Positive\n"
     ]
    }
   ],
   "source": [
    "# wap ask the user enter a number\n",
    "# if that number greater than zero print postive\n",
    "# if that number less than zero print negative\n",
    "# otherwise print zero\n",
    "n1=eval(input('enter a number'))\n",
    "if(n1>0):\n",
    "    print('Positive')\n",
    "elif(n1<0):\n",
    "    print('Negative')\n",
    "else:\n",
    "    print('Zero')"
   ]
  },
  {
   "cell_type": "code",
   "execution_count": 18,
   "id": "1a3712b3-be68-44a5-b7d9-bf732b615519",
   "metadata": {},
   "outputs": [
    {
     "name": "stdin",
     "output_type": "stream",
     "text": [
      "enter the percentage of marks 0 to 100 40\n"
     ]
    },
    {
     "name": "stdout",
     "output_type": "stream",
     "text": [
      "D Grade\n"
     ]
    }
   ],
   "source": [
    "# WAP ask the user enter the percentage of marks 0 to 100\n",
    "# if percentagw gretaer than 90  print A garde\n",
    "# if percentage between 75 to 90 print B garde\n",
    "# if percentage between 50 to 75 print C grade\n",
    "# if percentage between 35 to 50 print D grade\n",
    "# if percentage less than 35 print Fail\n",
    "n1=eval(input('enter the percentage of marks 0 to 100'))\n",
    "if(n1>=90):\n",
    "    print('A grade')\n",
    "elif(n1<90 and n1>=75):\n",
    "    print('B Grade')\n",
    "elif(n1<75 and n1>=50):\n",
    "    print('C Grade')\n",
    "elif(n1<50 and n1>=35):\n",
    "    print('D Grade')\n",
    "elif(n1<35):\n",
    "    print('Fail')"
   ]
  },
  {
   "cell_type": "code",
   "execution_count": 19,
   "id": "5518b016-2fd7-41d8-a796-75461a4b711b",
   "metadata": {},
   "outputs": [
    {
     "name": "stdin",
     "output_type": "stream",
     "text": [
      "Enter the age -  186\n"
     ]
    },
    {
     "name": "stdout",
     "output_type": "stream",
     "text": [
      "you are lucky\n"
     ]
    }
   ],
   "source": [
    "# WAP ask the user enter the age\n",
    "# if the age greater tahn 100 print you are lucky\n",
    "# if the age gretaer than 75 print old age\n",
    "# if the age  between 50 to 75 print ss\n",
    "# if the age between  30 tp 50 print MA\n",
    "# if the age between  15 to 30 print young age\n",
    "# if the afe between less than 15 print kid\n",
    "Age=eval(input('Enter the age - '))\n",
    "if(Age>100):\n",
    "         print('you are lucky')\n",
    "elif(Age>75):\n",
    "    print('old age')\n",
    "elif(Age>=50 and Age<75):\n",
    "    print('ss')\n",
    "elif(Age>=30 and Age<50):\n",
    "    print('MA')\n",
    "elif(Age>=15 and Age<30):\n",
    "    print('young age')\n",
    "elif(Age<15):\n",
    "    print('kid')"
   ]
  },
  {
   "cell_type": "code",
   "execution_count": null,
   "id": "f225a78e-4f1e-4d32-a88d-5338c7c6d605",
   "metadata": {},
   "outputs": [],
   "source": []
  }
 ],
 "metadata": {
  "kernelspec": {
   "display_name": "Python 3 (ipykernel)",
   "language": "python",
   "name": "python3"
  },
  "language_info": {
   "codemirror_mode": {
    "name": "ipython",
    "version": 3
   },
   "file_extension": ".py",
   "mimetype": "text/x-python",
   "name": "python",
   "nbconvert_exporter": "python",
   "pygments_lexer": "ipython3",
   "version": "3.11.7"
  }
 },
 "nbformat": 4,
 "nbformat_minor": 5
}
