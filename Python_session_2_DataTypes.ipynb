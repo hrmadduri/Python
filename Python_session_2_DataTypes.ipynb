{
 "cells": [
  {
   "cell_type": "markdown",
   "id": "0969d425-e151-45f7-b6d4-e67bacf68012",
   "metadata": {},
   "source": [
    " - binary representation\n",
    "   \n",
    " - octa representation\n",
    "   \n",
    " - hexa representation"
   ]
  },
  {
   "cell_type": "markdown",
   "id": "d894f75a-2a48-4b0a-ae2a-4b5b87d0896c",
   "metadata": {},
   "source": [
    "**Binary**\n",
    "\n",
    "- bi mean 2\n",
    "\n",
    "- so it requires 2 digits\n",
    "\n",
    "- so it will represent with only 0 and 1\n",
    "  \n",
    "- correct representation is 0b10, 0B0111 (alwarys starts with 0b or 0B)\n",
    "- wrong represention is 0b102, 0b007 (2 and 7 will not be binary so it is wrong."
   ]
  },
  {
   "cell_type": "code",
   "execution_count": 1,
   "id": "ecf17567-4d88-433d-949b-c6ec27576686",
   "metadata": {},
   "outputs": [
    {
     "data": {
      "text/plain": [
       "7"
      ]
     },
     "execution_count": 1,
     "metadata": {},
     "output_type": "execute_result"
    }
   ],
   "source": [
    "0b111"
   ]
  },
  {
   "cell_type": "code",
   "execution_count": 3,
   "id": "a97c6c6a-bd8f-4684-adcb-9d8533b9b8a8",
   "metadata": {},
   "outputs": [
    {
     "data": {
      "text/plain": [
       "9"
      ]
     },
     "execution_count": 3,
     "metadata": {},
     "output_type": "execute_result"
    }
   ],
   "source": [
    "0b1001"
   ]
  },
  {
   "cell_type": "code",
   "execution_count": 4,
   "id": "ba109219-d73c-4ba1-841e-412a953eb744",
   "metadata": {},
   "outputs": [
    {
     "data": {
      "text/plain": [
       "15"
      ]
     },
     "execution_count": 4,
     "metadata": {},
     "output_type": "execute_result"
    }
   ],
   "source": [
    "0b1111"
   ]
  },
  {
   "cell_type": "code",
   "execution_count": 5,
   "id": "ea92488f-2b63-4461-bcb5-59adfbfb7c37",
   "metadata": {},
   "outputs": [
    {
     "data": {
      "text/plain": [
       "59"
      ]
     },
     "execution_count": 5,
     "metadata": {},
     "output_type": "execute_result"
    }
   ],
   "source": [
    "0b111011"
   ]
  },
  {
   "cell_type": "markdown",
   "id": "8af037cf-662d-47f4-8575-e3de0d43caf7",
   "metadata": {},
   "source": [
    "**octa**\n",
    "\n",
    "- octa mean 8\n",
    "\n",
    "- so it requires 8 digits\n",
    "\n",
    "- so it will represent with only 0 1 2 3 4 5 6 7\n",
    "  \n",
    "- correct representation is 0o10, 0O0111 (alwarys starts with 0o or 0O)\n",
    "\n",
    "- wrong represention is 0o108, 0o009 (8 and 9 will not be in octa representation so it is wrong)."
   ]
  },
  {
   "cell_type": "code",
   "execution_count": 6,
   "id": "d2fb6c1a-f8d5-4671-a61b-d083f61c1e5b",
   "metadata": {},
   "outputs": [
    {
     "data": {
      "text/plain": [
       "83"
      ]
     },
     "execution_count": 6,
     "metadata": {},
     "output_type": "execute_result"
    }
   ],
   "source": [
    "0o123"
   ]
  },
  {
   "cell_type": "code",
   "execution_count": 7,
   "id": "acb30bd8-aa86-48c4-a43b-f19b3970bcaf",
   "metadata": {},
   "outputs": [
    {
     "data": {
      "text/plain": [
       "668"
      ]
     },
     "execution_count": 7,
     "metadata": {},
     "output_type": "execute_result"
    }
   ],
   "source": [
    "0o1234"
   ]
  },
  {
   "cell_type": "markdown",
   "id": "f503de1c-8b8e-41fe-8524-4c24712df16b",
   "metadata": {},
   "source": [
    "**hexa**\n",
    "\n",
    "- hexa mean 16\n",
    "\n",
    "- so it requires 16 digits\n",
    "\n",
    "- so it will represent with only 0 1 2 3 4 5 6 7 8 9 A(10) B(11) C D E F \n",
    "  \n",
    "- correct representation is 0xF9, 0X0cd1e (always starts with 0x or 0X)\n",
    "\n",
    "- wrong represention is 0o108G, 0o00H9 (G and H will not be in Hexa representation so it is wrong)."
   ]
  },
  {
   "cell_type": "code",
   "execution_count": 9,
   "id": "664b9b75-268a-4d55-80e0-f679c5ec634c",
   "metadata": {},
   "outputs": [
    {
     "data": {
      "text/plain": [
       "2748"
      ]
     },
     "execution_count": 9,
     "metadata": {},
     "output_type": "execute_result"
    }
   ],
   "source": [
    "0xabc"
   ]
  },
  {
   "cell_type": "code",
   "execution_count": 10,
   "id": "736d403b-f898-4912-8ff4-7621934b1f8e",
   "metadata": {},
   "outputs": [
    {
     "data": {
      "text/plain": [
       "True"
      ]
     },
     "execution_count": 10,
     "metadata": {},
     "output_type": "execute_result"
    }
   ],
   "source": [
    "bool(200)\n"
   ]
  },
  {
   "cell_type": "code",
   "execution_count": 12,
   "id": "c48e9ba0-bb72-452b-a96a-1c8a936595f9",
   "metadata": {},
   "outputs": [
    {
     "data": {
      "text/plain": [
       "True"
      ]
     },
     "execution_count": 12,
     "metadata": {},
     "output_type": "execute_result"
    }
   ],
   "source": [
    "bool(-10)\n"
   ]
  },
  {
   "cell_type": "code",
   "execution_count": null,
   "id": "be89d68d-2ed6-499a-acd3-b880b6274447",
   "metadata": {},
   "outputs": [],
   "source": []
  }
 ],
 "metadata": {
  "kernelspec": {
   "display_name": "Python 3 (ipykernel)",
   "language": "python",
   "name": "python3"
  },
  "language_info": {
   "codemirror_mode": {
    "name": "ipython",
    "version": 3
   },
   "file_extension": ".py",
   "mimetype": "text/x-python",
   "name": "python",
   "nbconvert_exporter": "python",
   "pygments_lexer": "ipython3",
   "version": "3.11.7"
  }
 },
 "nbformat": 4,
 "nbformat_minor": 5
}
