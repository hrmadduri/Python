{
 "cells": [
  {
   "cell_type": "markdown",
   "id": "5ac79308-a848-4303-94f9-c9c3de679368",
   "metadata": {},
   "source": [
    "- we can store the output values by using append operations by taking empty list variable"
   ]
  },
  {
   "cell_type": "code",
   "execution_count": 1,
   "id": "bef7764e-8c96-42bb-b0cf-e42d63e82b8a",
   "metadata": {},
   "outputs": [
    {
     "data": {
      "text/plain": [
       "[0, 1, 4, 9, 16, 25, 36, 49, 64, 81]"
      ]
     },
     "execution_count": 1,
     "metadata": {},
     "output_type": "execute_result"
    }
   ],
   "source": [
    "square_list=[]\n",
    "for i in range(10):\n",
    "    square_list.append(i*i)\n",
    "\n",
    "square_list"
   ]
  },
  {
   "cell_type": "markdown",
   "id": "c88be89d-0441-4d1e-9ffe-44e2cd2faa95",
   "metadata": {},
   "source": [
    "$pattern-1$\n",
    "\n",
    "**Only for loop**"
   ]
  },
  {
   "cell_type": "code",
   "execution_count": null,
   "id": "dc32751a-00fe-4b6d-8a43-4db2db1016bc",
   "metadata": {},
   "outputs": [],
   "source": [
    "#syntax is \n",
    "#[<output> <for loop>]\n"
   ]
  },
  {
   "cell_type": "code",
   "execution_count": 2,
   "id": "541ace92-42bb-475f-b146-bbb75a5b0b13",
   "metadata": {},
   "outputs": [
    {
     "data": {
      "text/plain": [
       "[0, 1, 4, 9, 16, 25, 36, 49, 64, 81]"
      ]
     },
     "execution_count": 2,
     "metadata": {},
     "output_type": "execute_result"
    }
   ],
   "source": [
    "square_list=[]\n",
    "for i in range(10):\n",
    "    square_list.append(i*i)\n",
    "square_list\n",
    "\n",
    "#q1) what is output?i*i\n",
    "#q2) what is output listname? square_list\n",
    "#q3) what is for loop ? for i in range(10)\n",
    "#[<output> <for loop>]\n",
    "\n",
    "[i*i for i in range(10)]"
   ]
  },
  {
   "cell_type": "code",
   "execution_count": 3,
   "id": "ab03ffc2-4374-49da-9f76-d00232945a41",
   "metadata": {},
   "outputs": [
    {
     "data": {
      "text/plain": [
       "[0.0,\n",
       " 1.0,\n",
       " 1.4142135623730951,\n",
       " 1.7320508075688772,\n",
       " 2.0,\n",
       " 2.23606797749979,\n",
       " 2.449489742783178,\n",
       " 2.6457513110645907,\n",
       " 2.8284271247461903,\n",
       " 3.0]"
      ]
     },
     "execution_count": 3,
     "metadata": {},
     "output_type": "execute_result"
    }
   ],
   "source": [
    "import math\n",
    "[math.sqrt(i) for i in range(10)]"
   ]
  },
  {
   "cell_type": "code",
   "execution_count": 4,
   "id": "54657e13-ee2b-4a03-bc6d-ab53561644a2",
   "metadata": {},
   "outputs": [
    {
     "data": {
      "text/plain": [
       "['Hyd', 'Mumbai', 'Chennai', 'Blr']"
      ]
     },
     "execution_count": 4,
     "metadata": {},
     "output_type": "execute_result"
    }
   ],
   "source": [
    "#Q2 ) create upper case list from l1=['hyd','mumbai','chennai','blr']\n",
    "l1=['hyd','mumbai','chennai','blr']\n",
    "[i.title() for i in l1]"
   ]
  },
  {
   "cell_type": "code",
   "execution_count": 5,
   "id": "eb89e25d-85c8-4991-9ac6-be14fd7d5547",
   "metadata": {},
   "outputs": [
    {
     "data": {
      "text/plain": [
       "['hyd', 'mumbai', 'chennai', 'blr']"
      ]
     },
     "execution_count": 5,
     "metadata": {},
     "output_type": "execute_result"
    }
   ],
   "source": [
    "#Q3) create lower case of l2=['Hyd', 'Mumbai', 'Chennai', 'Blr']\n",
    "l2=['Hyd', 'Mumbai', 'Chennai', 'Blr']\n",
    "[i.lower() for i in l2]"
   ]
  },
  {
   "cell_type": "code",
   "execution_count": 10,
   "id": "7155f7de-3a73-4ccb-9475-bfc0b34b509c",
   "metadata": {},
   "outputs": [
    {
     "data": {
      "text/plain": [
       "6"
      ]
     },
     "execution_count": 10,
     "metadata": {},
     "output_type": "execute_result"
    }
   ],
   "source": [
    "l2=['Hyd', 'Mumbai', 'Chennai', 'Blr']\n",
    "#sum of indexes of all elements\n",
    "l3=[l2.index(i) for i in l2]\n",
    "sum(l3)"
   ]
  },
  {
   "cell_type": "markdown",
   "id": "9bee0007-ae78-46c6-995a-4a411bc7454a",
   "metadata": {},
   "source": [
    "$pattern -2$\n",
    "\n",
    "**for loop - if condition**"
   ]
  },
  {
   "cell_type": "code",
   "execution_count": null,
   "id": "10347fe6-327c-4a2c-82fa-878a452f418c",
   "metadata": {},
   "outputs": [],
   "source": [
    "#syntax\n",
    "#[<output> <for loop> <if condition>]"
   ]
  },
  {
   "cell_type": "code",
   "execution_count": 12,
   "id": "00083615-c290-4c50-90aa-da287d9e3ef3",
   "metadata": {},
   "outputs": [
    {
     "data": {
      "text/plain": [
       "['Mumbai', 'Chennai']"
      ]
     },
     "execution_count": 12,
     "metadata": {},
     "output_type": "execute_result"
    }
   ],
   "source": [
    "#Q5) l1=['Hyd', 'Mumbai', 'Chennai', 'Blr']\n",
    "# ans = ['Mumbai','Chennai']\n",
    "# we want elements which are len of element>4\n",
    "l1=['Hyd', 'Mumbai', 'Chennai', 'Blr']\n",
    "[i for i in l1 if len(i)>4]"
   ]
  },
  {
   "cell_type": "code",
   "execution_count": 14,
   "id": "4e16ea98-864f-454d-ac45-a9f6138a9300",
   "metadata": {},
   "outputs": [
    {
     "data": {
      "text/plain": [
       "['Mum#bai', 'Chen#nai']"
      ]
     },
     "execution_count": 14,
     "metadata": {},
     "output_type": "execute_result"
    }
   ],
   "source": [
    "l1=['Hyd', 'Mum#bai', 'Chen#nai', 'Blr']\n",
    "[i for i in l1 if '#' in i]"
   ]
  },
  {
   "cell_type": "code",
   "execution_count": 17,
   "id": "8a4f3d10-b01e-4b40-bd10-13fcaa4ba975",
   "metadata": {},
   "outputs": [
    {
     "data": {
      "text/plain": [
       "['Hyd', 'Blr']"
      ]
     },
     "execution_count": 17,
     "metadata": {},
     "output_type": "execute_result"
    }
   ],
   "source": [
    "l1=['Hyd', 'mumbai', 'chennai', 'Blr']\n",
    "#get the items with first capital letter\n",
    "[i for i in l1 if i[0].isupper()]"
   ]
  },
  {
   "cell_type": "code",
   "execution_count": 25,
   "id": "4c8e7d27-252a-44f5-8cb8-bd9a045b511e",
   "metadata": {},
   "outputs": [
    {
     "data": {
      "text/plain": [
       "'omkar'"
      ]
     },
     "execution_count": 25,
     "metadata": {},
     "output_type": "execute_result"
    }
   ],
   "source": [
    "str1='omkar.nallagoni@cognizant.com,virat.kohli@rcb.com,rohit.sharma@mi.com'\n",
    "l1=str1.split(',')\n",
    "l1[0].index('.')\n",
    "l1[0][:l1[0].index('.')]"
   ]
  },
  {
   "cell_type": "code",
   "execution_count": 26,
   "id": "053fa488-8eb3-42d6-82c2-0f35f0c8f5e8",
   "metadata": {},
   "outputs": [
    {
     "name": "stdout",
     "output_type": "stream",
     "text": [
      "omkar\n",
      "virat\n",
      "rohit\n"
     ]
    }
   ],
   "source": [
    "str1='omkar.nallagoni@cognizant.com,virat.kohli@rcb.com,rohit.sharma@mi.com'\n",
    "l1=str1.split(',')\n",
    "for i in l1:\n",
    "    print(i[:i.index('.')])"
   ]
  },
  {
   "cell_type": "code",
   "execution_count": 30,
   "id": "cd553148-2cee-45c8-91a8-8701f3ce453f",
   "metadata": {},
   "outputs": [
    {
     "data": {
      "text/plain": [
       "'nallagoni'"
      ]
     },
     "execution_count": 30,
     "metadata": {},
     "output_type": "execute_result"
    }
   ],
   "source": [
    "str1='omkar.nallagoni@cognizant.com'\n",
    "str1\n",
    "str1[6:str1.index('@')]"
   ]
  },
  {
   "cell_type": "code",
   "execution_count": 28,
   "id": "a06d18aa-cee7-43be-ad73-d607877d42be",
   "metadata": {},
   "outputs": [
    {
     "data": {
      "text/plain": [
       "['omkar', 'virat', 'rohit']"
      ]
     },
     "execution_count": 28,
     "metadata": {},
     "output_type": "execute_result"
    }
   ],
   "source": [
    "str1='omkar.nallagoni@cognizant.com,virat.kohli@rcb.com,rohit.sharma@mi.com'\n",
    "l1=str1.split(',')\n",
    "[i[:i.index('.')] for i in l1]"
   ]
  },
  {
   "cell_type": "code",
   "execution_count": 31,
   "id": "2b6bd976-a609-4354-8a8a-bcc7112ed345",
   "metadata": {},
   "outputs": [
    {
     "data": {
      "text/plain": [
       "['nallagoni', 'kohli', 'sharma']"
      ]
     },
     "execution_count": 31,
     "metadata": {},
     "output_type": "execute_result"
    }
   ],
   "source": [
    "str1='omkar.nallagoni@cognizant.com,virat.kohli@rcb.com,rohit.sharma@mi.com'\n",
    "l1=str1.split(',')\n",
    "[i[i.index('.')+1:i.index('@')] for i in l1]\n",
    "\n"
   ]
  },
  {
   "cell_type": "code",
   "execution_count": 32,
   "id": "862240e9-bc49-4d7b-bb66-2cfbd4ba5939",
   "metadata": {},
   "outputs": [
    {
     "ename": "AttributeError",
     "evalue": "'str' object has no attribute 'reverse'",
     "output_type": "error",
     "traceback": [
      "\u001b[0;31m---------------------------------------------------------------------------\u001b[0m",
      "\u001b[0;31mAttributeError\u001b[0m                            Traceback (most recent call last)",
      "Cell \u001b[0;32mIn[32], line 3\u001b[0m\n\u001b[1;32m      1\u001b[0m str1\u001b[38;5;241m=\u001b[39m\u001b[38;5;124m'\u001b[39m\u001b[38;5;124momkar.nallagoni@cognizant.com,virat.kohli@rcb.com,rohit.sharma@mi.com\u001b[39m\u001b[38;5;124m'\u001b[39m\n\u001b[1;32m      2\u001b[0m l1\u001b[38;5;241m=\u001b[39mstr1\u001b[38;5;241m.\u001b[39msplit(\u001b[38;5;124m'\u001b[39m\u001b[38;5;124m,\u001b[39m\u001b[38;5;124m'\u001b[39m)\n\u001b[0;32m----> 3\u001b[0m [i\u001b[38;5;241m.\u001b[39mreverse()[i\u001b[38;5;241m.\u001b[39mindex(\u001b[38;5;124m'\u001b[39m\u001b[38;5;124m.\u001b[39m\u001b[38;5;124m'\u001b[39m)\u001b[38;5;241m+\u001b[39m\u001b[38;5;241m1\u001b[39m:i\u001b[38;5;241m.\u001b[39mindex(\u001b[38;5;124m'\u001b[39m\u001b[38;5;124m@\u001b[39m\u001b[38;5;124m'\u001b[39m)] \u001b[38;5;28;01mfor\u001b[39;00m i \u001b[38;5;129;01min\u001b[39;00m l1]\n",
      "Cell \u001b[0;32mIn[32], line 3\u001b[0m, in \u001b[0;36m<listcomp>\u001b[0;34m(.0)\u001b[0m\n\u001b[1;32m      1\u001b[0m str1\u001b[38;5;241m=\u001b[39m\u001b[38;5;124m'\u001b[39m\u001b[38;5;124momkar.nallagoni@cognizant.com,virat.kohli@rcb.com,rohit.sharma@mi.com\u001b[39m\u001b[38;5;124m'\u001b[39m\n\u001b[1;32m      2\u001b[0m l1\u001b[38;5;241m=\u001b[39mstr1\u001b[38;5;241m.\u001b[39msplit(\u001b[38;5;124m'\u001b[39m\u001b[38;5;124m,\u001b[39m\u001b[38;5;124m'\u001b[39m)\n\u001b[0;32m----> 3\u001b[0m [i\u001b[38;5;241m.\u001b[39mreverse()[i\u001b[38;5;241m.\u001b[39mindex(\u001b[38;5;124m'\u001b[39m\u001b[38;5;124m.\u001b[39m\u001b[38;5;124m'\u001b[39m)\u001b[38;5;241m+\u001b[39m\u001b[38;5;241m1\u001b[39m:i\u001b[38;5;241m.\u001b[39mindex(\u001b[38;5;124m'\u001b[39m\u001b[38;5;124m@\u001b[39m\u001b[38;5;124m'\u001b[39m)] \u001b[38;5;28;01mfor\u001b[39;00m i \u001b[38;5;129;01min\u001b[39;00m l1]\n",
      "\u001b[0;31mAttributeError\u001b[0m: 'str' object has no attribute 'reverse'"
     ]
    }
   ],
   "source": [
    "str1='omkar.nallagoni@cognizant.com,virat.kohli@rcb.com,rohit.sharma@mi.com'\n",
    "l1=str1.split(',')\n",
    "[i.reverse()[i.index('.')+1:i.index('@')] for i in l1]"
   ]
  },
  {
   "cell_type": "markdown",
   "id": "8c976c74-4acc-44ae-9ea2-cfb182b531b0",
   "metadata": {},
   "source": [
    "$Pattern-3$\n",
    "\n",
    "**if-else**"
   ]
  },
  {
   "cell_type": "code",
   "execution_count": null,
   "id": "beb49a35-72b9-48ac-8435-6c12c58f1e93",
   "metadata": {},
   "outputs": [],
   "source": [
    "[<output> <forloop>]     ----for loop\n",
    "[<output> <forloop> <if condition>]   ----for-if\n",
    "[<if_output> <if> <else> <else_output> <for>]   ......if-else"
   ]
  },
  {
   "cell_type": "markdown",
   "id": "ca80b45e-a24a-47bd-865c-c46e43f67414",
   "metadata": {},
   "source": [
    "**even-odd**"
   ]
  },
  {
   "cell_type": "code",
   "execution_count": 40,
   "id": "55a10ec2-221a-4617-8e70-64fb2e999715",
   "metadata": {},
   "outputs": [
    {
     "data": {
      "text/plain": [
       "['1 is odd',\n",
       " '2 is even',\n",
       " '3 is odd',\n",
       " '4 is even',\n",
       " '5 is odd',\n",
       " '6 is even',\n",
       " '7 is odd',\n",
       " '8 is even',\n",
       " '9 is odd',\n",
       " '10 is even',\n",
       " '11 is odd',\n",
       " '12 is even',\n",
       " '13 is odd',\n",
       " '14 is even',\n",
       " '15 is odd',\n",
       " '16 is even',\n",
       " '17 is odd',\n",
       " '18 is even',\n",
       " '19 is odd']"
      ]
     },
     "execution_count": 40,
     "metadata": {},
     "output_type": "execute_result"
    }
   ],
   "source": [
    "op_list=[]\n",
    "for i in range(1,20):\n",
    "    if i%2==0:\n",
    "        op_list.append(f'{i} is even')\n",
    "    else:\n",
    "        op_list.append(f'{i} is odd')\n",
    "\n",
    "op_list"
   ]
  },
  {
   "cell_type": "code",
   "execution_count": 42,
   "id": "87c05967-b48c-433c-bcd1-cfb7964d69e4",
   "metadata": {},
   "outputs": [
    {
     "data": {
      "text/plain": [
       "['odd :1',\n",
       " 'even :2',\n",
       " 'odd :3',\n",
       " 'even :4',\n",
       " 'odd :5',\n",
       " 'even :6',\n",
       " 'odd :7',\n",
       " 'even :8',\n",
       " 'odd :9',\n",
       " 'even :10',\n",
       " 'odd :11',\n",
       " 'even :12',\n",
       " 'odd :13',\n",
       " 'even :14',\n",
       " 'odd :15',\n",
       " 'even :16',\n",
       " 'odd :17',\n",
       " 'even :18',\n",
       " 'odd :19']"
      ]
     },
     "execution_count": 42,
     "metadata": {},
     "output_type": "execute_result"
    }
   ],
   "source": [
    "#<if_output> <if> <else> <else_output> <for>]\n",
    "op_list=[]\n",
    "[f'even :{i}' if i%2==0 else f'odd :{i}' for i in range(1,20)]"
   ]
  },
  {
   "cell_type": "code",
   "execution_count": null,
   "id": "d772cfc7-c4ce-4396-b7ee-9cb4721b2f93",
   "metadata": {},
   "outputs": [],
   "source": [
    "#there is no elif concept in list comprehension"
   ]
  }
 ],
 "metadata": {
  "kernelspec": {
   "display_name": "Python 3 (ipykernel)",
   "language": "python",
   "name": "python3"
  },
  "language_info": {
   "codemirror_mode": {
    "name": "ipython",
    "version": 3
   },
   "file_extension": ".py",
   "mimetype": "text/x-python",
   "name": "python",
   "nbconvert_exporter": "python",
   "pygments_lexer": "ipython3",
   "version": "3.11.7"
  }
 },
 "nbformat": 4,
 "nbformat_minor": 5
}
