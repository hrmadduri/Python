{
 "cells": [
  {
   "cell_type": "markdown",
   "id": "b708d4ff-4a5c-4c4e-aafe-3dc7cb0fcf8e",
   "metadata": {},
   "source": [
    "**try and except**\n",
    "- Generally in real time we write n number of python lines\n",
    "- there is a situation we might get error, that error might be unknown\n",
    "- This unknown error do not harm even though we get error we need to proceed further\n",
    "- Also we need to catch that error\n",
    "- because we already know python is a sequential process\n",
    "- means the lines will execute step by step\n",
    "- suppose you have an error at particular line the code execution will stop at that line\n",
    "- but you know the error is not harmful so you want to continue the execution\n",
    "- then we require try and exception"
   ]
  },
  {
   "cell_type": "code",
   "execution_count": null,
   "id": "b71796de-11f4-4332-9c31-493eca869a8e",
   "metadata": {},
   "outputs": [],
   "source": [
    "num1=eval(input('enter number 1'))\n",
    "num2=eval(input('enter number 2'))\n",
    "add=n1+n2\n",
    "print(add)\n",
    "try"
   ]
  },
  {
   "cell_type": "code",
   "execution_count": 3,
   "id": "0741b514-7580-44ed-b095-a134ab99449b",
   "metadata": {},
   "outputs": [
    {
     "name": "stdin",
     "output_type": "stream",
     "text": [
      "enter number 1 98\n",
      "enter number 2 sdaf\n"
     ]
    },
    {
     "name": "stdout",
     "output_type": "stream",
     "text": [
      "enter valid integer\n"
     ]
    }
   ],
   "source": [
    "try:\n",
    "    n1=eval(input('enter number 1'))\n",
    "    n2=eval(input('enter number 2'))\n",
    "    add=n1+n2\n",
    "    print(add)\n",
    "except:\n",
    "    print('enter valid integer')"
   ]
  },
  {
   "cell_type": "markdown",
   "id": "6dce39d5-759b-4a6b-a929-4fb27731a4d4",
   "metadata": {},
   "source": [
    "**Note - Try and except block is used to catch the errors**"
   ]
  },
  {
   "cell_type": "code",
   "execution_count": 8,
   "id": "5b596ffa-586d-47b8-8505-88384684d574",
   "metadata": {},
   "outputs": [
    {
     "name": "stdin",
     "output_type": "stream",
     "text": [
      "enter number 1 10\n",
      "enter number 2 0\n"
     ]
    },
    {
     "name": "stdout",
     "output_type": "stream",
     "text": [
      "the error is division by zero\n"
     ]
    }
   ],
   "source": [
    "try:\n",
    "    n1=eval(input('enter number 1'))\n",
    "    n2=eval(input('enter number 2'))\n",
    "    add=n1+n2\n",
    "    div=n1/n2\n",
    "    print(add)\n",
    "except Exception as e:\n",
    "    print(f'the error is {e}')"
   ]
  },
  {
   "cell_type": "code",
   "execution_count": 2,
   "id": "9460b34a-3401-4e8e-83e3-c69a93849944",
   "metadata": {},
   "outputs": [
    {
     "name": "stdin",
     "output_type": "stream",
     "text": [
      " e\n"
     ]
    },
    {
     "name": "stdout",
     "output_type": "stream",
     "text": [
      "name 'e' is not defined\n"
     ]
    }
   ],
   "source": [
    "try:\n",
    "    name=eval(input())\n",
    "    if(name%2==0):\n",
    "        print(f'{name} is a even number')\n",
    "    \n",
    "    else:\n",
    "        print(f'{name} is a odd number')\n",
    "except Exception as e:\n",
    "    print(e)"
   ]
  },
  {
   "cell_type": "code",
   "execution_count": null,
   "id": "56ed5d56-d9dd-4f22-b259-593c400437c3",
   "metadata": {},
   "outputs": [],
   "source": []
  }
 ],
 "metadata": {
  "kernelspec": {
   "display_name": "Python 3 (ipykernel)",
   "language": "python",
   "name": "python3"
  },
  "language_info": {
   "codemirror_mode": {
    "name": "ipython",
    "version": 3
   },
   "file_extension": ".py",
   "mimetype": "text/x-python",
   "name": "python",
   "nbconvert_exporter": "python",
   "pygments_lexer": "ipython3",
   "version": "3.11.7"
  }
 },
 "nbformat": 4,
 "nbformat_minor": 5
}
